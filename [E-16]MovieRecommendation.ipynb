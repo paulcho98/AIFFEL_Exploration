{
 "cells": [
  {
   "cell_type": "markdown",
   "id": "7e7d6d9d",
   "metadata": {},
   "source": [
    "# Exploration 노드 16"
   ]
  },
  {
   "cell_type": "markdown",
   "id": "c6356685",
   "metadata": {},
   "source": [
    "## 라이브러리 불러오기"
   ]
  },
  {
   "cell_type": "code",
   "execution_count": 1,
   "id": "3928b5ce",
   "metadata": {},
   "outputs": [],
   "source": [
    "import datetime as dt\n",
    "from pathlib import Path\n",
    "import os\n",
    "\n",
    "import numpy as np\n",
    "import pandas as pd\n",
    "import matplotlib.pyplot as plt\n",
    "import seaborn as sns\n",
    "\n",
    "from datetime import datetime\n",
    "import time\n",
    "\n",
    "import warnings\n",
    "warnings.filterwarnings('ignore')"
   ]
  },
  {
   "cell_type": "code",
   "execution_count": 2,
   "id": "a3365355",
   "metadata": {},
   "outputs": [],
   "source": [
    "import tensorflow as tf\n",
    "from tensorflow.keras.layers import Input, Dense, Dropout, GRU\n",
    "from tensorflow.keras.losses import categorical_crossentropy\n",
    "from tensorflow.keras.models import Model\n",
    "from tensorflow.keras.optimizers import Adam\n",
    "from tensorflow.keras.utils import to_categorical\n",
    "from tqdm import tqdm"
   ]
  },
  {
   "cell_type": "markdown",
   "id": "13f93b46",
   "metadata": {},
   "source": [
    "## 데이터 불러오기"
   ]
  },
  {
   "cell_type": "code",
   "execution_count": 3,
   "id": "0c425849",
   "metadata": {},
   "outputs": [
    {
     "data": {
      "text/html": [
       "<div>\n",
       "<style scoped>\n",
       "    .dataframe tbody tr th:only-of-type {\n",
       "        vertical-align: middle;\n",
       "    }\n",
       "\n",
       "    .dataframe tbody tr th {\n",
       "        vertical-align: top;\n",
       "    }\n",
       "\n",
       "    .dataframe thead th {\n",
       "        text-align: right;\n",
       "    }\n",
       "</style>\n",
       "<table border=\"1\" class=\"dataframe\">\n",
       "  <thead>\n",
       "    <tr style=\"text-align: right;\">\n",
       "      <th></th>\n",
       "      <th>index</th>\n",
       "      <th>UserId</th>\n",
       "      <th>ItemId</th>\n",
       "      <th>Rating</th>\n",
       "      <th>Time</th>\n",
       "    </tr>\n",
       "  </thead>\n",
       "  <tbody>\n",
       "    <tr>\n",
       "      <th>0</th>\n",
       "      <td>31</td>\n",
       "      <td>1</td>\n",
       "      <td>3186</td>\n",
       "      <td>4</td>\n",
       "      <td>978300019</td>\n",
       "    </tr>\n",
       "    <tr>\n",
       "      <th>1</th>\n",
       "      <td>22</td>\n",
       "      <td>1</td>\n",
       "      <td>1270</td>\n",
       "      <td>5</td>\n",
       "      <td>978300055</td>\n",
       "    </tr>\n",
       "    <tr>\n",
       "      <th>2</th>\n",
       "      <td>27</td>\n",
       "      <td>1</td>\n",
       "      <td>1721</td>\n",
       "      <td>4</td>\n",
       "      <td>978300055</td>\n",
       "    </tr>\n",
       "    <tr>\n",
       "      <th>3</th>\n",
       "      <td>37</td>\n",
       "      <td>1</td>\n",
       "      <td>1022</td>\n",
       "      <td>5</td>\n",
       "      <td>978300055</td>\n",
       "    </tr>\n",
       "    <tr>\n",
       "      <th>4</th>\n",
       "      <td>24</td>\n",
       "      <td>1</td>\n",
       "      <td>2340</td>\n",
       "      <td>3</td>\n",
       "      <td>978300103</td>\n",
       "    </tr>\n",
       "    <tr>\n",
       "      <th>...</th>\n",
       "      <td>...</td>\n",
       "      <td>...</td>\n",
       "      <td>...</td>\n",
       "      <td>...</td>\n",
       "      <td>...</td>\n",
       "    </tr>\n",
       "    <tr>\n",
       "      <th>1000204</th>\n",
       "      <td>1000019</td>\n",
       "      <td>6040</td>\n",
       "      <td>2917</td>\n",
       "      <td>4</td>\n",
       "      <td>997454429</td>\n",
       "    </tr>\n",
       "    <tr>\n",
       "      <th>1000205</th>\n",
       "      <td>999988</td>\n",
       "      <td>6040</td>\n",
       "      <td>1921</td>\n",
       "      <td>4</td>\n",
       "      <td>997454464</td>\n",
       "    </tr>\n",
       "    <tr>\n",
       "      <th>1000206</th>\n",
       "      <td>1000172</td>\n",
       "      <td>6040</td>\n",
       "      <td>1784</td>\n",
       "      <td>3</td>\n",
       "      <td>997454464</td>\n",
       "    </tr>\n",
       "    <tr>\n",
       "      <th>1000207</th>\n",
       "      <td>1000167</td>\n",
       "      <td>6040</td>\n",
       "      <td>161</td>\n",
       "      <td>3</td>\n",
       "      <td>997454486</td>\n",
       "    </tr>\n",
       "    <tr>\n",
       "      <th>1000208</th>\n",
       "      <td>1000042</td>\n",
       "      <td>6040</td>\n",
       "      <td>1221</td>\n",
       "      <td>4</td>\n",
       "      <td>998315055</td>\n",
       "    </tr>\n",
       "  </tbody>\n",
       "</table>\n",
       "<p>1000209 rows × 5 columns</p>\n",
       "</div>"
      ],
      "text/plain": [
       "           index  UserId  ItemId  Rating       Time\n",
       "0             31       1    3186       4  978300019\n",
       "1             22       1    1270       5  978300055\n",
       "2             27       1    1721       4  978300055\n",
       "3             37       1    1022       5  978300055\n",
       "4             24       1    2340       3  978300103\n",
       "...          ...     ...     ...     ...        ...\n",
       "1000204  1000019    6040    2917       4  997454429\n",
       "1000205   999988    6040    1921       4  997454464\n",
       "1000206  1000172    6040    1784       3  997454464\n",
       "1000207  1000167    6040     161       3  997454486\n",
       "1000208  1000042    6040    1221       4  998315055\n",
       "\n",
       "[1000209 rows x 5 columns]"
      ]
     },
     "execution_count": 3,
     "metadata": {},
     "output_type": "execute_result"
    }
   ],
   "source": [
    "data_path = Path(os.getenv('HOME')+'/aiffel/yoochoose/data/') \n",
    "train_path = data_path / 'ratings.dat'\n",
    "\n",
    "def load_data(data_path: Path, nrows=None):\n",
    "    data = pd.read_csv(data_path, sep='::', header=None, usecols=[0, 1, 2, 3], dtype={0: np.int32, 1: np.int32, 2: np.int32}, nrows=nrows)\n",
    "    data.columns = ['UserId', 'ItemId', 'Rating', 'Time']\n",
    "    return data\n",
    "\n",
    "data = load_data(train_path, None)\n",
    "data.sort_values(['UserId', 'Time'], inplace=True)  # data를 id와 시간 순서로 정렬해줍니다.\n",
    "data.reset_index(inplace=True) # 인덱스 reset\n",
    "data"
   ]
  },
  {
   "cell_type": "markdown",
   "id": "05542044",
   "metadata": {},
   "source": [
    "Time에 대한 데이터가 timestamp의 형태로 저장이 되었는데, 이는 처리가 너무 불편하기 때문에 datetime의 형태로 바꾸어준다. "
   ]
  },
  {
   "cell_type": "code",
   "execution_count": 4,
   "id": "9ed99c81",
   "metadata": {},
   "outputs": [
    {
     "data": {
      "text/html": [
       "<div>\n",
       "<style scoped>\n",
       "    .dataframe tbody tr th:only-of-type {\n",
       "        vertical-align: middle;\n",
       "    }\n",
       "\n",
       "    .dataframe tbody tr th {\n",
       "        vertical-align: top;\n",
       "    }\n",
       "\n",
       "    .dataframe thead th {\n",
       "        text-align: right;\n",
       "    }\n",
       "</style>\n",
       "<table border=\"1\" class=\"dataframe\">\n",
       "  <thead>\n",
       "    <tr style=\"text-align: right;\">\n",
       "      <th></th>\n",
       "      <th>index</th>\n",
       "      <th>UserId</th>\n",
       "      <th>ItemId</th>\n",
       "      <th>Rating</th>\n",
       "      <th>Time</th>\n",
       "    </tr>\n",
       "  </thead>\n",
       "  <tbody>\n",
       "    <tr>\n",
       "      <th>0</th>\n",
       "      <td>31</td>\n",
       "      <td>1</td>\n",
       "      <td>3186</td>\n",
       "      <td>4</td>\n",
       "      <td>2000-12-31 22:00:19</td>\n",
       "    </tr>\n",
       "    <tr>\n",
       "      <th>1</th>\n",
       "      <td>22</td>\n",
       "      <td>1</td>\n",
       "      <td>1270</td>\n",
       "      <td>5</td>\n",
       "      <td>2000-12-31 22:00:55</td>\n",
       "    </tr>\n",
       "    <tr>\n",
       "      <th>2</th>\n",
       "      <td>27</td>\n",
       "      <td>1</td>\n",
       "      <td>1721</td>\n",
       "      <td>4</td>\n",
       "      <td>2000-12-31 22:00:55</td>\n",
       "    </tr>\n",
       "    <tr>\n",
       "      <th>3</th>\n",
       "      <td>37</td>\n",
       "      <td>1</td>\n",
       "      <td>1022</td>\n",
       "      <td>5</td>\n",
       "      <td>2000-12-31 22:00:55</td>\n",
       "    </tr>\n",
       "    <tr>\n",
       "      <th>4</th>\n",
       "      <td>24</td>\n",
       "      <td>1</td>\n",
       "      <td>2340</td>\n",
       "      <td>3</td>\n",
       "      <td>2000-12-31 22:01:43</td>\n",
       "    </tr>\n",
       "  </tbody>\n",
       "</table>\n",
       "</div>"
      ],
      "text/plain": [
       "   index  UserId  ItemId  Rating                Time\n",
       "0     31       1    3186       4 2000-12-31 22:00:19\n",
       "1     22       1    1270       5 2000-12-31 22:00:55\n",
       "2     27       1    1721       4 2000-12-31 22:00:55\n",
       "3     37       1    1022       5 2000-12-31 22:00:55\n",
       "4     24       1    2340       3 2000-12-31 22:01:43"
      ]
     },
     "execution_count": 4,
     "metadata": {},
     "output_type": "execute_result"
    }
   ],
   "source": [
    "# Timestamp를 DateTime으로 변환\n",
    "data['Time'] = data['Time'].apply(lambda x: datetime.fromtimestamp(x))\n",
    "data.head()"
   ]
  },
  {
   "cell_type": "markdown",
   "id": "42fc00bd",
   "metadata": {},
   "source": [
    "### EDA 및 전처리"
   ]
  },
  {
   "cell_type": "code",
   "execution_count": 5,
   "id": "080cd82a",
   "metadata": {},
   "outputs": [
    {
     "data": {
      "text/plain": [
       "(6040, 3706)"
      ]
     },
     "execution_count": 5,
     "metadata": {},
     "output_type": "execute_result"
    }
   ],
   "source": [
    "# 유저 수와 영화 수\n",
    "data['UserId'].nunique(), data['ItemId'].nunique()"
   ]
  },
  {
   "cell_type": "markdown",
   "id": "a5acca48",
   "metadata": {},
   "source": [
    "#### Session 새로 정의\n",
    "우리에게 주어진 정보는 session_id가 아닌 user_id이다. 한 User가 여러 Session에 걸쳐서 리뷰를 입력해왔을 수 있기 때문에 한 Session의 단위시간을 정해서 Session을 새로 정의해주어야 한다. 그러기 위해서 데이터를 자세하게 확인해볼 필요가 있다. "
   ]
  },
  {
   "cell_type": "code",
   "execution_count": 6,
   "id": "dabb5d13",
   "metadata": {},
   "outputs": [
    {
     "data": {
      "text/plain": [
       "UserId\n",
       "1        53\n",
       "2       129\n",
       "3        51\n",
       "4        21\n",
       "5       198\n",
       "       ... \n",
       "6036    888\n",
       "6037    202\n",
       "6038     20\n",
       "6039    123\n",
       "6040    341\n",
       "Length: 6040, dtype: int64"
      ]
     },
     "execution_count": 6,
     "metadata": {},
     "output_type": "execute_result"
    }
   ],
   "source": [
    "# User별 리뷰 개수\n",
    "user_length = data.groupby('UserId').size()\n",
    "user_length"
   ]
  },
  {
   "cell_type": "code",
   "execution_count": 7,
   "id": "881efefa",
   "metadata": {},
   "outputs": [
    {
     "data": {
      "text/plain": [
       "(96.0, 165.5975165562914)"
      ]
     },
     "execution_count": 7,
     "metadata": {},
     "output_type": "execute_result"
    }
   ],
   "source": [
    "# user의 리뷰 개수의 중앙값과 평균\n",
    "user_length.median(), user_length.mean()"
   ]
  },
  {
   "cell_type": "code",
   "execution_count": 8,
   "id": "dd0e386b",
   "metadata": {},
   "outputs": [
    {
     "data": {
      "text/plain": [
       "(20, 2314)"
      ]
     },
     "execution_count": 8,
     "metadata": {},
     "output_type": "execute_result"
    }
   ],
   "source": [
    "# user의 리뷰 개수의 최솟값과 최댓값\n",
    "user_length.min(), user_length.max()"
   ]
  },
  {
   "cell_type": "code",
   "execution_count": 9,
   "id": "a88a656d",
   "metadata": {},
   "outputs": [
    {
     "data": {
      "text/plain": [
       "1343.181000000005"
      ]
     },
     "execution_count": 9,
     "metadata": {},
     "output_type": "execute_result"
    }
   ],
   "source": [
    "user_length.quantile(0.999)"
   ]
  },
  {
   "cell_type": "markdown",
   "id": "9346f62e",
   "metadata": {},
   "source": [
    "User별 리뷰의 개수에 대한 정보는 위와 같다. 또한 리뷰 개수의 최댓값은 2314개이지만, 1343개 이하로 전체의 0.999가 포함되는 것을 확인할 수 있다.  \n",
    "  \n",
    "하지만 리뷰의 개수가 굉장히 많은 경우도 존재하는 것으로 보아, 역시 __User가 한 Session 안에 모든 리뷰를 올린 게 아닐 확률이 높다__. 그렇기 때문에 Session을 새로 정의해서 나누어야 하는데, 우선 __시간에 따른 User의 리뷰 입력 양상__을 확인해보면 Session의 시간을 정하는 데 도움이 될 것이라고 예상이 된다."
   ]
  },
  {
   "cell_type": "code",
   "execution_count": 10,
   "id": "51f15631",
   "metadata": {},
   "outputs": [],
   "source": [
    "# 첫 번째 User의 데이터 확인\n",
    "first = data[data['UserId']==1]"
   ]
  },
  {
   "cell_type": "code",
   "execution_count": 11,
   "id": "6f41f94d",
   "metadata": {},
   "outputs": [
    {
     "data": {
      "text/plain": [
       "2001-01-06 23:37:48    5\n",
       "2001-01-06 23:38:11    3\n",
       "2000-12-31 22:00:55    3\n",
       "2000-12-31 22:12:40    3\n",
       "2000-12-31 22:29:37    3\n",
       "2000-12-31 22:37:48    2\n",
       "2000-12-31 22:36:45    2\n",
       "2000-12-31 22:33:59    2\n",
       "2000-12-31 22:29:13    2\n",
       "2000-12-31 22:34:51    2\n",
       "2000-12-31 22:11:59    2\n",
       "2001-01-06 23:38:50    2\n",
       "2000-12-31 22:35:24    1\n",
       "2000-12-31 22:38:01    1\n",
       "2000-12-31 22:36:28    1\n",
       "2000-12-31 22:36:14    1\n",
       "2001-01-06 23:35:39    1\n",
       "2001-01-06 23:36:35    1\n",
       "2000-12-31 22:35:49    1\n",
       "2000-12-31 22:00:19    1\n",
       "2000-12-31 22:32:48    1\n",
       "2000-12-31 22:35:09    1\n",
       "2000-12-31 22:32:33    1\n",
       "2000-12-31 22:29:12    1\n",
       "2000-12-31 22:28:33    1\n",
       "2000-12-31 22:26:59    1\n",
       "2000-12-31 22:26:30    1\n",
       "2000-12-31 22:26:10    1\n",
       "2000-12-31 22:23:18    1\n",
       "2000-12-31 22:22:48    1\n",
       "2000-12-31 22:04:35    1\n",
       "2000-12-31 22:02:52    1\n",
       "2000-12-31 22:01:43    1\n",
       "2001-01-06 23:39:11    1\n",
       "Name: Time, dtype: int64"
      ]
     },
     "execution_count": 11,
     "metadata": {},
     "output_type": "execute_result"
    }
   ],
   "source": [
    "time_first=pd.Series(first['Time']).reset_index(drop=True)\n",
    "time_first.value_counts()"
   ]
  },
  {
   "cell_type": "markdown",
   "id": "9f4eed0f",
   "metadata": {},
   "source": [
    "한번에 여러 리뷰를 입력하기도 했다는 것을 알 수 있다. 하지만 한번에 여러 리뷰를 입력한 경우는 비교적 적은 것으로 보이기 때문에, 입력한 시간이 어떻게 되는지 다시 확인해보겠다. "
   ]
  },
  {
   "cell_type": "code",
   "execution_count": 12,
   "id": "ccc6e3d3",
   "metadata": {},
   "outputs": [
    {
     "data": {
      "text/plain": [
       "(array([40.,  0.,  0.,  0.,  0.,  0.,  0.,  0.,  0., 13.]),\n",
       " array([11322.91688657, 11323.52375231, 11324.13061806, 11324.7374838 ,\n",
       "        11325.34434954, 11325.95121528, 11326.55808102, 11327.16494676,\n",
       "        11327.7718125 , 11328.37867824, 11328.98554398]),\n",
       " <BarContainer object of 10 artists>)"
      ]
     },
     "execution_count": 12,
     "metadata": {},
     "output_type": "execute_result"
    },
    {
     "data": {
      "image/png": "[encoded data removed]",
      "text/plain": [
       "<Figure size 432x288 with 1 Axes>"
      ]
     },
     "metadata": {
      "needs_background": "light"
     },
     "output_type": "display_data"
    }
   ],
   "source": [
    "plt.hist(time_first)"
   ]
  },
  {
   "cell_type": "code",
   "execution_count": 13,
   "id": "27ad5b73",
   "metadata": {},
   "outputs": [
    {
     "data": {
      "text/plain": [
       "2000-12-31    40\n",
       "2001-01-06    13\n",
       "Name: Time, dtype: int64"
      ]
     },
     "execution_count": 13,
     "metadata": {},
     "output_type": "execute_result"
    }
   ],
   "source": [
    "date_first = time_first.apply(lambda x: x.date())\n",
    "date_first.value_counts()"
   ]
  },
  {
   "cell_type": "code",
   "execution_count": 14,
   "id": "90235f5a",
   "metadata": {},
   "outputs": [
    {
     "data": {
      "text/plain": [
       "0    2000-12-31 22:00:19\n",
       "1    2000-12-31 22:00:55\n",
       "2    2000-12-31 22:00:55\n",
       "3    2000-12-31 22:00:55\n",
       "4    2000-12-31 22:01:43\n",
       "5    2000-12-31 22:02:52\n",
       "6    2000-12-31 22:04:35\n",
       "7    2000-12-31 22:11:59\n",
       "8    2000-12-31 22:11:59\n",
       "9    2000-12-31 22:12:40\n",
       "10   2000-12-31 22:12:40\n",
       "11   2000-12-31 22:12:40\n",
       "12   2000-12-31 22:22:48\n",
       "13   2000-12-31 22:23:18\n",
       "14   2000-12-31 22:26:10\n",
       "15   2000-12-31 22:26:30\n",
       "16   2000-12-31 22:26:59\n",
       "17   2000-12-31 22:28:33\n",
       "18   2000-12-31 22:29:12\n",
       "19   2000-12-31 22:29:13\n",
       "20   2000-12-31 22:29:13\n",
       "21   2000-12-31 22:29:37\n",
       "22   2000-12-31 22:29:37\n",
       "23   2000-12-31 22:29:37\n",
       "24   2000-12-31 22:32:33\n",
       "25   2000-12-31 22:32:48\n",
       "26   2000-12-31 22:33:59\n",
       "27   2000-12-31 22:33:59\n",
       "28   2000-12-31 22:34:51\n",
       "29   2000-12-31 22:34:51\n",
       "30   2000-12-31 22:35:09\n",
       "31   2000-12-31 22:35:24\n",
       "32   2000-12-31 22:35:49\n",
       "33   2000-12-31 22:36:14\n",
       "34   2000-12-31 22:36:28\n",
       "35   2000-12-31 22:36:45\n",
       "36   2000-12-31 22:36:45\n",
       "37   2000-12-31 22:37:48\n",
       "38   2000-12-31 22:37:48\n",
       "39   2000-12-31 22:38:01\n",
       "Name: Time, dtype: datetime64[ns]"
      ]
     },
     "execution_count": 14,
     "metadata": {},
     "output_type": "execute_result"
    }
   ],
   "source": [
    "time_first[:40]"
   ]
  },
  {
   "cell_type": "markdown",
   "id": "cd90c4c7",
   "metadata": {},
   "source": [
    "2000년 12월 31일 하루동안 입력한 리뷰가 대략 40분 조금 안 되는 시간에 걸쳐 한번에 입력한 것으로 보인다.  \n",
    "첫 번째 User가 특별한 케이스였을 수도 있으니 두 번째 User도 확인해보겠다. "
   ]
  },
  {
   "cell_type": "code",
   "execution_count": 15,
   "id": "c9bf0e21",
   "metadata": {},
   "outputs": [],
   "source": [
    "# 두 번째 User의 데이터 확인\n",
    "second = data[data['UserId']==2]"
   ]
  },
  {
   "cell_type": "code",
   "execution_count": 16,
   "id": "b433a8de",
   "metadata": {},
   "outputs": [
    {
     "data": {
      "text/plain": [
       "2000-12-31 21:56:49    6\n",
       "2000-12-31 22:00:02    6\n",
       "2000-12-31 21:57:19    5\n",
       "2000-12-31 22:02:54    4\n",
       "2000-12-31 21:56:13    4\n",
       "                      ..\n",
       "2000-12-31 21:46:13    1\n",
       "2000-12-31 21:47:00    1\n",
       "2000-12-31 21:47:30    1\n",
       "2000-12-31 21:47:49    1\n",
       "2000-12-31 21:45:43    1\n",
       "Name: Time, Length: 66, dtype: int64"
      ]
     },
     "execution_count": 16,
     "metadata": {},
     "output_type": "execute_result"
    }
   ],
   "source": [
    "time_second=pd.Series(second['Time']).reset_index(drop=True)\n",
    "time_second.value_counts()"
   ]
  },
  {
   "cell_type": "markdown",
   "id": "577e011a",
   "metadata": {},
   "source": [
    "두 번째 유저도 한번에 여러 리뷰를 입력한 경우가 있다는 것을 알 수 있다. 하지만 이전과 같이, 그 비율이 적다.  "
   ]
  },
  {
   "cell_type": "code",
   "execution_count": 17,
   "id": "9fafe0ba",
   "metadata": {},
   "outputs": [
    {
     "data": {
      "text/plain": [
       "(array([ 5., 11., 13., 17., 10., 12.,  5.,  9., 27., 20.]),\n",
       " array([11322.8949537 , 11322.89732639, 11322.89969907, 11322.90207176,\n",
       "        11322.90444444, 11322.90681713, 11322.90918981, 11322.9115625 ,\n",
       "        11322.91393519, 11322.91630787, 11322.91868056]),\n",
       " <BarContainer object of 10 artists>)"
      ]
     },
     "execution_count": 17,
     "metadata": {},
     "output_type": "execute_result"
    },
    {
     "data": {
      "image/png": "[encoded data removed]",
      "text/plain": [
       "<Figure size 432x288 with 1 Axes>"
      ]
     },
     "metadata": {
      "needs_background": "light"
     },
     "output_type": "display_data"
    }
   ],
   "source": [
    "plt.hist(time_second)"
   ]
  },
  {
   "cell_type": "code",
   "execution_count": 18,
   "id": "bfdea242",
   "metadata": {},
   "outputs": [
    {
     "data": {
      "text/plain": [
       "2000-12-31    129\n",
       "Name: Time, dtype: int64"
      ]
     },
     "execution_count": 18,
     "metadata": {},
     "output_type": "execute_result"
    }
   ],
   "source": [
    "date_second = time_second.apply(lambda x: x.date())\n",
    "date_second.value_counts()"
   ]
  },
  {
   "cell_type": "code",
   "execution_count": 19,
   "id": "419b3602",
   "metadata": {},
   "outputs": [
    {
     "data": {
      "text/plain": [
       "0     2000-12-31 21:28:44\n",
       "1     2000-12-31 21:29:11\n",
       "2     2000-12-31 21:29:11\n",
       "3     2000-12-31 21:29:56\n",
       "4     2000-12-31 21:31:01\n",
       "              ...        \n",
       "113   2000-12-31 22:00:02\n",
       "114   2000-12-31 22:00:02\n",
       "115   2000-12-31 22:00:25\n",
       "116   2000-12-31 22:00:25\n",
       "117   2000-12-31 22:00:51\n",
       "Name: Time, Length: 118, dtype: datetime64[ns]"
      ]
     },
     "execution_count": 19,
     "metadata": {},
     "output_type": "execute_result"
    }
   ],
   "source": [
    "time_second[:118]"
   ]
  },
  {
   "cell_type": "markdown",
   "id": "2c30b1cf",
   "metadata": {},
   "source": [
    "두 번째 User는 하루동안 129개의 리뷰를 남겼고, 그래프에서 확인할 수 있듯이 대략 2시간이 안 되는 시간동안 꾸준히 리뷰를 남겼다는 것을 알 수 있다. 마지막으로 세번 째 User까지만 확인하고 Session을 정의하겠다. "
   ]
  },
  {
   "cell_type": "code",
   "execution_count": 20,
   "id": "c041b046",
   "metadata": {},
   "outputs": [],
   "source": [
    "# 세 번째 User의 데이터 확인\n",
    "third = data[data['UserId']==3]"
   ]
  },
  {
   "cell_type": "code",
   "execution_count": 21,
   "id": "9bd90a39",
   "metadata": {},
   "outputs": [
    {
     "data": {
      "text/plain": [
       "2000-12-31 21:20:00    3\n",
       "2000-12-31 21:19:30    3\n",
       "2000-12-31 21:22:37    3\n",
       "2000-12-31 21:16:59    3\n",
       "2000-12-31 21:29:07    3\n",
       "2000-12-31 21:24:27    2\n",
       "2000-12-31 21:23:57    2\n",
       "2000-12-31 21:31:36    2\n",
       "2000-12-31 21:21:03    2\n",
       "2000-12-31 21:22:57    2\n",
       "2000-12-31 21:18:59    2\n",
       "2000-12-31 21:33:50    2\n",
       "2000-12-31 21:34:46    2\n",
       "2000-12-31 21:11:35    2\n",
       "2000-12-31 21:11:08    2\n",
       "2000-12-31 21:31:56    1\n",
       "2000-12-31 21:34:19    1\n",
       "2000-12-31 21:30:31    1\n",
       "2000-12-31 21:30:01    1\n",
       "2000-12-31 21:29:26    1\n",
       "2000-12-31 21:10:18    1\n",
       "2000-12-31 21:28:23    1\n",
       "2000-12-31 21:27:59    1\n",
       "2000-12-31 21:23:25    1\n",
       "2000-12-31 21:10:39    1\n",
       "2000-12-31 21:21:50    1\n",
       "2000-12-31 21:21:30    1\n",
       "2000-12-31 21:18:32    1\n",
       "2000-12-31 21:17:19    1\n",
       "2000-12-31 21:16:36    1\n",
       "2000-12-31 21:35:04    1\n",
       "Name: Time, dtype: int64"
      ]
     },
     "execution_count": 21,
     "metadata": {},
     "output_type": "execute_result"
    }
   ],
   "source": [
    "time_third=pd.Series(third['Time']).reset_index(drop=True)\n",
    "time_third.value_counts()"
   ]
  },
  {
   "cell_type": "markdown",
   "id": "b6876797",
   "metadata": {},
   "source": [
    "세 번째 유저도 한번에 여러 리뷰를 입력한 경우가 있다는 것을 알 수 있다. 하지만 첫 번째와 두 번째의 User와 같이 그 비율이 적기 때문에 한번에 여러 리뷰를 남긴 경우만 Session으로 치는 것은 __바람직하지 않아 보인다__.   "
   ]
  },
  {
   "cell_type": "code",
   "execution_count": 22,
   "id": "df8984a2",
   "metadata": {},
   "outputs": [
    {
     "data": {
      "text/plain": [
       "(array([6., 0., 5., 9., 7., 7., 0., 7., 4., 6.]),\n",
       " array([11322.88215278, 11322.88387269, 11322.88559259, 11322.8873125 ,\n",
       "        11322.88903241, 11322.89075231, 11322.89247222, 11322.89419213,\n",
       "        11322.89591204, 11322.89763194, 11322.89935185]),\n",
       " <BarContainer object of 10 artists>)"
      ]
     },
     "execution_count": 22,
     "metadata": {},
     "output_type": "execute_result"
    },
    {
     "data": {
      "image/png": "[encoded data removed]",
      "text/plain": [
       "<Figure size 432x288 with 1 Axes>"
      ]
     },
     "metadata": {
      "needs_background": "light"
     },
     "output_type": "display_data"
    }
   ],
   "source": [
    "plt.hist(time_third)"
   ]
  },
  {
   "cell_type": "code",
   "execution_count": 23,
   "id": "52829bb3",
   "metadata": {},
   "outputs": [
    {
     "data": {
      "text/plain": [
       "2000-12-31    51\n",
       "Name: Time, dtype: int64"
      ]
     },
     "execution_count": 23,
     "metadata": {},
     "output_type": "execute_result"
    }
   ],
   "source": [
    "date_third = time_third.apply(lambda x: x.date())\n",
    "date_third.value_counts()"
   ]
  },
  {
   "cell_type": "code",
   "execution_count": 24,
   "id": "b890d7e2",
   "metadata": {},
   "outputs": [
    {
     "data": {
      "text/plain": [
       "0    2000-12-31 21:10:18\n",
       "1    2000-12-31 21:10:39\n",
       "2    2000-12-31 21:11:08\n",
       "3    2000-12-31 21:11:08\n",
       "4    2000-12-31 21:11:35\n",
       "5    2000-12-31 21:11:35\n",
       "6    2000-12-31 21:16:36\n",
       "7    2000-12-31 21:16:59\n",
       "8    2000-12-31 21:16:59\n",
       "9    2000-12-31 21:16:59\n",
       "10   2000-12-31 21:17:19\n",
       "11   2000-12-31 21:18:32\n",
       "12   2000-12-31 21:18:59\n",
       "13   2000-12-31 21:18:59\n",
       "14   2000-12-31 21:19:30\n",
       "15   2000-12-31 21:19:30\n",
       "16   2000-12-31 21:19:30\n",
       "17   2000-12-31 21:20:00\n",
       "18   2000-12-31 21:20:00\n",
       "19   2000-12-31 21:20:00\n",
       "20   2000-12-31 21:21:03\n",
       "21   2000-12-31 21:21:03\n",
       "22   2000-12-31 21:21:30\n",
       "23   2000-12-31 21:21:50\n",
       "24   2000-12-31 21:22:37\n",
       "25   2000-12-31 21:22:37\n",
       "26   2000-12-31 21:22:37\n",
       "27   2000-12-31 21:22:57\n",
       "28   2000-12-31 21:22:57\n",
       "29   2000-12-31 21:23:25\n",
       "30   2000-12-31 21:23:57\n",
       "31   2000-12-31 21:23:57\n",
       "32   2000-12-31 21:24:27\n",
       "33   2000-12-31 21:24:27\n",
       "34   2000-12-31 21:27:59\n",
       "35   2000-12-31 21:28:23\n",
       "36   2000-12-31 21:29:07\n",
       "37   2000-12-31 21:29:07\n",
       "38   2000-12-31 21:29:07\n",
       "39   2000-12-31 21:29:26\n",
       "40   2000-12-31 21:30:01\n",
       "41   2000-12-31 21:30:31\n",
       "42   2000-12-31 21:31:36\n",
       "43   2000-12-31 21:31:36\n",
       "44   2000-12-31 21:31:56\n",
       "45   2000-12-31 21:33:50\n",
       "46   2000-12-31 21:33:50\n",
       "47   2000-12-31 21:34:19\n",
       "48   2000-12-31 21:34:46\n",
       "49   2000-12-31 21:34:46\n",
       "Name: Time, dtype: datetime64[ns]"
      ]
     },
     "execution_count": 24,
     "metadata": {},
     "output_type": "execute_result"
    }
   ],
   "source": [
    "time_third[:50]"
   ]
  },
  {
   "cell_type": "markdown",
   "id": "20988743",
   "metadata": {},
   "source": [
    "세번 째 User는 대략 30분동안 하루 안에 모든 리뷰를 올린 케이스이다. 세 User의 시간에 리뷰 입력 양상을 분석해보면, 하루 안에 입력 리뷰는 거의 한번에 연속으로 올린 것이었다. 또한 여러 날짜에 리뷰를 올린 User도 각 날짜에 한번에 리뷰를 올렸다. 이런 점을 보았을 때, Session을 유저가 리뷰를 올린 날짜로 각 Session으로 정의하는 것이 바람직해 보인다. "
   ]
  },
  {
   "cell_type": "code",
   "execution_count": 25,
   "id": "80668f4f",
   "metadata": {},
   "outputs": [
    {
     "data": {
      "text/html": [
       "<div>\n",
       "<style scoped>\n",
       "    .dataframe tbody tr th:only-of-type {\n",
       "        vertical-align: middle;\n",
       "    }\n",
       "\n",
       "    .dataframe tbody tr th {\n",
       "        vertical-align: top;\n",
       "    }\n",
       "\n",
       "    .dataframe thead th {\n",
       "        text-align: right;\n",
       "    }\n",
       "</style>\n",
       "<table border=\"1\" class=\"dataframe\">\n",
       "  <thead>\n",
       "    <tr style=\"text-align: right;\">\n",
       "      <th></th>\n",
       "      <th>index</th>\n",
       "      <th>UserId</th>\n",
       "      <th>ItemId</th>\n",
       "      <th>Rating</th>\n",
       "      <th>Time</th>\n",
       "      <th>Date</th>\n",
       "    </tr>\n",
       "  </thead>\n",
       "  <tbody>\n",
       "    <tr>\n",
       "      <th>0</th>\n",
       "      <td>31</td>\n",
       "      <td>1</td>\n",
       "      <td>3186</td>\n",
       "      <td>4</td>\n",
       "      <td>2000-12-31 22:00:19</td>\n",
       "      <td>2000-12-31</td>\n",
       "    </tr>\n",
       "    <tr>\n",
       "      <th>1</th>\n",
       "      <td>22</td>\n",
       "      <td>1</td>\n",
       "      <td>1270</td>\n",
       "      <td>5</td>\n",
       "      <td>2000-12-31 22:00:55</td>\n",
       "      <td>2000-12-31</td>\n",
       "    </tr>\n",
       "    <tr>\n",
       "      <th>2</th>\n",
       "      <td>27</td>\n",
       "      <td>1</td>\n",
       "      <td>1721</td>\n",
       "      <td>4</td>\n",
       "      <td>2000-12-31 22:00:55</td>\n",
       "      <td>2000-12-31</td>\n",
       "    </tr>\n",
       "    <tr>\n",
       "      <th>3</th>\n",
       "      <td>37</td>\n",
       "      <td>1</td>\n",
       "      <td>1022</td>\n",
       "      <td>5</td>\n",
       "      <td>2000-12-31 22:00:55</td>\n",
       "      <td>2000-12-31</td>\n",
       "    </tr>\n",
       "    <tr>\n",
       "      <th>4</th>\n",
       "      <td>24</td>\n",
       "      <td>1</td>\n",
       "      <td>2340</td>\n",
       "      <td>3</td>\n",
       "      <td>2000-12-31 22:01:43</td>\n",
       "      <td>2000-12-31</td>\n",
       "    </tr>\n",
       "  </tbody>\n",
       "</table>\n",
       "</div>"
      ],
      "text/plain": [
       "   index  UserId  ItemId  Rating                Time        Date\n",
       "0     31       1    3186       4 2000-12-31 22:00:19  2000-12-31\n",
       "1     22       1    1270       5 2000-12-31 22:00:55  2000-12-31\n",
       "2     27       1    1721       4 2000-12-31 22:00:55  2000-12-31\n",
       "3     37       1    1022       5 2000-12-31 22:00:55  2000-12-31\n",
       "4     24       1    2340       3 2000-12-31 22:01:43  2000-12-31"
      ]
     },
     "execution_count": 25,
     "metadata": {},
     "output_type": "execute_result"
    }
   ],
   "source": [
    "data['Date']=data['Time'].apply(lambda x: x.date())\n",
    "data.head()"
   ]
  },
  {
   "cell_type": "code",
   "execution_count": 26,
   "id": "aa02d895",
   "metadata": {},
   "outputs": [
    {
     "data": {
      "text/html": [
       "<div>\n",
       "<style scoped>\n",
       "    .dataframe tbody tr th:only-of-type {\n",
       "        vertical-align: middle;\n",
       "    }\n",
       "\n",
       "    .dataframe tbody tr th {\n",
       "        vertical-align: top;\n",
       "    }\n",
       "\n",
       "    .dataframe thead th {\n",
       "        text-align: right;\n",
       "    }\n",
       "</style>\n",
       "<table border=\"1\" class=\"dataframe\">\n",
       "  <thead>\n",
       "    <tr style=\"text-align: right;\">\n",
       "      <th></th>\n",
       "      <th>index</th>\n",
       "      <th>UserId</th>\n",
       "      <th>ItemId</th>\n",
       "      <th>Rating</th>\n",
       "      <th>Time</th>\n",
       "      <th>Date</th>\n",
       "    </tr>\n",
       "  </thead>\n",
       "  <tbody>\n",
       "    <tr>\n",
       "      <th>0</th>\n",
       "      <td>31</td>\n",
       "      <td>1</td>\n",
       "      <td>3186</td>\n",
       "      <td>4</td>\n",
       "      <td>2000-12-31 22:00:19</td>\n",
       "      <td>2000-12-31</td>\n",
       "    </tr>\n",
       "    <tr>\n",
       "      <th>1</th>\n",
       "      <td>22</td>\n",
       "      <td>1</td>\n",
       "      <td>1270</td>\n",
       "      <td>5</td>\n",
       "      <td>2000-12-31 22:00:55</td>\n",
       "      <td>2000-12-31</td>\n",
       "    </tr>\n",
       "    <tr>\n",
       "      <th>2</th>\n",
       "      <td>27</td>\n",
       "      <td>1</td>\n",
       "      <td>1721</td>\n",
       "      <td>4</td>\n",
       "      <td>2000-12-31 22:00:55</td>\n",
       "      <td>2000-12-31</td>\n",
       "    </tr>\n",
       "    <tr>\n",
       "      <th>3</th>\n",
       "      <td>37</td>\n",
       "      <td>1</td>\n",
       "      <td>1022</td>\n",
       "      <td>5</td>\n",
       "      <td>2000-12-31 22:00:55</td>\n",
       "      <td>2000-12-31</td>\n",
       "    </tr>\n",
       "    <tr>\n",
       "      <th>4</th>\n",
       "      <td>24</td>\n",
       "      <td>1</td>\n",
       "      <td>2340</td>\n",
       "      <td>3</td>\n",
       "      <td>2000-12-31 22:01:43</td>\n",
       "      <td>2000-12-31</td>\n",
       "    </tr>\n",
       "  </tbody>\n",
       "</table>\n",
       "</div>"
      ],
      "text/plain": [
       "   index  UserId  ItemId  Rating                Time        Date\n",
       "0     31       1    3186       4 2000-12-31 22:00:19  2000-12-31\n",
       "1     22       1    1270       5 2000-12-31 22:00:55  2000-12-31\n",
       "2     27       1    1721       4 2000-12-31 22:00:55  2000-12-31\n",
       "3     37       1    1022       5 2000-12-31 22:00:55  2000-12-31\n",
       "4     24       1    2340       3 2000-12-31 22:01:43  2000-12-31"
      ]
     },
     "execution_count": 26,
     "metadata": {},
     "output_type": "execute_result"
    }
   ],
   "source": [
    "data.head()"
   ]
  },
  {
   "cell_type": "code",
   "execution_count": 27,
   "id": "df2c4964",
   "metadata": {},
   "outputs": [
    {
     "data": {
      "text/plain": [
       "UserId  Date      \n",
       "1       2000-12-31     40\n",
       "        2001-01-06     13\n",
       "2       2000-12-31    129\n",
       "3       2000-12-31     51\n",
       "4       2000-12-31     21\n",
       "                     ... \n",
       "6040    2000-07-28     13\n",
       "        2000-07-29      1\n",
       "        2001-03-10      1\n",
       "        2001-08-10     21\n",
       "        2001-08-20      1\n",
       "Name: Time, Length: 22814, dtype: int64"
      ]
     },
     "execution_count": 27,
     "metadata": {},
     "output_type": "execute_result"
    }
   ],
   "source": [
    "session_index = data.groupby(['UserId', 'Date'])['Time'].count()\n",
    "session_index"
   ]
  },
  {
   "cell_type": "code",
   "execution_count": 28,
   "id": "2f301263",
   "metadata": {},
   "outputs": [
    {
     "data": {
      "text/plain": [
       "[1,\n",
       " 1,\n",
       " 1,\n",
       " 1,\n",
       " 1,\n",
       " 1,\n",
       " 1,\n",
       " 1,\n",
       " 1,\n",
       " 1,\n",
       " 1,\n",
       " 1,\n",
       " 1,\n",
       " 1,\n",
       " 1,\n",
       " 1,\n",
       " 1,\n",
       " 1,\n",
       " 1,\n",
       " 1,\n",
       " 1,\n",
       " 1,\n",
       " 1,\n",
       " 1,\n",
       " 1,\n",
       " 1,\n",
       " 1,\n",
       " 1,\n",
       " 1,\n",
       " 1,\n",
       " 1,\n",
       " 1,\n",
       " 1,\n",
       " 1,\n",
       " 1,\n",
       " 1,\n",
       " 1,\n",
       " 1,\n",
       " 1,\n",
       " 1,\n",
       " 2,\n",
       " 2]"
      ]
     },
     "execution_count": 28,
     "metadata": {},
     "output_type": "execute_result"
    }
   ],
   "source": [
    "n= 0\n",
    "sessions=[]\n",
    "for session in session_index:\n",
    "    n+=1\n",
    "    #print(session)\n",
    "    sessions.extend([n]*session)\n",
    "sessions[:42]"
   ]
  },
  {
   "cell_type": "code",
   "execution_count": 29,
   "id": "d875da68",
   "metadata": {},
   "outputs": [
    {
     "data": {
      "text/html": [
       "<div>\n",
       "<style scoped>\n",
       "    .dataframe tbody tr th:only-of-type {\n",
       "        vertical-align: middle;\n",
       "    }\n",
       "\n",
       "    .dataframe tbody tr th {\n",
       "        vertical-align: top;\n",
       "    }\n",
       "\n",
       "    .dataframe thead th {\n",
       "        text-align: right;\n",
       "    }\n",
       "</style>\n",
       "<table border=\"1\" class=\"dataframe\">\n",
       "  <thead>\n",
       "    <tr style=\"text-align: right;\">\n",
       "      <th></th>\n",
       "      <th>index</th>\n",
       "      <th>UserId</th>\n",
       "      <th>ItemId</th>\n",
       "      <th>Rating</th>\n",
       "      <th>Time</th>\n",
       "      <th>Date</th>\n",
       "      <th>SessionId</th>\n",
       "    </tr>\n",
       "  </thead>\n",
       "  <tbody>\n",
       "    <tr>\n",
       "      <th>0</th>\n",
       "      <td>31</td>\n",
       "      <td>1</td>\n",
       "      <td>3186</td>\n",
       "      <td>4</td>\n",
       "      <td>2000-12-31 22:00:19</td>\n",
       "      <td>2000-12-31</td>\n",
       "      <td>1</td>\n",
       "    </tr>\n",
       "    <tr>\n",
       "      <th>1</th>\n",
       "      <td>22</td>\n",
       "      <td>1</td>\n",
       "      <td>1270</td>\n",
       "      <td>5</td>\n",
       "      <td>2000-12-31 22:00:55</td>\n",
       "      <td>2000-12-31</td>\n",
       "      <td>1</td>\n",
       "    </tr>\n",
       "    <tr>\n",
       "      <th>2</th>\n",
       "      <td>27</td>\n",
       "      <td>1</td>\n",
       "      <td>1721</td>\n",
       "      <td>4</td>\n",
       "      <td>2000-12-31 22:00:55</td>\n",
       "      <td>2000-12-31</td>\n",
       "      <td>1</td>\n",
       "    </tr>\n",
       "    <tr>\n",
       "      <th>3</th>\n",
       "      <td>37</td>\n",
       "      <td>1</td>\n",
       "      <td>1022</td>\n",
       "      <td>5</td>\n",
       "      <td>2000-12-31 22:00:55</td>\n",
       "      <td>2000-12-31</td>\n",
       "      <td>1</td>\n",
       "    </tr>\n",
       "    <tr>\n",
       "      <th>4</th>\n",
       "      <td>24</td>\n",
       "      <td>1</td>\n",
       "      <td>2340</td>\n",
       "      <td>3</td>\n",
       "      <td>2000-12-31 22:01:43</td>\n",
       "      <td>2000-12-31</td>\n",
       "      <td>1</td>\n",
       "    </tr>\n",
       "    <tr>\n",
       "      <th>5</th>\n",
       "      <td>36</td>\n",
       "      <td>1</td>\n",
       "      <td>1836</td>\n",
       "      <td>5</td>\n",
       "      <td>2000-12-31 22:02:52</td>\n",
       "      <td>2000-12-31</td>\n",
       "      <td>1</td>\n",
       "    </tr>\n",
       "    <tr>\n",
       "      <th>6</th>\n",
       "      <td>3</td>\n",
       "      <td>1</td>\n",
       "      <td>3408</td>\n",
       "      <td>4</td>\n",
       "      <td>2000-12-31 22:04:35</td>\n",
       "      <td>2000-12-31</td>\n",
       "      <td>1</td>\n",
       "    </tr>\n",
       "    <tr>\n",
       "      <th>7</th>\n",
       "      <td>7</td>\n",
       "      <td>1</td>\n",
       "      <td>2804</td>\n",
       "      <td>5</td>\n",
       "      <td>2000-12-31 22:11:59</td>\n",
       "      <td>2000-12-31</td>\n",
       "      <td>1</td>\n",
       "    </tr>\n",
       "    <tr>\n",
       "      <th>8</th>\n",
       "      <td>47</td>\n",
       "      <td>1</td>\n",
       "      <td>1207</td>\n",
       "      <td>4</td>\n",
       "      <td>2000-12-31 22:11:59</td>\n",
       "      <td>2000-12-31</td>\n",
       "      <td>1</td>\n",
       "    </tr>\n",
       "    <tr>\n",
       "      <th>9</th>\n",
       "      <td>0</td>\n",
       "      <td>1</td>\n",
       "      <td>1193</td>\n",
       "      <td>5</td>\n",
       "      <td>2000-12-31 22:12:40</td>\n",
       "      <td>2000-12-31</td>\n",
       "      <td>1</td>\n",
       "    </tr>\n",
       "    <tr>\n",
       "      <th>10</th>\n",
       "      <td>21</td>\n",
       "      <td>1</td>\n",
       "      <td>720</td>\n",
       "      <td>3</td>\n",
       "      <td>2000-12-31 22:12:40</td>\n",
       "      <td>2000-12-31</td>\n",
       "      <td>1</td>\n",
       "    </tr>\n",
       "    <tr>\n",
       "      <th>11</th>\n",
       "      <td>44</td>\n",
       "      <td>1</td>\n",
       "      <td>260</td>\n",
       "      <td>4</td>\n",
       "      <td>2000-12-31 22:12:40</td>\n",
       "      <td>2000-12-31</td>\n",
       "      <td>1</td>\n",
       "    </tr>\n",
       "    <tr>\n",
       "      <th>12</th>\n",
       "      <td>9</td>\n",
       "      <td>1</td>\n",
       "      <td>919</td>\n",
       "      <td>4</td>\n",
       "      <td>2000-12-31 22:22:48</td>\n",
       "      <td>2000-12-31</td>\n",
       "      <td>1</td>\n",
       "    </tr>\n",
       "    <tr>\n",
       "      <th>13</th>\n",
       "      <td>51</td>\n",
       "      <td>1</td>\n",
       "      <td>608</td>\n",
       "      <td>4</td>\n",
       "      <td>2000-12-31 22:23:18</td>\n",
       "      <td>2000-12-31</td>\n",
       "      <td>1</td>\n",
       "    </tr>\n",
       "    <tr>\n",
       "      <th>14</th>\n",
       "      <td>43</td>\n",
       "      <td>1</td>\n",
       "      <td>2692</td>\n",
       "      <td>4</td>\n",
       "      <td>2000-12-31 22:26:10</td>\n",
       "      <td>2000-12-31</td>\n",
       "      <td>1</td>\n",
       "    </tr>\n",
       "    <tr>\n",
       "      <th>15</th>\n",
       "      <td>41</td>\n",
       "      <td>1</td>\n",
       "      <td>1961</td>\n",
       "      <td>5</td>\n",
       "      <td>2000-12-31 22:26:30</td>\n",
       "      <td>2000-12-31</td>\n",
       "      <td>1</td>\n",
       "    </tr>\n",
       "    <tr>\n",
       "      <th>16</th>\n",
       "      <td>48</td>\n",
       "      <td>1</td>\n",
       "      <td>2028</td>\n",
       "      <td>5</td>\n",
       "      <td>2000-12-31 22:26:59</td>\n",
       "      <td>2000-12-31</td>\n",
       "      <td>1</td>\n",
       "    </tr>\n",
       "    <tr>\n",
       "      <th>17</th>\n",
       "      <td>18</td>\n",
       "      <td>1</td>\n",
       "      <td>3105</td>\n",
       "      <td>5</td>\n",
       "      <td>2000-12-31 22:28:33</td>\n",
       "      <td>2000-12-31</td>\n",
       "      <td>1</td>\n",
       "    </tr>\n",
       "    <tr>\n",
       "      <th>18</th>\n",
       "      <td>11</td>\n",
       "      <td>1</td>\n",
       "      <td>938</td>\n",
       "      <td>4</td>\n",
       "      <td>2000-12-31 22:29:12</td>\n",
       "      <td>2000-12-31</td>\n",
       "      <td>1</td>\n",
       "    </tr>\n",
       "    <tr>\n",
       "      <th>19</th>\n",
       "      <td>14</td>\n",
       "      <td>1</td>\n",
       "      <td>1035</td>\n",
       "      <td>5</td>\n",
       "      <td>2000-12-31 22:29:13</td>\n",
       "      <td>2000-12-31</td>\n",
       "      <td>1</td>\n",
       "    </tr>\n",
       "    <tr>\n",
       "      <th>20</th>\n",
       "      <td>42</td>\n",
       "      <td>1</td>\n",
       "      <td>1962</td>\n",
       "      <td>4</td>\n",
       "      <td>2000-12-31 22:29:13</td>\n",
       "      <td>2000-12-31</td>\n",
       "      <td>1</td>\n",
       "    </tr>\n",
       "    <tr>\n",
       "      <th>21</th>\n",
       "      <td>17</td>\n",
       "      <td>1</td>\n",
       "      <td>2018</td>\n",
       "      <td>4</td>\n",
       "      <td>2000-12-31 22:29:37</td>\n",
       "      <td>2000-12-31</td>\n",
       "      <td>1</td>\n",
       "    </tr>\n",
       "    <tr>\n",
       "      <th>22</th>\n",
       "      <td>39</td>\n",
       "      <td>1</td>\n",
       "      <td>150</td>\n",
       "      <td>5</td>\n",
       "      <td>2000-12-31 22:29:37</td>\n",
       "      <td>2000-12-31</td>\n",
       "      <td>1</td>\n",
       "    </tr>\n",
       "    <tr>\n",
       "      <th>23</th>\n",
       "      <td>45</td>\n",
       "      <td>1</td>\n",
       "      <td>1028</td>\n",
       "      <td>5</td>\n",
       "      <td>2000-12-31 22:29:37</td>\n",
       "      <td>2000-12-31</td>\n",
       "      <td>1</td>\n",
       "    </tr>\n",
       "    <tr>\n",
       "      <th>24</th>\n",
       "      <td>26</td>\n",
       "      <td>1</td>\n",
       "      <td>1097</td>\n",
       "      <td>4</td>\n",
       "      <td>2000-12-31 22:32:33</td>\n",
       "      <td>2000-12-31</td>\n",
       "      <td>1</td>\n",
       "    </tr>\n",
       "    <tr>\n",
       "      <th>25</th>\n",
       "      <td>2</td>\n",
       "      <td>1</td>\n",
       "      <td>914</td>\n",
       "      <td>3</td>\n",
       "      <td>2000-12-31 22:32:48</td>\n",
       "      <td>2000-12-31</td>\n",
       "      <td>1</td>\n",
       "    </tr>\n",
       "    <tr>\n",
       "      <th>26</th>\n",
       "      <td>6</td>\n",
       "      <td>1</td>\n",
       "      <td>1287</td>\n",
       "      <td>5</td>\n",
       "      <td>2000-12-31 22:33:59</td>\n",
       "      <td>2000-12-31</td>\n",
       "      <td>1</td>\n",
       "    </tr>\n",
       "    <tr>\n",
       "      <th>27</th>\n",
       "      <td>19</td>\n",
       "      <td>1</td>\n",
       "      <td>2797</td>\n",
       "      <td>4</td>\n",
       "      <td>2000-12-31 22:33:59</td>\n",
       "      <td>2000-12-31</td>\n",
       "      <td>1</td>\n",
       "    </tr>\n",
       "    <tr>\n",
       "      <th>28</th>\n",
       "      <td>38</td>\n",
       "      <td>1</td>\n",
       "      <td>2762</td>\n",
       "      <td>4</td>\n",
       "      <td>2000-12-31 22:34:51</td>\n",
       "      <td>2000-12-31</td>\n",
       "      <td>1</td>\n",
       "    </tr>\n",
       "    <tr>\n",
       "      <th>29</th>\n",
       "      <td>52</td>\n",
       "      <td>1</td>\n",
       "      <td>1246</td>\n",
       "      <td>4</td>\n",
       "      <td>2000-12-31 22:34:51</td>\n",
       "      <td>2000-12-31</td>\n",
       "      <td>1</td>\n",
       "    </tr>\n",
       "    <tr>\n",
       "      <th>30</th>\n",
       "      <td>1</td>\n",
       "      <td>1</td>\n",
       "      <td>661</td>\n",
       "      <td>3</td>\n",
       "      <td>2000-12-31 22:35:09</td>\n",
       "      <td>2000-12-31</td>\n",
       "      <td>1</td>\n",
       "    </tr>\n",
       "    <tr>\n",
       "      <th>31</th>\n",
       "      <td>13</td>\n",
       "      <td>1</td>\n",
       "      <td>2918</td>\n",
       "      <td>4</td>\n",
       "      <td>2000-12-31 22:35:24</td>\n",
       "      <td>2000-12-31</td>\n",
       "      <td>1</td>\n",
       "    </tr>\n",
       "    <tr>\n",
       "      <th>32</th>\n",
       "      <td>49</td>\n",
       "      <td>1</td>\n",
       "      <td>531</td>\n",
       "      <td>4</td>\n",
       "      <td>2000-12-31 22:35:49</td>\n",
       "      <td>2000-12-31</td>\n",
       "      <td>1</td>\n",
       "    </tr>\n",
       "    <tr>\n",
       "      <th>33</th>\n",
       "      <td>50</td>\n",
       "      <td>1</td>\n",
       "      <td>3114</td>\n",
       "      <td>4</td>\n",
       "      <td>2000-12-31 22:36:14</td>\n",
       "      <td>2000-12-31</td>\n",
       "      <td>1</td>\n",
       "    </tr>\n",
       "    <tr>\n",
       "      <th>34</th>\n",
       "      <td>15</td>\n",
       "      <td>1</td>\n",
       "      <td>2791</td>\n",
       "      <td>4</td>\n",
       "      <td>2000-12-31 22:36:28</td>\n",
       "      <td>2000-12-31</td>\n",
       "      <td>1</td>\n",
       "    </tr>\n",
       "    <tr>\n",
       "      <th>35</th>\n",
       "      <td>20</td>\n",
       "      <td>1</td>\n",
       "      <td>2321</td>\n",
       "      <td>3</td>\n",
       "      <td>2000-12-31 22:36:45</td>\n",
       "      <td>2000-12-31</td>\n",
       "      <td>1</td>\n",
       "    </tr>\n",
       "    <tr>\n",
       "      <th>36</th>\n",
       "      <td>46</td>\n",
       "      <td>1</td>\n",
       "      <td>1029</td>\n",
       "      <td>5</td>\n",
       "      <td>2000-12-31 22:36:45</td>\n",
       "      <td>2000-12-31</td>\n",
       "      <td>1</td>\n",
       "    </tr>\n",
       "    <tr>\n",
       "      <th>37</th>\n",
       "      <td>5</td>\n",
       "      <td>1</td>\n",
       "      <td>1197</td>\n",
       "      <td>3</td>\n",
       "      <td>2000-12-31 22:37:48</td>\n",
       "      <td>2000-12-31</td>\n",
       "      <td>1</td>\n",
       "    </tr>\n",
       "    <tr>\n",
       "      <th>38</th>\n",
       "      <td>8</td>\n",
       "      <td>1</td>\n",
       "      <td>594</td>\n",
       "      <td>4</td>\n",
       "      <td>2000-12-31 22:37:48</td>\n",
       "      <td>2000-12-31</td>\n",
       "      <td>1</td>\n",
       "    </tr>\n",
       "    <tr>\n",
       "      <th>39</th>\n",
       "      <td>12</td>\n",
       "      <td>1</td>\n",
       "      <td>2398</td>\n",
       "      <td>4</td>\n",
       "      <td>2000-12-31 22:38:01</td>\n",
       "      <td>2000-12-31</td>\n",
       "      <td>1</td>\n",
       "    </tr>\n",
       "    <tr>\n",
       "      <th>40</th>\n",
       "      <td>28</td>\n",
       "      <td>1</td>\n",
       "      <td>1545</td>\n",
       "      <td>4</td>\n",
       "      <td>2001-01-06 23:35:39</td>\n",
       "      <td>2001-01-06</td>\n",
       "      <td>2</td>\n",
       "    </tr>\n",
       "    <tr>\n",
       "      <th>41</th>\n",
       "      <td>23</td>\n",
       "      <td>1</td>\n",
       "      <td>527</td>\n",
       "      <td>5</td>\n",
       "      <td>2001-01-06 23:36:35</td>\n",
       "      <td>2001-01-06</td>\n",
       "      <td>2</td>\n",
       "    </tr>\n",
       "  </tbody>\n",
       "</table>\n",
       "</div>"
      ],
      "text/plain": [
       "    index  UserId  ItemId  Rating                Time        Date  SessionId\n",
       "0      31       1    3186       4 2000-12-31 22:00:19  2000-12-31          1\n",
       "1      22       1    1270       5 2000-12-31 22:00:55  2000-12-31          1\n",
       "2      27       1    1721       4 2000-12-31 22:00:55  2000-12-31          1\n",
       "3      37       1    1022       5 2000-12-31 22:00:55  2000-12-31          1\n",
       "4      24       1    2340       3 2000-12-31 22:01:43  2000-12-31          1\n",
       "5      36       1    1836       5 2000-12-31 22:02:52  2000-12-31          1\n",
       "6       3       1    3408       4 2000-12-31 22:04:35  2000-12-31          1\n",
       "7       7       1    2804       5 2000-12-31 22:11:59  2000-12-31          1\n",
       "8      47       1    1207       4 2000-12-31 22:11:59  2000-12-31          1\n",
       "9       0       1    1193       5 2000-12-31 22:12:40  2000-12-31          1\n",
       "10     21       1     720       3 2000-12-31 22:12:40  2000-12-31          1\n",
       "11     44       1     260       4 2000-12-31 22:12:40  2000-12-31          1\n",
       "12      9       1     919       4 2000-12-31 22:22:48  2000-12-31          1\n",
       "13     51       1     608       4 2000-12-31 22:23:18  2000-12-31          1\n",
       "14     43       1    2692       4 2000-12-31 22:26:10  2000-12-31          1\n",
       "15     41       1    1961       5 2000-12-31 22:26:30  2000-12-31          1\n",
       "16     48       1    2028       5 2000-12-31 22:26:59  2000-12-31          1\n",
       "17     18       1    3105       5 2000-12-31 22:28:33  2000-12-31          1\n",
       "18     11       1     938       4 2000-12-31 22:29:12  2000-12-31          1\n",
       "19     14       1    1035       5 2000-12-31 22:29:13  2000-12-31          1\n",
       "20     42       1    1962       4 2000-12-31 22:29:13  2000-12-31          1\n",
       "21     17       1    2018       4 2000-12-31 22:29:37  2000-12-31          1\n",
       "22     39       1     150       5 2000-12-31 22:29:37  2000-12-31          1\n",
       "23     45       1    1028       5 2000-12-31 22:29:37  2000-12-31          1\n",
       "24     26       1    1097       4 2000-12-31 22:32:33  2000-12-31          1\n",
       "25      2       1     914       3 2000-12-31 22:32:48  2000-12-31          1\n",
       "26      6       1    1287       5 2000-12-31 22:33:59  2000-12-31          1\n",
       "27     19       1    2797       4 2000-12-31 22:33:59  2000-12-31          1\n",
       "28     38       1    2762       4 2000-12-31 22:34:51  2000-12-31          1\n",
       "29     52       1    1246       4 2000-12-31 22:34:51  2000-12-31          1\n",
       "30      1       1     661       3 2000-12-31 22:35:09  2000-12-31          1\n",
       "31     13       1    2918       4 2000-12-31 22:35:24  2000-12-31          1\n",
       "32     49       1     531       4 2000-12-31 22:35:49  2000-12-31          1\n",
       "33     50       1    3114       4 2000-12-31 22:36:14  2000-12-31          1\n",
       "34     15       1    2791       4 2000-12-31 22:36:28  2000-12-31          1\n",
       "35     20       1    2321       3 2000-12-31 22:36:45  2000-12-31          1\n",
       "36     46       1    1029       5 2000-12-31 22:36:45  2000-12-31          1\n",
       "37      5       1    1197       3 2000-12-31 22:37:48  2000-12-31          1\n",
       "38      8       1     594       4 2000-12-31 22:37:48  2000-12-31          1\n",
       "39     12       1    2398       4 2000-12-31 22:38:01  2000-12-31          1\n",
       "40     28       1    1545       4 2001-01-06 23:35:39  2001-01-06          2\n",
       "41     23       1     527       5 2001-01-06 23:36:35  2001-01-06          2"
      ]
     },
     "execution_count": 29,
     "metadata": {},
     "output_type": "execute_result"
    }
   ],
   "source": [
    "data['SessionId'] = pd.Series(sessions)\n",
    "data.head(42)"
   ]
  },
  {
   "cell_type": "code",
   "execution_count": 30,
   "id": "fd506b70",
   "metadata": {
    "scrolled": true
   },
   "outputs": [
    {
     "data": {
      "text/html": [
       "<div>\n",
       "<style scoped>\n",
       "    .dataframe tbody tr th:only-of-type {\n",
       "        vertical-align: middle;\n",
       "    }\n",
       "\n",
       "    .dataframe tbody tr th {\n",
       "        vertical-align: top;\n",
       "    }\n",
       "\n",
       "    .dataframe thead th {\n",
       "        text-align: right;\n",
       "    }\n",
       "</style>\n",
       "<table border=\"1\" class=\"dataframe\">\n",
       "  <thead>\n",
       "    <tr style=\"text-align: right;\">\n",
       "      <th></th>\n",
       "      <th>index</th>\n",
       "      <th>UserId</th>\n",
       "      <th>ItemId</th>\n",
       "      <th>Rating</th>\n",
       "      <th>Time</th>\n",
       "      <th>Date</th>\n",
       "      <th>SessionId</th>\n",
       "    </tr>\n",
       "  </thead>\n",
       "  <tbody>\n",
       "    <tr>\n",
       "      <th>1000204</th>\n",
       "      <td>1000019</td>\n",
       "      <td>6040</td>\n",
       "      <td>2917</td>\n",
       "      <td>4</td>\n",
       "      <td>2001-08-10 14:40:29</td>\n",
       "      <td>2001-08-10</td>\n",
       "      <td>22813</td>\n",
       "    </tr>\n",
       "    <tr>\n",
       "      <th>1000205</th>\n",
       "      <td>999988</td>\n",
       "      <td>6040</td>\n",
       "      <td>1921</td>\n",
       "      <td>4</td>\n",
       "      <td>2001-08-10 14:41:04</td>\n",
       "      <td>2001-08-10</td>\n",
       "      <td>22813</td>\n",
       "    </tr>\n",
       "    <tr>\n",
       "      <th>1000206</th>\n",
       "      <td>1000172</td>\n",
       "      <td>6040</td>\n",
       "      <td>1784</td>\n",
       "      <td>3</td>\n",
       "      <td>2001-08-10 14:41:04</td>\n",
       "      <td>2001-08-10</td>\n",
       "      <td>22813</td>\n",
       "    </tr>\n",
       "    <tr>\n",
       "      <th>1000207</th>\n",
       "      <td>1000167</td>\n",
       "      <td>6040</td>\n",
       "      <td>161</td>\n",
       "      <td>3</td>\n",
       "      <td>2001-08-10 14:41:26</td>\n",
       "      <td>2001-08-10</td>\n",
       "      <td>22813</td>\n",
       "    </tr>\n",
       "    <tr>\n",
       "      <th>1000208</th>\n",
       "      <td>1000042</td>\n",
       "      <td>6040</td>\n",
       "      <td>1221</td>\n",
       "      <td>4</td>\n",
       "      <td>2001-08-20 13:44:15</td>\n",
       "      <td>2001-08-20</td>\n",
       "      <td>22814</td>\n",
       "    </tr>\n",
       "  </tbody>\n",
       "</table>\n",
       "</div>"
      ],
      "text/plain": [
       "           index  UserId  ItemId  Rating                Time        Date  \\\n",
       "1000204  1000019    6040    2917       4 2001-08-10 14:40:29  2001-08-10   \n",
       "1000205   999988    6040    1921       4 2001-08-10 14:41:04  2001-08-10   \n",
       "1000206  1000172    6040    1784       3 2001-08-10 14:41:04  2001-08-10   \n",
       "1000207  1000167    6040     161       3 2001-08-10 14:41:26  2001-08-10   \n",
       "1000208  1000042    6040    1221       4 2001-08-20 13:44:15  2001-08-20   \n",
       "\n",
       "         SessionId  \n",
       "1000204      22813  \n",
       "1000205      22813  \n",
       "1000206      22813  \n",
       "1000207      22813  \n",
       "1000208      22814  "
      ]
     },
     "execution_count": 30,
     "metadata": {},
     "output_type": "execute_result"
    }
   ],
   "source": [
    "data.tail()"
   ]
  },
  {
   "cell_type": "markdown",
   "id": "befeedeb",
   "metadata": {},
   "source": [
    "SessionId가 바르게 만들어진 것을 확인할 수 있다. "
   ]
  },
  {
   "cell_type": "markdown",
   "id": "609ae345",
   "metadata": {},
   "source": [
    "### Session Length"
   ]
  },
  {
   "cell_type": "code",
   "execution_count": 31,
   "id": "ec13054c",
   "metadata": {},
   "outputs": [
    {
     "data": {
      "text/plain": [
       "SessionId\n",
       "1         40\n",
       "2         13\n",
       "3        129\n",
       "4         51\n",
       "5         21\n",
       "        ... \n",
       "22810     13\n",
       "22811      1\n",
       "22812      1\n",
       "22813     21\n",
       "22814      1\n",
       "Length: 22814, dtype: int64"
      ]
     },
     "execution_count": 31,
     "metadata": {},
     "output_type": "execute_result"
    }
   ],
   "source": [
    "session_length = data.groupby('SessionId').size()\n",
    "session_length"
   ]
  },
  {
   "cell_type": "code",
   "execution_count": 32,
   "id": "fc86790a",
   "metadata": {},
   "outputs": [
    {
     "data": {
      "text/plain": [
       "(7.0, 43.84189532743053)"
      ]
     },
     "execution_count": 32,
     "metadata": {},
     "output_type": "execute_result"
    }
   ],
   "source": [
    "session_length.median(), session_length.mean()"
   ]
  },
  {
   "cell_type": "code",
   "execution_count": 33,
   "id": "b95251f9",
   "metadata": {},
   "outputs": [
    {
     "data": {
      "text/plain": [
       "(1, 1442)"
      ]
     },
     "execution_count": 33,
     "metadata": {},
     "output_type": "execute_result"
    }
   ],
   "source": [
    "session_length.min(), session_length.max()"
   ]
  },
  {
   "cell_type": "code",
   "execution_count": 34,
   "id": "dccb46cf",
   "metadata": {},
   "outputs": [
    {
     "data": {
      "text/plain": [
       "794.1870000000017"
      ]
     },
     "execution_count": 34,
     "metadata": {},
     "output_type": "execute_result"
    }
   ],
   "source": [
    "session_length.quantile(0.999)"
   ]
  },
  {
   "cell_type": "code",
   "execution_count": 35,
   "id": "546f7517",
   "metadata": {},
   "outputs": [
    {
     "data": {
      "text/html": [
       "<div>\n",
       "<style scoped>\n",
       "    .dataframe tbody tr th:only-of-type {\n",
       "        vertical-align: middle;\n",
       "    }\n",
       "\n",
       "    .dataframe tbody tr th {\n",
       "        vertical-align: top;\n",
       "    }\n",
       "\n",
       "    .dataframe thead th {\n",
       "        text-align: right;\n",
       "    }\n",
       "</style>\n",
       "<table border=\"1\" class=\"dataframe\">\n",
       "  <thead>\n",
       "    <tr style=\"text-align: right;\">\n",
       "      <th></th>\n",
       "      <th>index</th>\n",
       "      <th>UserId</th>\n",
       "      <th>ItemId</th>\n",
       "      <th>Rating</th>\n",
       "      <th>Time</th>\n",
       "      <th>Date</th>\n",
       "      <th>SessionId</th>\n",
       "    </tr>\n",
       "  </thead>\n",
       "  <tbody>\n",
       "    <tr>\n",
       "      <th>137560</th>\n",
       "      <td>137631</td>\n",
       "      <td>889</td>\n",
       "      <td>1266</td>\n",
       "      <td>3</td>\n",
       "      <td>2000-11-26 14:11:02</td>\n",
       "      <td>2000-11-26</td>\n",
       "      <td>3269</td>\n",
       "    </tr>\n",
       "    <tr>\n",
       "      <th>137561</th>\n",
       "      <td>137864</td>\n",
       "      <td>889</td>\n",
       "      <td>2430</td>\n",
       "      <td>3</td>\n",
       "      <td>2000-11-26 14:11:02</td>\n",
       "      <td>2000-11-26</td>\n",
       "      <td>3269</td>\n",
       "    </tr>\n",
       "    <tr>\n",
       "      <th>137562</th>\n",
       "      <td>137889</td>\n",
       "      <td>889</td>\n",
       "      <td>1643</td>\n",
       "      <td>3</td>\n",
       "      <td>2000-11-26 14:11:02</td>\n",
       "      <td>2000-11-26</td>\n",
       "      <td>3269</td>\n",
       "    </tr>\n",
       "    <tr>\n",
       "      <th>137563</th>\n",
       "      <td>138039</td>\n",
       "      <td>889</td>\n",
       "      <td>3461</td>\n",
       "      <td>3</td>\n",
       "      <td>2000-11-26 14:11:02</td>\n",
       "      <td>2000-11-26</td>\n",
       "      <td>3269</td>\n",
       "    </tr>\n",
       "    <tr>\n",
       "      <th>137564</th>\n",
       "      <td>138316</td>\n",
       "      <td>889</td>\n",
       "      <td>1193</td>\n",
       "      <td>1</td>\n",
       "      <td>2000-11-26 14:11:02</td>\n",
       "      <td>2000-11-26</td>\n",
       "      <td>3269</td>\n",
       "    </tr>\n",
       "    <tr>\n",
       "      <th>...</th>\n",
       "      <td>...</td>\n",
       "      <td>...</td>\n",
       "      <td>...</td>\n",
       "      <td>...</td>\n",
       "      <td>...</td>\n",
       "      <td>...</td>\n",
       "      <td>...</td>\n",
       "    </tr>\n",
       "    <tr>\n",
       "      <th>138997</th>\n",
       "      <td>138442</td>\n",
       "      <td>889</td>\n",
       "      <td>1543</td>\n",
       "      <td>1</td>\n",
       "      <td>2000-11-26 18:04:11</td>\n",
       "      <td>2000-11-26</td>\n",
       "      <td>3269</td>\n",
       "    </tr>\n",
       "    <tr>\n",
       "      <th>138998</th>\n",
       "      <td>138211</td>\n",
       "      <td>889</td>\n",
       "      <td>617</td>\n",
       "      <td>3</td>\n",
       "      <td>2000-11-26 18:04:24</td>\n",
       "      <td>2000-11-26</td>\n",
       "      <td>3269</td>\n",
       "    </tr>\n",
       "    <tr>\n",
       "      <th>138999</th>\n",
       "      <td>138215</td>\n",
       "      <td>889</td>\n",
       "      <td>476</td>\n",
       "      <td>2</td>\n",
       "      <td>2000-11-26 18:04:24</td>\n",
       "      <td>2000-11-26</td>\n",
       "      <td>3269</td>\n",
       "    </tr>\n",
       "    <tr>\n",
       "      <th>139000</th>\n",
       "      <td>138394</td>\n",
       "      <td>889</td>\n",
       "      <td>844</td>\n",
       "      <td>3</td>\n",
       "      <td>2000-11-26 18:04:39</td>\n",
       "      <td>2000-11-26</td>\n",
       "      <td>3269</td>\n",
       "    </tr>\n",
       "    <tr>\n",
       "      <th>139001</th>\n",
       "      <td>138640</td>\n",
       "      <td>889</td>\n",
       "      <td>167</td>\n",
       "      <td>3</td>\n",
       "      <td>2000-11-26 18:04:39</td>\n",
       "      <td>2000-11-26</td>\n",
       "      <td>3269</td>\n",
       "    </tr>\n",
       "  </tbody>\n",
       "</table>\n",
       "<p>1442 rows × 7 columns</p>\n",
       "</div>"
      ],
      "text/plain": [
       "         index  UserId  ItemId  Rating                Time        Date  \\\n",
       "137560  137631     889    1266       3 2000-11-26 14:11:02  2000-11-26   \n",
       "137561  137864     889    2430       3 2000-11-26 14:11:02  2000-11-26   \n",
       "137562  137889     889    1643       3 2000-11-26 14:11:02  2000-11-26   \n",
       "137563  138039     889    3461       3 2000-11-26 14:11:02  2000-11-26   \n",
       "137564  138316     889    1193       1 2000-11-26 14:11:02  2000-11-26   \n",
       "...        ...     ...     ...     ...                 ...         ...   \n",
       "138997  138442     889    1543       1 2000-11-26 18:04:11  2000-11-26   \n",
       "138998  138211     889     617       3 2000-11-26 18:04:24  2000-11-26   \n",
       "138999  138215     889     476       2 2000-11-26 18:04:24  2000-11-26   \n",
       "139000  138394     889     844       3 2000-11-26 18:04:39  2000-11-26   \n",
       "139001  138640     889     167       3 2000-11-26 18:04:39  2000-11-26   \n",
       "\n",
       "        SessionId  \n",
       "137560       3269  \n",
       "137561       3269  \n",
       "137562       3269  \n",
       "137563       3269  \n",
       "137564       3269  \n",
       "...           ...  \n",
       "138997       3269  \n",
       "138998       3269  \n",
       "138999       3269  \n",
       "139000       3269  \n",
       "139001       3269  \n",
       "\n",
       "[1442 rows x 7 columns]"
      ]
     },
     "execution_count": 35,
     "metadata": {},
     "output_type": "execute_result"
    }
   ],
   "source": [
    "long_session = session_length[session_length==1442].index[0]\n",
    "data[data['SessionId']==long_session]"
   ]
  },
  {
   "cell_type": "code",
   "execution_count": 36,
   "id": "60524535",
   "metadata": {},
   "outputs": [
    {
     "data": {
      "text/plain": [
       "1      0.262383\n",
       "2      0.366310\n",
       "3      0.418077\n",
       "4      0.449812\n",
       "5      0.477119\n",
       "         ...   \n",
       "779    0.998817\n",
       "781    0.998860\n",
       "786    0.998904\n",
       "792    0.998948\n",
       "794    0.998992\n",
       "Length: 573, dtype: float64"
      ]
     },
     "execution_count": 36,
     "metadata": {},
     "output_type": "execute_result"
    }
   ],
   "source": [
    "length_count = session_length.groupby(session_length).size()\n",
    "length_percent_cumsum = length_count.cumsum() / length_count.sum()\n",
    "length_percent_cumsum_999 = length_percent_cumsum[length_percent_cumsum < 0.999]\n",
    "\n",
    "length_percent_cumsum_999"
   ]
  },
  {
   "cell_type": "code",
   "execution_count": 37,
   "id": "914328f9",
   "metadata": {},
   "outputs": [
    {
     "data": {
      "image/png": "[encoded data removed]",
      "text/plain": [
       "<Figure size 864x720 with 1 Axes>"
      ]
     },
     "metadata": {
      "needs_background": "light"
     },
     "output_type": "display_data"
    }
   ],
   "source": [
    "plt.figure(figsize=(12, 10))\n",
    "plt.bar(x=length_percent_cumsum_999.index,\n",
    "        height=length_percent_cumsum_999, color='red')\n",
    "plt.xticks(length_percent_cumsum_999.index)\n",
    "plt.yticks(np.arange(0, 1.01, 0.05))\n",
    "plt.title('Cumsum Percentage Until 0.999', size=20)\n",
    "plt.show()"
   ]
  },
  {
   "cell_type": "markdown",
   "id": "6026b4d5",
   "metadata": {},
   "source": [
    "### Session Time"
   ]
  },
  {
   "cell_type": "code",
   "execution_count": 38,
   "id": "fd603416",
   "metadata": {},
   "outputs": [
    {
     "name": "stdout",
     "output_type": "stream",
     "text": [
      "2000-04-25 23:05:32\n",
      "2003-02-28 17:49:50\n"
     ]
    }
   ],
   "source": [
    "oldest, latest = data['Time'].min(), data['Time'].max()\n",
    "print(oldest) \n",
    "print(latest)"
   ]
  },
  {
   "cell_type": "code",
   "execution_count": 39,
   "id": "a5dc4d4d",
   "metadata": {},
   "outputs": [
    {
     "data": {
      "text/plain": [
       "['2000-4',\n",
       " '2000-5',\n",
       " '2000-6',\n",
       " '2000-7',\n",
       " '2000-8',\n",
       " '2000-9',\n",
       " '2000-10',\n",
       " '2000-11',\n",
       " '2000-12',\n",
       " '2001-1',\n",
       " '2001-2',\n",
       " '2001-3',\n",
       " '2001-4',\n",
       " '2001-5',\n",
       " '2001-6',\n",
       " '2001-7',\n",
       " '2001-8',\n",
       " '2001-9',\n",
       " '2001-10',\n",
       " '2001-11',\n",
       " '2001-12',\n",
       " '2002-1',\n",
       " '2002-2',\n",
       " '2002-3',\n",
       " '2002-4',\n",
       " '2002-5',\n",
       " '2002-6',\n",
       " '2002-7',\n",
       " '2002-8',\n",
       " '2002-9',\n",
       " '2002-10',\n",
       " '2002-11',\n",
       " '2002-12',\n",
       " '2003-1',\n",
       " '2003-2']"
      ]
     },
     "execution_count": 39,
     "metadata": {},
     "output_type": "execute_result"
    }
   ],
   "source": [
    "month_order = []\n",
    "for i in range(2000,2004):\n",
    "    for j in range(1,13):\n",
    "        month_order.append(f'{i}-{j}')\n",
    "month_order=month_order[3:-10]\n",
    "month_order"
   ]
  },
  {
   "cell_type": "code",
   "execution_count": 40,
   "id": "fe3e7c90",
   "metadata": {},
   "outputs": [
    {
     "data": {
      "text/plain": [
       "Text(0, 0.5, 'Count')"
      ]
     },
     "execution_count": 40,
     "metadata": {},
     "output_type": "execute_result"
    },
    {
     "data": {
      "image/png": "[encoded data removed]",
      "text/plain": [
       "<Figure size 864x720 with 1 Axes>"
      ]
     },
     "metadata": {
      "needs_background": "light"
     },
     "output_type": "display_data"
    }
   ],
   "source": [
    "data['Year']=data['Time'].apply(lambda x: f\"{x.year}-{x.month}\")\n",
    "countplt, ax = plt.subplots(figsize=(12,10))\n",
    "sns.set_theme(style=\"darkgrid\")\n",
    "ax = sns.countplot(x='Year', data=data, order=month_order)\n",
    "plt.xticks(rotation='vertical')\n",
    "ax.set_title('Reviews by Month',fontsize = 18, fontweight='bold' )\n",
    "ax.set_xlabel('Year-Month', fontsize = 15)\n",
    "ax.set_ylabel('Count', fontsize = 15)"
   ]
  },
  {
   "cell_type": "markdown",
   "id": "f9284262",
   "metadata": {},
   "source": [
    "데이터가 애초에 약 20년이 지난 것이기 때문에 최근 데이터를 이용한다고 크게 바뀌는 것이 없을 것으로 보이며 또한 후반에 데이터의 양이 많이 줄어들기 때문에 데이터 전체를 이용하기로 한다."
   ]
  },
  {
   "cell_type": "markdown",
   "id": "32bc77d3",
   "metadata": {},
   "source": [
    "### Rating 낮은 데이터 처리"
   ]
  },
  {
   "cell_type": "markdown",
   "id": "fba25367",
   "metadata": {},
   "source": [
    "실제로 rating이 높은 경우만 마음에 들었다는 것으로 해석할 수 있는데, 영화를 추천하는 것이 목표이기 때문에 rating이 3 이하인 경우는 모두 제거하고 진행하겠다."
   ]
  },
  {
   "cell_type": "code",
   "execution_count": 41,
   "id": "608abcb2",
   "metadata": {},
   "outputs": [
    {
     "data": {
      "text/html": [
       "<div>\n",
       "<style scoped>\n",
       "    .dataframe tbody tr th:only-of-type {\n",
       "        vertical-align: middle;\n",
       "    }\n",
       "\n",
       "    .dataframe tbody tr th {\n",
       "        vertical-align: top;\n",
       "    }\n",
       "\n",
       "    .dataframe thead th {\n",
       "        text-align: right;\n",
       "    }\n",
       "</style>\n",
       "<table border=\"1\" class=\"dataframe\">\n",
       "  <thead>\n",
       "    <tr style=\"text-align: right;\">\n",
       "      <th></th>\n",
       "      <th>index</th>\n",
       "      <th>UserId</th>\n",
       "      <th>ItemId</th>\n",
       "      <th>Rating</th>\n",
       "      <th>Time</th>\n",
       "      <th>Date</th>\n",
       "      <th>SessionId</th>\n",
       "      <th>Year</th>\n",
       "    </tr>\n",
       "  </thead>\n",
       "  <tbody>\n",
       "    <tr>\n",
       "      <th>0</th>\n",
       "      <td>31</td>\n",
       "      <td>1</td>\n",
       "      <td>3186</td>\n",
       "      <td>4</td>\n",
       "      <td>2000-12-31 22:00:19</td>\n",
       "      <td>2000-12-31</td>\n",
       "      <td>1</td>\n",
       "      <td>2000-12</td>\n",
       "    </tr>\n",
       "    <tr>\n",
       "      <th>1</th>\n",
       "      <td>22</td>\n",
       "      <td>1</td>\n",
       "      <td>1270</td>\n",
       "      <td>5</td>\n",
       "      <td>2000-12-31 22:00:55</td>\n",
       "      <td>2000-12-31</td>\n",
       "      <td>1</td>\n",
       "      <td>2000-12</td>\n",
       "    </tr>\n",
       "    <tr>\n",
       "      <th>2</th>\n",
       "      <td>27</td>\n",
       "      <td>1</td>\n",
       "      <td>1721</td>\n",
       "      <td>4</td>\n",
       "      <td>2000-12-31 22:00:55</td>\n",
       "      <td>2000-12-31</td>\n",
       "      <td>1</td>\n",
       "      <td>2000-12</td>\n",
       "    </tr>\n",
       "    <tr>\n",
       "      <th>3</th>\n",
       "      <td>37</td>\n",
       "      <td>1</td>\n",
       "      <td>1022</td>\n",
       "      <td>5</td>\n",
       "      <td>2000-12-31 22:00:55</td>\n",
       "      <td>2000-12-31</td>\n",
       "      <td>1</td>\n",
       "      <td>2000-12</td>\n",
       "    </tr>\n",
       "    <tr>\n",
       "      <th>5</th>\n",
       "      <td>36</td>\n",
       "      <td>1</td>\n",
       "      <td>1836</td>\n",
       "      <td>5</td>\n",
       "      <td>2000-12-31 22:02:52</td>\n",
       "      <td>2000-12-31</td>\n",
       "      <td>1</td>\n",
       "      <td>2000-12</td>\n",
       "    </tr>\n",
       "    <tr>\n",
       "      <th>...</th>\n",
       "      <td>...</td>\n",
       "      <td>...</td>\n",
       "      <td>...</td>\n",
       "      <td>...</td>\n",
       "      <td>...</td>\n",
       "      <td>...</td>\n",
       "      <td>...</td>\n",
       "      <td>...</td>\n",
       "    </tr>\n",
       "    <tr>\n",
       "      <th>1000202</th>\n",
       "      <td>1000119</td>\n",
       "      <td>6040</td>\n",
       "      <td>3671</td>\n",
       "      <td>4</td>\n",
       "      <td>2001-08-10 14:39:27</td>\n",
       "      <td>2001-08-10</td>\n",
       "      <td>22813</td>\n",
       "      <td>2001-8</td>\n",
       "    </tr>\n",
       "    <tr>\n",
       "      <th>1000203</th>\n",
       "      <td>999923</td>\n",
       "      <td>6040</td>\n",
       "      <td>232</td>\n",
       "      <td>5</td>\n",
       "      <td>2001-08-10 14:39:58</td>\n",
       "      <td>2001-08-10</td>\n",
       "      <td>22813</td>\n",
       "      <td>2001-8</td>\n",
       "    </tr>\n",
       "    <tr>\n",
       "      <th>1000204</th>\n",
       "      <td>1000019</td>\n",
       "      <td>6040</td>\n",
       "      <td>2917</td>\n",
       "      <td>4</td>\n",
       "      <td>2001-08-10 14:40:29</td>\n",
       "      <td>2001-08-10</td>\n",
       "      <td>22813</td>\n",
       "      <td>2001-8</td>\n",
       "    </tr>\n",
       "    <tr>\n",
       "      <th>1000205</th>\n",
       "      <td>999988</td>\n",
       "      <td>6040</td>\n",
       "      <td>1921</td>\n",
       "      <td>4</td>\n",
       "      <td>2001-08-10 14:41:04</td>\n",
       "      <td>2001-08-10</td>\n",
       "      <td>22813</td>\n",
       "      <td>2001-8</td>\n",
       "    </tr>\n",
       "    <tr>\n",
       "      <th>1000208</th>\n",
       "      <td>1000042</td>\n",
       "      <td>6040</td>\n",
       "      <td>1221</td>\n",
       "      <td>4</td>\n",
       "      <td>2001-08-20 13:44:15</td>\n",
       "      <td>2001-08-20</td>\n",
       "      <td>22814</td>\n",
       "      <td>2001-8</td>\n",
       "    </tr>\n",
       "  </tbody>\n",
       "</table>\n",
       "<p>575281 rows × 8 columns</p>\n",
       "</div>"
      ],
      "text/plain": [
       "           index  UserId  ItemId  Rating                Time        Date  \\\n",
       "0             31       1    3186       4 2000-12-31 22:00:19  2000-12-31   \n",
       "1             22       1    1270       5 2000-12-31 22:00:55  2000-12-31   \n",
       "2             27       1    1721       4 2000-12-31 22:00:55  2000-12-31   \n",
       "3             37       1    1022       5 2000-12-31 22:00:55  2000-12-31   \n",
       "5             36       1    1836       5 2000-12-31 22:02:52  2000-12-31   \n",
       "...          ...     ...     ...     ...                 ...         ...   \n",
       "1000202  1000119    6040    3671       4 2001-08-10 14:39:27  2001-08-10   \n",
       "1000203   999923    6040     232       5 2001-08-10 14:39:58  2001-08-10   \n",
       "1000204  1000019    6040    2917       4 2001-08-10 14:40:29  2001-08-10   \n",
       "1000205   999988    6040    1921       4 2001-08-10 14:41:04  2001-08-10   \n",
       "1000208  1000042    6040    1221       4 2001-08-20 13:44:15  2001-08-20   \n",
       "\n",
       "         SessionId     Year  \n",
       "0                1  2000-12  \n",
       "1                1  2000-12  \n",
       "2                1  2000-12  \n",
       "3                1  2000-12  \n",
       "5                1  2000-12  \n",
       "...            ...      ...  \n",
       "1000202      22813   2001-8  \n",
       "1000203      22813   2001-8  \n",
       "1000204      22813   2001-8  \n",
       "1000205      22813   2001-8  \n",
       "1000208      22814   2001-8  \n",
       "\n",
       "[575281 rows x 8 columns]"
      ]
     },
     "execution_count": 41,
     "metadata": {},
     "output_type": "execute_result"
    }
   ],
   "source": [
    "data=data[data['Rating']>3]\n",
    "data"
   ]
  },
  {
   "cell_type": "markdown",
   "id": "7054494b",
   "metadata": {},
   "source": [
    "데이터가 절반 정도로 줄어든 것을 확인할 수 있다. "
   ]
  },
  {
   "cell_type": "markdown",
   "id": "5d3e0533",
   "metadata": {},
   "source": [
    "### Data Cleansing"
   ]
  },
  {
   "cell_type": "code",
   "execution_count": 42,
   "id": "caf553ca",
   "metadata": {},
   "outputs": [],
   "source": [
    "# short_session을 제거한 다음 unpopular item을 제거하면 다시 길이가 1인 session이 생길 수 있습니다.\n",
    "# 이를 위해 반복문을 통해 지속적으로 제거 합니다.\n",
    "def cleanse_recursive(data: pd.DataFrame, shortest, least_click) -> pd.DataFrame:\n",
    "    while True:\n",
    "        before_len = len(data)\n",
    "        data = cleanse_short_session(data, shortest)\n",
    "        data = cleanse_unpopular_item(data, least_click)\n",
    "        after_len = len(data)\n",
    "        if before_len == after_len:\n",
    "            break\n",
    "    return data\n",
    "\n",
    "\n",
    "def cleanse_short_session(data: pd.DataFrame, shortest):\n",
    "    session_len = data.groupby('SessionId').size()\n",
    "    session_use = session_len[session_len >= shortest].index\n",
    "    data = data[data['SessionId'].isin(session_use)]\n",
    "    return data\n",
    "\n",
    "\n",
    "def cleanse_unpopular_item(data: pd.DataFrame, least_click):\n",
    "    item_popular = data.groupby('ItemId').size()\n",
    "    item_use = item_popular[item_popular >= least_click].index\n",
    "    data = data[data['ItemId'].isin(item_use)]\n",
    "    return data"
   ]
  },
  {
   "cell_type": "code",
   "execution_count": 43,
   "id": "197e8a89",
   "metadata": {},
   "outputs": [
    {
     "data": {
      "text/html": [
       "<div>\n",
       "<style scoped>\n",
       "    .dataframe tbody tr th:only-of-type {\n",
       "        vertical-align: middle;\n",
       "    }\n",
       "\n",
       "    .dataframe tbody tr th {\n",
       "        vertical-align: top;\n",
       "    }\n",
       "\n",
       "    .dataframe thead th {\n",
       "        text-align: right;\n",
       "    }\n",
       "</style>\n",
       "<table border=\"1\" class=\"dataframe\">\n",
       "  <thead>\n",
       "    <tr style=\"text-align: right;\">\n",
       "      <th></th>\n",
       "      <th>index</th>\n",
       "      <th>UserId</th>\n",
       "      <th>ItemId</th>\n",
       "      <th>Rating</th>\n",
       "      <th>Time</th>\n",
       "      <th>Date</th>\n",
       "      <th>SessionId</th>\n",
       "      <th>Year</th>\n",
       "    </tr>\n",
       "  </thead>\n",
       "  <tbody>\n",
       "    <tr>\n",
       "      <th>0</th>\n",
       "      <td>31</td>\n",
       "      <td>1</td>\n",
       "      <td>3186</td>\n",
       "      <td>4</td>\n",
       "      <td>2000-12-31 22:00:19</td>\n",
       "      <td>2000-12-31</td>\n",
       "      <td>1</td>\n",
       "      <td>2000-12</td>\n",
       "    </tr>\n",
       "    <tr>\n",
       "      <th>1</th>\n",
       "      <td>22</td>\n",
       "      <td>1</td>\n",
       "      <td>1270</td>\n",
       "      <td>5</td>\n",
       "      <td>2000-12-31 22:00:55</td>\n",
       "      <td>2000-12-31</td>\n",
       "      <td>1</td>\n",
       "      <td>2000-12</td>\n",
       "    </tr>\n",
       "    <tr>\n",
       "      <th>2</th>\n",
       "      <td>27</td>\n",
       "      <td>1</td>\n",
       "      <td>1721</td>\n",
       "      <td>4</td>\n",
       "      <td>2000-12-31 22:00:55</td>\n",
       "      <td>2000-12-31</td>\n",
       "      <td>1</td>\n",
       "      <td>2000-12</td>\n",
       "    </tr>\n",
       "    <tr>\n",
       "      <th>3</th>\n",
       "      <td>37</td>\n",
       "      <td>1</td>\n",
       "      <td>1022</td>\n",
       "      <td>5</td>\n",
       "      <td>2000-12-31 22:00:55</td>\n",
       "      <td>2000-12-31</td>\n",
       "      <td>1</td>\n",
       "      <td>2000-12</td>\n",
       "    </tr>\n",
       "    <tr>\n",
       "      <th>5</th>\n",
       "      <td>36</td>\n",
       "      <td>1</td>\n",
       "      <td>1836</td>\n",
       "      <td>5</td>\n",
       "      <td>2000-12-31 22:02:52</td>\n",
       "      <td>2000-12-31</td>\n",
       "      <td>1</td>\n",
       "      <td>2000-12</td>\n",
       "    </tr>\n",
       "    <tr>\n",
       "      <th>...</th>\n",
       "      <td>...</td>\n",
       "      <td>...</td>\n",
       "      <td>...</td>\n",
       "      <td>...</td>\n",
       "      <td>...</td>\n",
       "      <td>...</td>\n",
       "      <td>...</td>\n",
       "      <td>...</td>\n",
       "    </tr>\n",
       "    <tr>\n",
       "      <th>1000201</th>\n",
       "      <td>1000118</td>\n",
       "      <td>6040</td>\n",
       "      <td>457</td>\n",
       "      <td>4</td>\n",
       "      <td>2001-08-10 14:39:09</td>\n",
       "      <td>2001-08-10</td>\n",
       "      <td>22813</td>\n",
       "      <td>2001-8</td>\n",
       "    </tr>\n",
       "    <tr>\n",
       "      <th>1000202</th>\n",
       "      <td>1000119</td>\n",
       "      <td>6040</td>\n",
       "      <td>3671</td>\n",
       "      <td>4</td>\n",
       "      <td>2001-08-10 14:39:27</td>\n",
       "      <td>2001-08-10</td>\n",
       "      <td>22813</td>\n",
       "      <td>2001-8</td>\n",
       "    </tr>\n",
       "    <tr>\n",
       "      <th>1000203</th>\n",
       "      <td>999923</td>\n",
       "      <td>6040</td>\n",
       "      <td>232</td>\n",
       "      <td>5</td>\n",
       "      <td>2001-08-10 14:39:58</td>\n",
       "      <td>2001-08-10</td>\n",
       "      <td>22813</td>\n",
       "      <td>2001-8</td>\n",
       "    </tr>\n",
       "    <tr>\n",
       "      <th>1000204</th>\n",
       "      <td>1000019</td>\n",
       "      <td>6040</td>\n",
       "      <td>2917</td>\n",
       "      <td>4</td>\n",
       "      <td>2001-08-10 14:40:29</td>\n",
       "      <td>2001-08-10</td>\n",
       "      <td>22813</td>\n",
       "      <td>2001-8</td>\n",
       "    </tr>\n",
       "    <tr>\n",
       "      <th>1000205</th>\n",
       "      <td>999988</td>\n",
       "      <td>6040</td>\n",
       "      <td>1921</td>\n",
       "      <td>4</td>\n",
       "      <td>2001-08-10 14:41:04</td>\n",
       "      <td>2001-08-10</td>\n",
       "      <td>22813</td>\n",
       "      <td>2001-8</td>\n",
       "    </tr>\n",
       "  </tbody>\n",
       "</table>\n",
       "<p>569083 rows × 8 columns</p>\n",
       "</div>"
      ],
      "text/plain": [
       "           index  UserId  ItemId  Rating                Time        Date  \\\n",
       "0             31       1    3186       4 2000-12-31 22:00:19  2000-12-31   \n",
       "1             22       1    1270       5 2000-12-31 22:00:55  2000-12-31   \n",
       "2             27       1    1721       4 2000-12-31 22:00:55  2000-12-31   \n",
       "3             37       1    1022       5 2000-12-31 22:00:55  2000-12-31   \n",
       "5             36       1    1836       5 2000-12-31 22:02:52  2000-12-31   \n",
       "...          ...     ...     ...     ...                 ...         ...   \n",
       "1000201  1000118    6040     457       4 2001-08-10 14:39:09  2001-08-10   \n",
       "1000202  1000119    6040    3671       4 2001-08-10 14:39:27  2001-08-10   \n",
       "1000203   999923    6040     232       5 2001-08-10 14:39:58  2001-08-10   \n",
       "1000204  1000019    6040    2917       4 2001-08-10 14:40:29  2001-08-10   \n",
       "1000205   999988    6040    1921       4 2001-08-10 14:41:04  2001-08-10   \n",
       "\n",
       "         SessionId     Year  \n",
       "0                1  2000-12  \n",
       "1                1  2000-12  \n",
       "2                1  2000-12  \n",
       "3                1  2000-12  \n",
       "5                1  2000-12  \n",
       "...            ...      ...  \n",
       "1000201      22813   2001-8  \n",
       "1000202      22813   2001-8  \n",
       "1000203      22813   2001-8  \n",
       "1000204      22813   2001-8  \n",
       "1000205      22813   2001-8  \n",
       "\n",
       "[569083 rows x 8 columns]"
      ]
     },
     "execution_count": 43,
     "metadata": {},
     "output_type": "execute_result"
    }
   ],
   "source": [
    "data = cleanse_recursive(data, shortest=2, least_click=5)\n",
    "data"
   ]
  },
  {
   "cell_type": "markdown",
   "id": "4dcbf4d2",
   "metadata": {},
   "source": [
    "### Train / Valid / Test split"
   ]
  },
  {
   "cell_type": "code",
   "execution_count": 44,
   "id": "daf6f7c8",
   "metadata": {},
   "outputs": [
    {
     "data": {
      "image/png": "[encoded data removed]",
      "text/plain": [
       "<Figure size 864x720 with 1 Axes>"
      ]
     },
     "metadata": {},
     "output_type": "display_data"
    }
   ],
   "source": [
    "data['Year']=data['Time'].apply(lambda x: f\"{x.year}-{x.month}\")\n",
    "countplt, ax = plt.subplots(figsize=(12,10))\n",
    "sns.set_theme(style=\"darkgrid\")\n",
    "ax = sns.countplot(x='Year', data=data, order=month_order)\n",
    "plt.xticks(rotation='vertical')\n",
    "ax.set_title('Reviews by Month',fontsize = 18, fontweight='bold' )\n",
    "ax.set_xlabel('Year-Month', fontsize = 15)\n",
    "ax.set_ylabel('Count', fontsize = 15)\n",
    "for rect in ax.patches:\n",
    "    ax.text (rect.get_x() + rect.get_width()  / 2,rect.get_height()+ 0.75,rect.get_height(),horizontalalignment='center', fontsize =11)"
   ]
  },
  {
   "cell_type": "markdown",
   "id": "180ce0ee",
   "metadata": {},
   "source": [
    "후반의 데이터가 양이 굉장히 적기 때문에 valid와 test set을 마지막 16개월을 각각 대략 10개월과 6개월로 나누어서 구성하겠다. "
   ]
  },
  {
   "cell_type": "code",
   "execution_count": 45,
   "id": "703e63b6",
   "metadata": {},
   "outputs": [],
   "source": [
    "def split_by_date(data: pd.DataFrame, n_days: int):\n",
    "    final_time = data['Time'].max()\n",
    "    session_last_time = data.groupby('SessionId')['Time'].max()\n",
    "    session_in_train = session_last_time[session_last_time < final_time - dt.timedelta(n_days)].index\n",
    "    session_in_test = session_last_time[session_last_time >= final_time - dt.timedelta(n_days)].index\n",
    "\n",
    "    before_date = data[data['SessionId'].isin(session_in_train)]\n",
    "    after_date = data[data['SessionId'].isin(session_in_test)]\n",
    "    after_date = after_date[after_date['ItemId'].isin(before_date['ItemId'])]\n",
    "    return before_date, after_date"
   ]
  },
  {
   "cell_type": "code",
   "execution_count": 46,
   "id": "a13fa857",
   "metadata": {},
   "outputs": [],
   "source": [
    "tr, test = split_by_date(data, n_days=30*10)\n",
    "tr, val = split_by_date(tr, n_days=30*6)"
   ]
  },
  {
   "cell_type": "code",
   "execution_count": 47,
   "id": "6155caaf",
   "metadata": {},
   "outputs": [],
   "source": [
    "# data에 대한 정보를 살펴봅니다.\n",
    "def stats_info(data: pd.DataFrame, status: str):\n",
    "    print(f'* {status} Set Stats Info\\n'\n",
    "          f'\\t Events: {len(data)}\\n'\n",
    "          f'\\t Sessions: {data[\"SessionId\"].nunique()}\\n'\n",
    "          f'\\t Items: {data[\"ItemId\"].nunique()}\\n'\n",
    "          f'\\t First Time : {data[\"Time\"].min()}\\n'\n",
    "          f'\\t Last Time : {data[\"Time\"].max()}\\n')"
   ]
  },
  {
   "cell_type": "code",
   "execution_count": 48,
   "id": "8b38b1e1",
   "metadata": {},
   "outputs": [
    {
     "name": "stdout",
     "output_type": "stream",
     "text": [
      "* train Set Stats Info\n",
      "\t Events: 553103\n",
      "\t Sessions: 12771\n",
      "\t Items: 3115\n",
      "\t First Time : 2000-04-25 23:05:32\n",
      "\t Last Time : 2001-11-05 00:09:19\n",
      "\n",
      "* valid Set Stats Info\n",
      "\t Events: 8374\n",
      "\t Sessions: 744\n",
      "\t Items: 1984\n",
      "\t First Time : 2001-11-05 04:04:02\n",
      "\t Last Time : 2002-05-04 02:01:59\n",
      "\n",
      "* test Set Stats Info\n",
      "\t Events: 7594\n",
      "\t Sessions: 790\n",
      "\t Items: 1890\n",
      "\t First Time : 2002-05-04 09:26:12\n",
      "\t Last Time : 2003-02-28 17:49:50\n",
      "\n"
     ]
    }
   ],
   "source": [
    "stats_info(tr, 'train')\n",
    "stats_info(val, 'valid')\n",
    "stats_info(test, 'test')"
   ]
  },
  {
   "cell_type": "code",
   "execution_count": 49,
   "id": "790d4838",
   "metadata": {},
   "outputs": [],
   "source": [
    "# train set에 없는 아이템이 val, test기간에 생길 수 있으므로 train data를 기준으로 인덱싱합니다.\n",
    "id2idx = {item_id : index for index, item_id in enumerate(tr['ItemId'].unique())}\n",
    "\n",
    "def indexing(df, id2idx):\n",
    "    df['item_idx'] = df['ItemId'].map(lambda x: id2idx.get(x, -1))  # id2idx에 없는 아이템은 모르는 값(-1) 처리 해줍니다.\n",
    "    return df\n",
    "\n",
    "tr = indexing(tr, id2idx)\n",
    "val = indexing(val, id2idx)\n",
    "test = indexing(test, id2idx)"
   ]
  },
  {
   "cell_type": "code",
   "execution_count": 50,
   "id": "a6a1b43a",
   "metadata": {},
   "outputs": [],
   "source": [
    "save_path = Path(os.getenv('HOME')+'/aiffel/yoochoose/data/processed_ex')\n",
    "save_path.mkdir(parents=True, exist_ok=True)\n",
    "\n",
    "tr.to_pickle(save_path / 'train.pkl')\n",
    "val.to_pickle(save_path / 'valid.pkl')\n",
    "test.to_pickle(save_path / 'test.pkl')"
   ]
  },
  {
   "cell_type": "markdown",
   "id": "0b2817f8",
   "metadata": {},
   "source": [
    "## 미니 배치 구성"
   ]
  },
  {
   "cell_type": "code",
   "execution_count": 51,
   "id": "aca64386",
   "metadata": {},
   "outputs": [],
   "source": [
    "class SessionDataset:\n",
    "    \"\"\"Credit to yhs-968/pyGRU4REC.\"\"\"\n",
    "\n",
    "    def __init__(self, data):\n",
    "        self.df = data\n",
    "        self.click_offsets = self.get_click_offsets()\n",
    "        self.session_idx = np.arange(self.df['SessionId'].nunique())  # indexing to SessionId\n",
    "\n",
    "    def get_click_offsets(self):\n",
    "        \"\"\"\n",
    "        Return the indexes of the first click of each session IDs,\n",
    "        \"\"\"\n",
    "        offsets = np.zeros(self.df['SessionId'].nunique() + 1, dtype=np.int32)\n",
    "        offsets[1:] = self.df.groupby('SessionId').size().cumsum()\n",
    "        return offsets"
   ]
  },
  {
   "cell_type": "code",
   "execution_count": 52,
   "id": "53d22551",
   "metadata": {},
   "outputs": [
    {
     "data": {
      "text/html": [
       "<div>\n",
       "<style scoped>\n",
       "    .dataframe tbody tr th:only-of-type {\n",
       "        vertical-align: middle;\n",
       "    }\n",
       "\n",
       "    .dataframe tbody tr th {\n",
       "        vertical-align: top;\n",
       "    }\n",
       "\n",
       "    .dataframe thead th {\n",
       "        text-align: right;\n",
       "    }\n",
       "</style>\n",
       "<table border=\"1\" class=\"dataframe\">\n",
       "  <thead>\n",
       "    <tr style=\"text-align: right;\">\n",
       "      <th></th>\n",
       "      <th>index</th>\n",
       "      <th>UserId</th>\n",
       "      <th>ItemId</th>\n",
       "      <th>Rating</th>\n",
       "      <th>Time</th>\n",
       "      <th>Date</th>\n",
       "      <th>SessionId</th>\n",
       "      <th>Year</th>\n",
       "      <th>item_idx</th>\n",
       "    </tr>\n",
       "  </thead>\n",
       "  <tbody>\n",
       "    <tr>\n",
       "      <th>0</th>\n",
       "      <td>31</td>\n",
       "      <td>1</td>\n",
       "      <td>3186</td>\n",
       "      <td>4</td>\n",
       "      <td>2000-12-31 22:00:19</td>\n",
       "      <td>2000-12-31</td>\n",
       "      <td>1</td>\n",
       "      <td>2000-12</td>\n",
       "      <td>0</td>\n",
       "    </tr>\n",
       "    <tr>\n",
       "      <th>1</th>\n",
       "      <td>22</td>\n",
       "      <td>1</td>\n",
       "      <td>1270</td>\n",
       "      <td>5</td>\n",
       "      <td>2000-12-31 22:00:55</td>\n",
       "      <td>2000-12-31</td>\n",
       "      <td>1</td>\n",
       "      <td>2000-12</td>\n",
       "      <td>1</td>\n",
       "    </tr>\n",
       "    <tr>\n",
       "      <th>2</th>\n",
       "      <td>27</td>\n",
       "      <td>1</td>\n",
       "      <td>1721</td>\n",
       "      <td>4</td>\n",
       "      <td>2000-12-31 22:00:55</td>\n",
       "      <td>2000-12-31</td>\n",
       "      <td>1</td>\n",
       "      <td>2000-12</td>\n",
       "      <td>2</td>\n",
       "    </tr>\n",
       "    <tr>\n",
       "      <th>3</th>\n",
       "      <td>37</td>\n",
       "      <td>1</td>\n",
       "      <td>1022</td>\n",
       "      <td>5</td>\n",
       "      <td>2000-12-31 22:00:55</td>\n",
       "      <td>2000-12-31</td>\n",
       "      <td>1</td>\n",
       "      <td>2000-12</td>\n",
       "      <td>3</td>\n",
       "    </tr>\n",
       "    <tr>\n",
       "      <th>5</th>\n",
       "      <td>36</td>\n",
       "      <td>1</td>\n",
       "      <td>1836</td>\n",
       "      <td>5</td>\n",
       "      <td>2000-12-31 22:02:52</td>\n",
       "      <td>2000-12-31</td>\n",
       "      <td>1</td>\n",
       "      <td>2000-12</td>\n",
       "      <td>4</td>\n",
       "    </tr>\n",
       "    <tr>\n",
       "      <th>6</th>\n",
       "      <td>3</td>\n",
       "      <td>1</td>\n",
       "      <td>3408</td>\n",
       "      <td>4</td>\n",
       "      <td>2000-12-31 22:04:35</td>\n",
       "      <td>2000-12-31</td>\n",
       "      <td>1</td>\n",
       "      <td>2000-12</td>\n",
       "      <td>5</td>\n",
       "    </tr>\n",
       "    <tr>\n",
       "      <th>7</th>\n",
       "      <td>7</td>\n",
       "      <td>1</td>\n",
       "      <td>2804</td>\n",
       "      <td>5</td>\n",
       "      <td>2000-12-31 22:11:59</td>\n",
       "      <td>2000-12-31</td>\n",
       "      <td>1</td>\n",
       "      <td>2000-12</td>\n",
       "      <td>6</td>\n",
       "    </tr>\n",
       "    <tr>\n",
       "      <th>8</th>\n",
       "      <td>47</td>\n",
       "      <td>1</td>\n",
       "      <td>1207</td>\n",
       "      <td>4</td>\n",
       "      <td>2000-12-31 22:11:59</td>\n",
       "      <td>2000-12-31</td>\n",
       "      <td>1</td>\n",
       "      <td>2000-12</td>\n",
       "      <td>7</td>\n",
       "    </tr>\n",
       "    <tr>\n",
       "      <th>9</th>\n",
       "      <td>0</td>\n",
       "      <td>1</td>\n",
       "      <td>1193</td>\n",
       "      <td>5</td>\n",
       "      <td>2000-12-31 22:12:40</td>\n",
       "      <td>2000-12-31</td>\n",
       "      <td>1</td>\n",
       "      <td>2000-12</td>\n",
       "      <td>8</td>\n",
       "    </tr>\n",
       "    <tr>\n",
       "      <th>11</th>\n",
       "      <td>44</td>\n",
       "      <td>1</td>\n",
       "      <td>260</td>\n",
       "      <td>4</td>\n",
       "      <td>2000-12-31 22:12:40</td>\n",
       "      <td>2000-12-31</td>\n",
       "      <td>1</td>\n",
       "      <td>2000-12</td>\n",
       "      <td>9</td>\n",
       "    </tr>\n",
       "  </tbody>\n",
       "</table>\n",
       "</div>"
      ],
      "text/plain": [
       "    index  UserId  ItemId  Rating                Time        Date  SessionId  \\\n",
       "0      31       1    3186       4 2000-12-31 22:00:19  2000-12-31          1   \n",
       "1      22       1    1270       5 2000-12-31 22:00:55  2000-12-31          1   \n",
       "2      27       1    1721       4 2000-12-31 22:00:55  2000-12-31          1   \n",
       "3      37       1    1022       5 2000-12-31 22:00:55  2000-12-31          1   \n",
       "5      36       1    1836       5 2000-12-31 22:02:52  2000-12-31          1   \n",
       "6       3       1    3408       4 2000-12-31 22:04:35  2000-12-31          1   \n",
       "7       7       1    2804       5 2000-12-31 22:11:59  2000-12-31          1   \n",
       "8      47       1    1207       4 2000-12-31 22:11:59  2000-12-31          1   \n",
       "9       0       1    1193       5 2000-12-31 22:12:40  2000-12-31          1   \n",
       "11     44       1     260       4 2000-12-31 22:12:40  2000-12-31          1   \n",
       "\n",
       "       Year  item_idx  \n",
       "0   2000-12         0  \n",
       "1   2000-12         1  \n",
       "2   2000-12         2  \n",
       "3   2000-12         3  \n",
       "5   2000-12         4  \n",
       "6   2000-12         5  \n",
       "7   2000-12         6  \n",
       "8   2000-12         7  \n",
       "9   2000-12         8  \n",
       "11  2000-12         9  "
      ]
     },
     "execution_count": 52,
     "metadata": {},
     "output_type": "execute_result"
    }
   ],
   "source": [
    "tr_dataset = SessionDataset(tr)\n",
    "tr_dataset.df.head(10)"
   ]
  },
  {
   "cell_type": "code",
   "execution_count": 53,
   "id": "2458ef0e",
   "metadata": {},
   "outputs": [
    {
     "data": {
      "text/plain": [
       "array([     0,     34,     45, ..., 553077, 553086, 553103], dtype=int32)"
      ]
     },
     "execution_count": 53,
     "metadata": {},
     "output_type": "execute_result"
    }
   ],
   "source": [
    "tr_dataset.click_offsets"
   ]
  },
  {
   "cell_type": "code",
   "execution_count": 54,
   "id": "04060542",
   "metadata": {},
   "outputs": [
    {
     "data": {
      "text/plain": [
       "array([    0,     1,     2, ..., 12768, 12769, 12770])"
      ]
     },
     "execution_count": 54,
     "metadata": {},
     "output_type": "execute_result"
    }
   ],
   "source": [
    "tr_dataset.session_idx"
   ]
  },
  {
   "cell_type": "code",
   "execution_count": 55,
   "id": "b0fe8948",
   "metadata": {},
   "outputs": [],
   "source": [
    "class SessionDataLoader:\n",
    "    \"\"\"Credit to yhs-968/pyGRU4REC.\"\"\"\n",
    "\n",
    "    def __init__(self, dataset: SessionDataset, batch_size=50):\n",
    "        self.dataset = dataset\n",
    "        self.batch_size = batch_size\n",
    "\n",
    "    def __iter__(self):\n",
    "        \"\"\" Returns the iterator for producing session-parallel training mini-batches.\n",
    "        Yields:\n",
    "            input (B,):  Item indices that will be encoded as one-hot vectors later.\n",
    "            target (B,): a Variable that stores the target item indices\n",
    "            masks: Numpy array indicating the positions of the sessions to be terminated\n",
    "        \"\"\"\n",
    "\n",
    "        start, end, mask, last_session, finished = self.initialize()  # initialize 메소드에서 확인해주세요.\n",
    "        \"\"\"\n",
    "        start : Index Where Session Start\n",
    "        end : Index Where Session End\n",
    "        mask : indicator for the sessions to be terminated\n",
    "        \"\"\"\n",
    "\n",
    "        while not finished:\n",
    "            min_len = (end - start).min() - 1  # Shortest Length Among Sessions\n",
    "            for i in range(min_len):\n",
    "                # Build inputs & targets\n",
    "                inp = self.dataset.df['item_idx'].values[start + i]\n",
    "                target = self.dataset.df['item_idx'].values[start + i + 1]\n",
    "                yield inp, target, mask\n",
    "\n",
    "            start, end, mask, last_session, finished = self.update_status(start, end, min_len, last_session, finished)\n",
    "\n",
    "    def initialize(self):\n",
    "        first_iters = np.arange(self.batch_size)    # 첫 배치에 사용할 세션 Index를 가져옵니다.\n",
    "        last_session = self.batch_size - 1    # 마지막으로 다루고 있는 세션 Index를 저장해둡니다.\n",
    "        start = self.dataset.click_offsets[self.dataset.session_idx[first_iters]]       # data 상에서 session이 시작된 위치를 가져옵니다.\n",
    "        end = self.dataset.click_offsets[self.dataset.session_idx[first_iters] + 1]  # session이 끝난 위치 바로 다음 위치를 가져옵니다.\n",
    "        mask = np.array([])   # session의 모든 아이템을 다 돌은 경우 mask에 추가해줄 것입니다.\n",
    "        finished = False         # data를 전부 돌았는지 기록하기 위한 변수입니다.\n",
    "        return start, end, mask, last_session, finished\n",
    "\n",
    "    def update_status(self, start: np.ndarray, end: np.ndarray, min_len: int, last_session: int, finished: bool):  \n",
    "        # 다음 배치 데이터를 생성하기 위해 상태를 update합니다.\n",
    "        \n",
    "        start += min_len   # __iter__에서 min_len 만큼 for문을 돌았으므로 start를 min_len 만큼 더해줍니다.\n",
    "        mask = np.arange(self.batch_size)[(end - start) == 1]  \n",
    "        # end는 다음 세션이 시작되는 위치인데 start와 한 칸 차이난다는 것은 session이 끝났다는 뜻입니다. mask에 기록해줍니다.\n",
    "\n",
    "        for i, idx in enumerate(mask, start=1):  # mask에 추가된 세션 개수만큼 새로운 세션을 돌것입니다.\n",
    "            new_session = last_session + i  \n",
    "            if new_session > self.dataset.session_idx[-1]:  # 만약 새로운 세션이 마지막 세션 index보다 크다면 모든 학습데이터를 돈 것입니다.\n",
    "                finished = True\n",
    "                break\n",
    "            # update the next starting/ending point\n",
    "            start[idx] = self.dataset.click_offsets[self.dataset.session_idx[new_session]]     # 종료된 세션 대신 새로운 세션의 시작점을 기록합니다.\n",
    "            end[idx] = self.dataset.click_offsets[self.dataset.session_idx[new_session] + 1]\n",
    "\n",
    "        last_session += len(mask)  # 마지막 세션의 위치를 기록해둡니다.\n",
    "        return start, end, mask, last_session, finished"
   ]
  },
  {
   "cell_type": "code",
   "execution_count": 56,
   "id": "362931e4",
   "metadata": {},
   "outputs": [
    {
     "data": {
      "text/html": [
       "<div>\n",
       "<style scoped>\n",
       "    .dataframe tbody tr th:only-of-type {\n",
       "        vertical-align: middle;\n",
       "    }\n",
       "\n",
       "    .dataframe tbody tr th {\n",
       "        vertical-align: top;\n",
       "    }\n",
       "\n",
       "    .dataframe thead th {\n",
       "        text-align: right;\n",
       "    }\n",
       "</style>\n",
       "<table border=\"1\" class=\"dataframe\">\n",
       "  <thead>\n",
       "    <tr style=\"text-align: right;\">\n",
       "      <th></th>\n",
       "      <th>index</th>\n",
       "      <th>UserId</th>\n",
       "      <th>ItemId</th>\n",
       "      <th>Rating</th>\n",
       "      <th>Time</th>\n",
       "      <th>Date</th>\n",
       "      <th>SessionId</th>\n",
       "      <th>Year</th>\n",
       "      <th>item_idx</th>\n",
       "    </tr>\n",
       "  </thead>\n",
       "  <tbody>\n",
       "    <tr>\n",
       "      <th>0</th>\n",
       "      <td>31</td>\n",
       "      <td>1</td>\n",
       "      <td>3186</td>\n",
       "      <td>4</td>\n",
       "      <td>2000-12-31 22:00:19</td>\n",
       "      <td>2000-12-31</td>\n",
       "      <td>1</td>\n",
       "      <td>2000-12</td>\n",
       "      <td>0</td>\n",
       "    </tr>\n",
       "    <tr>\n",
       "      <th>1</th>\n",
       "      <td>22</td>\n",
       "      <td>1</td>\n",
       "      <td>1270</td>\n",
       "      <td>5</td>\n",
       "      <td>2000-12-31 22:00:55</td>\n",
       "      <td>2000-12-31</td>\n",
       "      <td>1</td>\n",
       "      <td>2000-12</td>\n",
       "      <td>1</td>\n",
       "    </tr>\n",
       "    <tr>\n",
       "      <th>2</th>\n",
       "      <td>27</td>\n",
       "      <td>1</td>\n",
       "      <td>1721</td>\n",
       "      <td>4</td>\n",
       "      <td>2000-12-31 22:00:55</td>\n",
       "      <td>2000-12-31</td>\n",
       "      <td>1</td>\n",
       "      <td>2000-12</td>\n",
       "      <td>2</td>\n",
       "    </tr>\n",
       "    <tr>\n",
       "      <th>3</th>\n",
       "      <td>37</td>\n",
       "      <td>1</td>\n",
       "      <td>1022</td>\n",
       "      <td>5</td>\n",
       "      <td>2000-12-31 22:00:55</td>\n",
       "      <td>2000-12-31</td>\n",
       "      <td>1</td>\n",
       "      <td>2000-12</td>\n",
       "      <td>3</td>\n",
       "    </tr>\n",
       "    <tr>\n",
       "      <th>5</th>\n",
       "      <td>36</td>\n",
       "      <td>1</td>\n",
       "      <td>1836</td>\n",
       "      <td>5</td>\n",
       "      <td>2000-12-31 22:02:52</td>\n",
       "      <td>2000-12-31</td>\n",
       "      <td>1</td>\n",
       "      <td>2000-12</td>\n",
       "      <td>4</td>\n",
       "    </tr>\n",
       "    <tr>\n",
       "      <th>6</th>\n",
       "      <td>3</td>\n",
       "      <td>1</td>\n",
       "      <td>3408</td>\n",
       "      <td>4</td>\n",
       "      <td>2000-12-31 22:04:35</td>\n",
       "      <td>2000-12-31</td>\n",
       "      <td>1</td>\n",
       "      <td>2000-12</td>\n",
       "      <td>5</td>\n",
       "    </tr>\n",
       "    <tr>\n",
       "      <th>7</th>\n",
       "      <td>7</td>\n",
       "      <td>1</td>\n",
       "      <td>2804</td>\n",
       "      <td>5</td>\n",
       "      <td>2000-12-31 22:11:59</td>\n",
       "      <td>2000-12-31</td>\n",
       "      <td>1</td>\n",
       "      <td>2000-12</td>\n",
       "      <td>6</td>\n",
       "    </tr>\n",
       "    <tr>\n",
       "      <th>8</th>\n",
       "      <td>47</td>\n",
       "      <td>1</td>\n",
       "      <td>1207</td>\n",
       "      <td>4</td>\n",
       "      <td>2000-12-31 22:11:59</td>\n",
       "      <td>2000-12-31</td>\n",
       "      <td>1</td>\n",
       "      <td>2000-12</td>\n",
       "      <td>7</td>\n",
       "    </tr>\n",
       "    <tr>\n",
       "      <th>9</th>\n",
       "      <td>0</td>\n",
       "      <td>1</td>\n",
       "      <td>1193</td>\n",
       "      <td>5</td>\n",
       "      <td>2000-12-31 22:12:40</td>\n",
       "      <td>2000-12-31</td>\n",
       "      <td>1</td>\n",
       "      <td>2000-12</td>\n",
       "      <td>8</td>\n",
       "    </tr>\n",
       "    <tr>\n",
       "      <th>11</th>\n",
       "      <td>44</td>\n",
       "      <td>1</td>\n",
       "      <td>260</td>\n",
       "      <td>4</td>\n",
       "      <td>2000-12-31 22:12:40</td>\n",
       "      <td>2000-12-31</td>\n",
       "      <td>1</td>\n",
       "      <td>2000-12</td>\n",
       "      <td>9</td>\n",
       "    </tr>\n",
       "    <tr>\n",
       "      <th>12</th>\n",
       "      <td>9</td>\n",
       "      <td>1</td>\n",
       "      <td>919</td>\n",
       "      <td>4</td>\n",
       "      <td>2000-12-31 22:22:48</td>\n",
       "      <td>2000-12-31</td>\n",
       "      <td>1</td>\n",
       "      <td>2000-12</td>\n",
       "      <td>10</td>\n",
       "    </tr>\n",
       "    <tr>\n",
       "      <th>13</th>\n",
       "      <td>51</td>\n",
       "      <td>1</td>\n",
       "      <td>608</td>\n",
       "      <td>4</td>\n",
       "      <td>2000-12-31 22:23:18</td>\n",
       "      <td>2000-12-31</td>\n",
       "      <td>1</td>\n",
       "      <td>2000-12</td>\n",
       "      <td>11</td>\n",
       "    </tr>\n",
       "    <tr>\n",
       "      <th>14</th>\n",
       "      <td>43</td>\n",
       "      <td>1</td>\n",
       "      <td>2692</td>\n",
       "      <td>4</td>\n",
       "      <td>2000-12-31 22:26:10</td>\n",
       "      <td>2000-12-31</td>\n",
       "      <td>1</td>\n",
       "      <td>2000-12</td>\n",
       "      <td>12</td>\n",
       "    </tr>\n",
       "    <tr>\n",
       "      <th>15</th>\n",
       "      <td>41</td>\n",
       "      <td>1</td>\n",
       "      <td>1961</td>\n",
       "      <td>5</td>\n",
       "      <td>2000-12-31 22:26:30</td>\n",
       "      <td>2000-12-31</td>\n",
       "      <td>1</td>\n",
       "      <td>2000-12</td>\n",
       "      <td>13</td>\n",
       "    </tr>\n",
       "    <tr>\n",
       "      <th>16</th>\n",
       "      <td>48</td>\n",
       "      <td>1</td>\n",
       "      <td>2028</td>\n",
       "      <td>5</td>\n",
       "      <td>2000-12-31 22:26:59</td>\n",
       "      <td>2000-12-31</td>\n",
       "      <td>1</td>\n",
       "      <td>2000-12</td>\n",
       "      <td>14</td>\n",
       "    </tr>\n",
       "  </tbody>\n",
       "</table>\n",
       "</div>"
      ],
      "text/plain": [
       "    index  UserId  ItemId  Rating                Time        Date  SessionId  \\\n",
       "0      31       1    3186       4 2000-12-31 22:00:19  2000-12-31          1   \n",
       "1      22       1    1270       5 2000-12-31 22:00:55  2000-12-31          1   \n",
       "2      27       1    1721       4 2000-12-31 22:00:55  2000-12-31          1   \n",
       "3      37       1    1022       5 2000-12-31 22:00:55  2000-12-31          1   \n",
       "5      36       1    1836       5 2000-12-31 22:02:52  2000-12-31          1   \n",
       "6       3       1    3408       4 2000-12-31 22:04:35  2000-12-31          1   \n",
       "7       7       1    2804       5 2000-12-31 22:11:59  2000-12-31          1   \n",
       "8      47       1    1207       4 2000-12-31 22:11:59  2000-12-31          1   \n",
       "9       0       1    1193       5 2000-12-31 22:12:40  2000-12-31          1   \n",
       "11     44       1     260       4 2000-12-31 22:12:40  2000-12-31          1   \n",
       "12      9       1     919       4 2000-12-31 22:22:48  2000-12-31          1   \n",
       "13     51       1     608       4 2000-12-31 22:23:18  2000-12-31          1   \n",
       "14     43       1    2692       4 2000-12-31 22:26:10  2000-12-31          1   \n",
       "15     41       1    1961       5 2000-12-31 22:26:30  2000-12-31          1   \n",
       "16     48       1    2028       5 2000-12-31 22:26:59  2000-12-31          1   \n",
       "\n",
       "       Year  item_idx  \n",
       "0   2000-12         0  \n",
       "1   2000-12         1  \n",
       "2   2000-12         2  \n",
       "3   2000-12         3  \n",
       "5   2000-12         4  \n",
       "6   2000-12         5  \n",
       "7   2000-12         6  \n",
       "8   2000-12         7  \n",
       "9   2000-12         8  \n",
       "11  2000-12         9  \n",
       "12  2000-12        10  \n",
       "13  2000-12        11  \n",
       "14  2000-12        12  \n",
       "15  2000-12        13  \n",
       "16  2000-12        14  "
      ]
     },
     "execution_count": 56,
     "metadata": {},
     "output_type": "execute_result"
    }
   ],
   "source": [
    "tr_data_loader = SessionDataLoader(tr_dataset, batch_size=4)\n",
    "tr_dataset.df.head(15)"
   ]
  },
  {
   "cell_type": "code",
   "execution_count": 57,
   "id": "833d6190",
   "metadata": {},
   "outputs": [],
   "source": [
    "iter_ex = iter(tr_data_loader)"
   ]
  },
  {
   "cell_type": "code",
   "execution_count": 58,
   "id": "84cbd311",
   "metadata": {},
   "outputs": [
    {
     "name": "stdout",
     "output_type": "stream",
     "text": [
      "Model Input Item Idx are : [ 0 34 45 52]\n",
      "Label Item Idx are :       [  1  35  46 112]\n",
      "Previous Masked Input Idx are []\n"
     ]
    }
   ],
   "source": [
    "inputs, labels, mask =  next(iter_ex)\n",
    "print(f'Model Input Item Idx are : {inputs}')\n",
    "print(f'Label Item Idx are : {\"\":5} {labels}')\n",
    "print(f'Previous Masked Input Idx are {mask}')"
   ]
  },
  {
   "cell_type": "markdown",
   "id": "aeb987a0",
   "metadata": {},
   "source": [
    "## 모델 구성\n",
    "### Evaluation Metric"
   ]
  },
  {
   "cell_type": "code",
   "execution_count": 59,
   "id": "292bac31",
   "metadata": {},
   "outputs": [],
   "source": [
    "def mrr_k(pred, truth: int, k: int):\n",
    "    indexing = np.where(pred[:k] == truth)[0]\n",
    "    if len(indexing) > 0:\n",
    "        return 1 / (indexing[0] + 1)\n",
    "    else:\n",
    "        return 0\n",
    "\n",
    "\n",
    "def recall_k(pred, truth: int, k: int) -> int:\n",
    "    answer = truth in pred[:k]\n",
    "    return int(answer)"
   ]
  },
  {
   "cell_type": "markdown",
   "id": "8d0cdac9",
   "metadata": {},
   "source": [
    "### Model Architecture"
   ]
  },
  {
   "cell_type": "code",
   "execution_count": 60,
   "id": "1ad6c6ff",
   "metadata": {},
   "outputs": [],
   "source": [
    "def create_model(args):\n",
    "    inputs = Input(batch_shape=(args.batch_size, 1, args.num_items))\n",
    "    gru, _ = GRU(args.hsz, stateful=True, return_state=True, name='GRU')(inputs)\n",
    "    dropout = Dropout(args.drop_rate)(gru)\n",
    "    predictions = Dense(args.num_items, activation='softmax')(dropout)\n",
    "    model = Model(inputs=inputs, outputs=[predictions])\n",
    "    model.compile(loss=categorical_crossentropy, optimizer=Adam(args.lr), metrics=['accuracy'])\n",
    "    model.summary()\n",
    "    return model"
   ]
  },
  {
   "cell_type": "code",
   "execution_count": 61,
   "id": "c7f50bf6",
   "metadata": {},
   "outputs": [],
   "source": [
    "class Args:\n",
    "    def __init__(self, tr, val, test, batch_size, hsz, drop_rate, lr, epochs, k):\n",
    "        self.tr = tr\n",
    "        self.val = val\n",
    "        self.test = test\n",
    "        self.num_items = tr['ItemId'].nunique()\n",
    "        self.num_sessions = tr['SessionId'].nunique()\n",
    "        self.batch_size = batch_size\n",
    "        self.hsz = hsz\n",
    "        self.drop_rate = drop_rate\n",
    "        self.lr = lr\n",
    "        self.epochs = epochs\n",
    "        self.k = k\n",
    "\n",
    "args = Args(tr, val, test, batch_size=64, hsz=50, drop_rate=0.1, lr=0.001, epochs=5, k=20)"
   ]
  },
  {
   "cell_type": "code",
   "execution_count": 62,
   "id": "306ace8e",
   "metadata": {},
   "outputs": [
    {
     "name": "stdout",
     "output_type": "stream",
     "text": [
      "Model: \"model\"\n",
      "_________________________________________________________________\n",
      "Layer (type)                 Output Shape              Param #   \n",
      "=================================================================\n",
      "input_1 (InputLayer)         [(64, 1, 3115)]           0         \n",
      "_________________________________________________________________\n",
      "GRU (GRU)                    [(64, 50), (64, 50)]      475050    \n",
      "_________________________________________________________________\n",
      "dropout (Dropout)            (64, 50)                  0         \n",
      "_________________________________________________________________\n",
      "dense (Dense)                (64, 3115)                158865    \n",
      "=================================================================\n",
      "Total params: 633,915\n",
      "Trainable params: 633,915\n",
      "Non-trainable params: 0\n",
      "_________________________________________________________________\n"
     ]
    }
   ],
   "source": [
    "model = create_model(args)"
   ]
  },
  {
   "cell_type": "markdown",
   "id": "3268988a",
   "metadata": {},
   "source": [
    "### Model Training"
   ]
  },
  {
   "cell_type": "code",
   "execution_count": 63,
   "id": "6c982391",
   "metadata": {},
   "outputs": [],
   "source": [
    "# train 셋으로 학습하면서 valid 셋으로 검증합니다.\n",
    "def train_model(model, args):\n",
    "    train_dataset = SessionDataset(args.tr)\n",
    "    train_loader = SessionDataLoader(train_dataset, batch_size=args.batch_size)\n",
    "\n",
    "    for epoch in range(1, args.epochs + 1):\n",
    "        total_step = len(args.tr) - args.tr['SessionId'].nunique()\n",
    "        tr_loader = tqdm(train_loader, total=total_step // args.batch_size, desc='Train', mininterval=1)\n",
    "        for feat, target, mask in tr_loader:\n",
    "            reset_hidden_states(model, mask)  # 종료된 session은 hidden_state를 초기화합니다. 아래 메서드에서 확인해주세요.\n",
    "\n",
    "            input_ohe = to_categorical(feat, num_classes=args.num_items)\n",
    "            input_ohe = np.expand_dims(input_ohe, axis=1)\n",
    "            target_ohe = to_categorical(target, num_classes=args.num_items)\n",
    "\n",
    "            result = model.train_on_batch(input_ohe, target_ohe)\n",
    "            tr_loader.set_postfix(train_loss=result[0], accuracy = result[1])\n",
    "\n",
    "        val_recall, val_mrr = get_metrics(args.val, model, args, args.k)  # valid set에 대해 검증합니다.\n",
    "\n",
    "        print(f\"\\t - Recall@{args.k} epoch {epoch}: {val_recall:3f}\")\n",
    "        print(f\"\\t - MRR@{args.k}    epoch {epoch}: {val_mrr:3f}\\n\")\n",
    "\n",
    "\n",
    "def reset_hidden_states(model, mask):\n",
    "    gru_layer = model.get_layer(name='GRU')  # model에서 gru layer를 가져옵니다.\n",
    "    hidden_states = gru_layer.states[0].numpy()  # gru_layer의 parameter를 가져옵니다.\n",
    "    for elt in mask:  # mask된 인덱스 즉, 종료된 세션의 인덱스를 돌면서\n",
    "        hidden_states[elt, :] = 0  # parameter를 초기화 합니다.\n",
    "    gru_layer.reset_states(states=hidden_states)\n",
    "\n",
    "\n",
    "def get_metrics(data, model, args, k: int):  # valid셋과 test셋을 평가하는 코드입니다. \n",
    "                                             # train과 거의 같지만 mrr, recall을 구하는 라인이 있습니다.\n",
    "    dataset = SessionDataset(data)\n",
    "    loader = SessionDataLoader(dataset, batch_size=args.batch_size)\n",
    "    recall_list, mrr_list = [], []\n",
    "\n",
    "    total_step = len(data) - data['SessionId'].nunique()\n",
    "    for inputs, label, mask in tqdm(loader, total=total_step // args.batch_size, desc='Evaluation', mininterval=1):\n",
    "        reset_hidden_states(model, mask)\n",
    "        input_ohe = to_categorical(inputs, num_classes=args.num_items)\n",
    "        input_ohe = np.expand_dims(input_ohe, axis=1)\n",
    "\n",
    "        pred = model.predict(input_ohe, batch_size=args.batch_size)\n",
    "        pred_arg = tf.argsort(pred, direction='DESCENDING')  # softmax 값이 큰 순서대로 sorting 합니다.\n",
    "\n",
    "        length = len(inputs)\n",
    "        recall_list.extend([recall_k(pred_arg[i], label[i], k) for i in range(length)])\n",
    "        mrr_list.extend([mrr_k(pred_arg[i], label[i], k) for i in range(length)])\n",
    "\n",
    "    recall, mrr = np.mean(recall_list), np.mean(mrr_list)\n",
    "    return recall, mrr"
   ]
  },
  {
   "cell_type": "code",
   "execution_count": 64,
   "id": "25d6907e",
   "metadata": {},
   "outputs": [
    {
     "name": "stderr",
     "output_type": "stream",
     "text": [
      "Train:  99%|█████████▉| 8389/8442 [03:18<00:01, 42.19it/s, accuracy=0.0312, train_loss=6.03]\n",
      "Evaluation:  81%|████████  | 96/119 [00:35<00:08,  2.71it/s]\n"
     ]
    },
    {
     "name": "stdout",
     "output_type": "stream",
     "text": [
      "\t - Recall@20 epoch 1: 0.135905\n",
      "\t - MRR@20    epoch 1: 0.032313\n",
      "\n"
     ]
    },
    {
     "name": "stderr",
     "output_type": "stream",
     "text": [
      "Train:  99%|█████████▉| 8389/8442 [03:13<00:01, 43.42it/s, accuracy=0, train_loss=5.73]     \n",
      "Evaluation:  81%|████████  | 96/119 [00:33<00:08,  2.83it/s]\n"
     ]
    },
    {
     "name": "stdout",
     "output_type": "stream",
     "text": [
      "\t - Recall@20 epoch 2: 0.169922\n",
      "\t - MRR@20    epoch 2: 0.045087\n",
      "\n"
     ]
    },
    {
     "name": "stderr",
     "output_type": "stream",
     "text": [
      "Train:  99%|█████████▉| 8389/8442 [03:16<00:01, 42.69it/s, accuracy=0.0312, train_loss=5.65]\n",
      "Evaluation:  81%|████████  | 96/119 [00:33<00:08,  2.87it/s]\n"
     ]
    },
    {
     "name": "stdout",
     "output_type": "stream",
     "text": [
      "\t - Recall@20 epoch 3: 0.183757\n",
      "\t - MRR@20    epoch 3: 0.049334\n",
      "\n"
     ]
    },
    {
     "name": "stderr",
     "output_type": "stream",
     "text": [
      "Train:  99%|█████████▉| 8389/8442 [03:11<00:01, 43.90it/s, accuracy=0.0469, train_loss=5.64]\n",
      "Evaluation:  81%|████████  | 96/119 [00:32<00:07,  2.92it/s]\n"
     ]
    },
    {
     "name": "stdout",
     "output_type": "stream",
     "text": [
      "\t - Recall@20 epoch 4: 0.189616\n",
      "\t - MRR@20    epoch 4: 0.052479\n",
      "\n"
     ]
    },
    {
     "name": "stderr",
     "output_type": "stream",
     "text": [
      "Train:  99%|█████████▉| 8389/8442 [03:17<00:01, 42.54it/s, accuracy=0.0469, train_loss=5.64]\n",
      "Evaluation:  81%|████████  | 96/119 [00:33<00:08,  2.85it/s]"
     ]
    },
    {
     "name": "stdout",
     "output_type": "stream",
     "text": [
      "\t - Recall@20 epoch 5: 0.191243\n",
      "\t - MRR@20    epoch 5: 0.054860\n",
      "\n"
     ]
    },
    {
     "name": "stderr",
     "output_type": "stream",
     "text": [
      "\n"
     ]
    }
   ],
   "source": [
    "train_model(model, args)"
   ]
  },
  {
   "cell_type": "markdown",
   "id": "71581153",
   "metadata": {},
   "source": [
    "## Inference"
   ]
  },
  {
   "cell_type": "code",
   "execution_count": 65,
   "id": "2ab355b9",
   "metadata": {},
   "outputs": [
    {
     "name": "stderr",
     "output_type": "stream",
     "text": [
      "Evaluation:  80%|████████  | 85/106 [00:31<00:07,  2.74it/s]"
     ]
    },
    {
     "name": "stdout",
     "output_type": "stream",
     "text": [
      "\t - Recall@20: 0.169118\n",
      "\t - MRR@20: 0.048138\n",
      "\n"
     ]
    },
    {
     "name": "stderr",
     "output_type": "stream",
     "text": [
      "\n"
     ]
    }
   ],
   "source": [
    "def test_model(model, args, test):\n",
    "    test_recall, test_mrr = get_metrics(test, model, args, 20)\n",
    "    print(f\"\\t - Recall@{args.k}: {test_recall:3f}\")\n",
    "    print(f\"\\t - MRR@{args.k}: {test_mrr:3f}\\n\")\n",
    "\n",
    "test_model(model, args, test)"
   ]
  },
  {
   "cell_type": "markdown",
   "id": "ee426a9c",
   "metadata": {},
   "source": [
    "## 2번째 시도\n",
    "* batch size 64->128로 조정"
   ]
  },
  {
   "cell_type": "code",
   "execution_count": 66,
   "id": "90706be7",
   "metadata": {},
   "outputs": [],
   "source": [
    "args2 = Args(tr, val, test, batch_size=128, hsz=50, drop_rate=0.1, lr=0.001, epochs=5, k=20)"
   ]
  },
  {
   "cell_type": "code",
   "execution_count": 67,
   "id": "a51d95f8",
   "metadata": {},
   "outputs": [
    {
     "name": "stdout",
     "output_type": "stream",
     "text": [
      "Model: \"model_1\"\n",
      "_________________________________________________________________\n",
      "Layer (type)                 Output Shape              Param #   \n",
      "=================================================================\n",
      "input_2 (InputLayer)         [(128, 1, 3115)]          0         \n",
      "_________________________________________________________________\n",
      "GRU (GRU)                    [(128, 50), (128, 50)]    475050    \n",
      "_________________________________________________________________\n",
      "dropout_1 (Dropout)          (128, 50)                 0         \n",
      "_________________________________________________________________\n",
      "dense_1 (Dense)              (128, 3115)               158865    \n",
      "=================================================================\n",
      "Total params: 633,915\n",
      "Trainable params: 633,915\n",
      "Non-trainable params: 0\n",
      "_________________________________________________________________\n"
     ]
    }
   ],
   "source": [
    "model2 = create_model(args2)"
   ]
  },
  {
   "cell_type": "code",
   "execution_count": 68,
   "id": "a7cc799b",
   "metadata": {},
   "outputs": [
    {
     "name": "stderr",
     "output_type": "stream",
     "text": [
      "Train:  99%|█████████▊| 4164/4221 [02:22<00:01, 29.31it/s, accuracy=0.0156, train_loss=6.3]  \n",
      "Evaluation:  64%|██████▍   | 38/59 [00:26<00:14,  1.43it/s]\n"
     ]
    },
    {
     "name": "stdout",
     "output_type": "stream",
     "text": [
      "\t - Recall@20 epoch 1: 0.108347\n",
      "\t - MRR@20    epoch 1: 0.027715\n",
      "\n"
     ]
    },
    {
     "name": "stderr",
     "output_type": "stream",
     "text": [
      "Train:  99%|█████████▊| 4164/4221 [02:20<00:01, 29.69it/s, accuracy=0.0234, train_loss=5.96] \n",
      "Evaluation:  64%|██████▍   | 38/59 [00:25<00:14,  1.47it/s]\n"
     ]
    },
    {
     "name": "stdout",
     "output_type": "stream",
     "text": [
      "\t - Recall@20 epoch 2: 0.161801\n",
      "\t - MRR@20    epoch 2: 0.043953\n",
      "\n"
     ]
    },
    {
     "name": "stderr",
     "output_type": "stream",
     "text": [
      "Train:  99%|█████████▊| 4164/4221 [02:20<00:01, 29.69it/s, accuracy=0.0312, train_loss=5.81] \n",
      "Evaluation:  64%|██████▍   | 38/59 [00:25<00:13,  1.52it/s]\n"
     ]
    },
    {
     "name": "stdout",
     "output_type": "stream",
     "text": [
      "\t - Recall@20 epoch 3: 0.177220\n",
      "\t - MRR@20    epoch 3: 0.048180\n",
      "\n"
     ]
    },
    {
     "name": "stderr",
     "output_type": "stream",
     "text": [
      "Train:  99%|█████████▊| 4164/4221 [02:16<00:01, 30.49it/s, accuracy=0.0391, train_loss=5.67] \n",
      "Evaluation:  64%|██████▍   | 38/59 [00:24<00:13,  1.54it/s]\n"
     ]
    },
    {
     "name": "stdout",
     "output_type": "stream",
     "text": [
      "\t - Recall@20 epoch 4: 0.186883\n",
      "\t - MRR@20    epoch 4: 0.051159\n",
      "\n"
     ]
    },
    {
     "name": "stderr",
     "output_type": "stream",
     "text": [
      "Train:  99%|█████████▊| 4164/4221 [02:17<00:01, 30.18it/s, accuracy=0.0391, train_loss=5.63] \n",
      "Evaluation:  64%|██████▍   | 38/59 [00:24<00:13,  1.53it/s]"
     ]
    },
    {
     "name": "stdout",
     "output_type": "stream",
     "text": [
      "\t - Recall@20 epoch 5: 0.190584\n",
      "\t - MRR@20    epoch 5: 0.054342\n",
      "\n"
     ]
    },
    {
     "name": "stderr",
     "output_type": "stream",
     "text": [
      "\n"
     ]
    }
   ],
   "source": [
    "train_model(model2, args2)"
   ]
  },
  {
   "cell_type": "code",
   "execution_count": 69,
   "id": "809d36fc",
   "metadata": {},
   "outputs": [
    {
     "name": "stderr",
     "output_type": "stream",
     "text": [
      "Evaluation:  62%|██████▏   | 33/53 [00:21<00:13,  1.52it/s]"
     ]
    },
    {
     "name": "stdout",
     "output_type": "stream",
     "text": [
      "\t - Recall@20: 0.159801\n",
      "\t - MRR@20: 0.046654\n",
      "\n"
     ]
    },
    {
     "name": "stderr",
     "output_type": "stream",
     "text": [
      "\n"
     ]
    }
   ],
   "source": [
    "test_model(model2, args2, test)"
   ]
  },
  {
   "cell_type": "markdown",
   "id": "f617ed4c",
   "metadata": {},
   "source": [
    "## 회고"
   ]
  },
  {
   "cell_type": "markdown",
   "id": "5a0c47ff",
   "metadata": {},
   "source": [
    "* batch size를 낮추니 전반적으로 더 낮은 성능을 보였다  \n",
    "* 현재 노트북에서는 epoch가 5로 설정되어 있지만, 이는 실험 끝에 5 epoch 이상 돌리면 오버피팅이 일어나는 것을 확인하고 설정한 것이다.  \n",
    "* 사실 데이터의 전처리 부분까지는 잘 알겠는데, 모델이 어떤 원리로 어떤 식으로 학습이 되는지 정확하게 파악하지는 못한 것 같다. 추후에 추가적으로 공부할 필요가 있을 것 같다. \n",
    "* 추천 시스템은 나랑 잘 맞지 않는 것 같다. "
   ]
  }
 ],
 "metadata": {
  "kernelspec": {
   "display_name": "Python 3 (ipykernel)",
   "language": "python",
   "name": "python3"
  },
  "language_info": {
   "codemirror_mode": {
    "name": "ipython",
    "version": 3
   },
   "file_extension": ".py",
   "mimetype": "text/x-python",
   "name": "python",
   "nbconvert_exporter": "python",
   "pygments_lexer": "ipython3",
   "version": "3.9.7"
  }
 },
 "nbformat": 4,
 "nbformat_minor": 5
}
