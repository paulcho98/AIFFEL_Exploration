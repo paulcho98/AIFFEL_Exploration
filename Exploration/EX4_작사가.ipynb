{
 "cells": [
  {
   "cell_type": "markdown",
   "id": "cc6148aa",
   "metadata": {},
   "source": [
    "# EX4 멋진 작사가 만들기\n",
    "## 데이터 읽어오기"
   ]
  },
  {
   "cell_type": "code",
   "execution_count": 1,
   "id": "627adb69",
   "metadata": {},
   "outputs": [
    {
     "name": "stdout",
     "output_type": "stream",
     "text": [
      "데이터 크기: 187088\n",
      "Examples:\n",
      " [\"Now I've heard there was a secret chord\", 'That David played, and it pleased the Lord', \"But you don't really care for music, do you?\"]\n"
     ]
    }
   ],
   "source": [
    "import glob\n",
    "import os, re \n",
    "import numpy as np\n",
    "import tensorflow as tf\n",
    "from sklearn.model_selection import train_test_split\n",
    "\n",
    "txt_file_path = os.getenv('HOME')+'/aiffel/lyricist/data/lyrics/*'\n",
    "\n",
    "txt_list = glob.glob(txt_file_path)\n",
    "\n",
    "raw_corpus = []\n",
    "\n",
    "# 여러개의 txt 파일을 모두 읽어서 raw_corpus 에 담습니다.\n",
    "for txt_file in txt_list:\n",
    "    with open(txt_file, \"r\") as f:\n",
    "        raw = f.read().splitlines()\n",
    "        raw_corpus.extend(raw)\n",
    "\n",
    "print(\"데이터 크기:\", len(raw_corpus))\n",
    "print(\"Examples:\\n\", raw_corpus[:3])"
   ]
  },
  {
   "cell_type": "markdown",
   "id": "51efa066",
   "metadata": {},
   "source": [
    "## 데이터 정제\n",
    "### 문장 전처리"
   ]
  },
  {
   "cell_type": "code",
   "execution_count": 2,
   "id": "c89d5a45",
   "metadata": {},
   "outputs": [],
   "source": [
    "#문장 전처리하는 함수 정의\n",
    "def preprocess_sentence(sentence):\n",
    "    sentence = sentence.lower().strip() # 소문자로 변환 + 양쪽 공백 제거\n",
    "    sentence = re.sub(r\"([?.!,¿])\", r\" \\1 \", sentence) # 특수문자 양쪽에 공백 추가\n",
    "    sentence = re.sub(r'[\" \"]+', \" \", sentence) # 여러 공백은 공백 하나로 변환\n",
    "    sentence = re.sub(r\"[^a-zA-Z?.!,¿]+\", \" \", sentence) # a-zA-Z?.!,¿를 제외한 문자 공백으로 변환\n",
    "    sentence = sentence.strip() # 양쪽 공백 제거\n",
    "    sentence = '<start> ' + sentence + ' <end>' # <start> <end> 토큰 추가\n",
    "    return sentence\n"
   ]
  },
  {
   "cell_type": "code",
   "execution_count": 3,
   "id": "8b26280e",
   "metadata": {},
   "outputs": [
    {
     "name": "stdout",
     "output_type": "stream",
     "text": [
      "175749\n"
     ]
    },
    {
     "data": {
      "text/plain": [
       "['<start> now i ve heard there was a secret chord <end>',\n",
       " '<start> that david played , and it pleased the lord <end>',\n",
       " '<start> but you don t really care for music , do you ? <end>',\n",
       " '<start> it goes like this <end>',\n",
       " '<start> the fourth , the fifth <end>',\n",
       " '<start> the minor fall , the major lift <end>',\n",
       " '<start> the baffled king composing hallelujah hallelujah <end>',\n",
       " '<start> hallelujah <end>',\n",
       " '<start> hallelujah <end>',\n",
       " '<start> hallelujah your faith was strong but you needed proof <end>']"
      ]
     },
     "execution_count": 3,
     "metadata": {},
     "output_type": "execute_result"
    }
   ],
   "source": [
    "corpus = []\n",
    "\n",
    "for sentence in raw_corpus:\n",
    "    # 빈 문장은 스킵\n",
    "    if len(sentence) == 0: continue\n",
    "    \n",
    "    # 정제를 하고 담아주세요\n",
    "    preprocessed_sentence = preprocess_sentence(sentence)\n",
    "    corpus.append(preprocessed_sentence)\n",
    "        \n",
    "# 정제된 문장 확인\n",
    "print(len(corpus))\n",
    "corpus[:10]"
   ]
  },
  {
   "cell_type": "markdown",
   "id": "a6da97e3",
   "metadata": {},
   "source": [
    "### 문장 토큰화"
   ]
  },
  {
   "cell_type": "code",
   "execution_count": 4,
   "id": "99d07a0f",
   "metadata": {},
   "outputs": [
    {
     "name": "stdout",
     "output_type": "stream",
     "text": [
      "[[   2   50    5 ...    0    0    0]\n",
      " [   2   17 2639 ...    0    0    0]\n",
      " [   2   36    7 ...   43    3    0]\n",
      " ...\n",
      " [   2    5  107 ...    0    0    0]\n",
      " [   2  261  200 ...   12    3    0]\n",
      " [   2    7   34 ...    0    0    0]] <keras_preprocessing.text.Tokenizer object at 0x7fd05fb8c220>\n"
     ]
    }
   ],
   "source": [
    "def tokenize(corpus):\n",
    "    tokenizer = tf.keras.preprocessing.text.Tokenizer(\n",
    "        num_words=12000, # 단어 수 12000 개로 설정\n",
    "        filters=' ',\n",
    "        oov_token=\"<unk>\"\n",
    "    )\n",
    "    # corpus의 문장들에 맞추어 단어장 완성\n",
    "    tokenizer.fit_on_texts(corpus)\n",
    "    \n",
    "    # tokenizer를 이용하여 corpus를 tensor로 변환\n",
    "    tensor = tokenizer.texts_to_sequences(corpus)   \n",
    "    \n",
    "    # 시퀀스의 토큰의 수가 15를 넘어가는 경우 삭제\n",
    "    tensor = [sequence for sequence in tensor if len(sequence)<16]\n",
    "    \n",
    "    # 패딩으로 시퀀스 길이 통일\n",
    "    tensor = tf.keras.preprocessing.sequence.pad_sequences(tensor, padding='post')  \n",
    "    \n",
    "    print(tensor,tokenizer)\n",
    "    return tensor, tokenizer\n",
    "\n",
    "tensor, tokenizer = tokenize(corpus)"
   ]
  },
  {
   "cell_type": "code",
   "execution_count": 5,
   "id": "280a0975",
   "metadata": {},
   "outputs": [
    {
     "name": "stdout",
     "output_type": "stream",
     "text": [
      "[   2   50    5   91  297   65   57    9  969 6042    3    0    0    0]\n",
      "[  50    5   91  297   65   57    9  969 6042    3    0    0    0    0]\n"
     ]
    }
   ],
   "source": [
    "# tensor에서 마지막 토큰을 잘라내서 소스 문장을 생성합니다\n",
    "# 마지막 토큰은 <end>가 아니라 <pad>일 가능성이 높습니다.\n",
    "src_input = tensor[:, :-1]  \n",
    "# tensor에서 <start>를 잘라내서 타겟 문장을 생성합니다.\n",
    "tgt_input = tensor[:, 1:]    \n",
    "\n",
    "print(src_input[0])\n",
    "print(tgt_input[0])"
   ]
  },
  {
   "cell_type": "markdown",
   "id": "9056dda4",
   "metadata": {},
   "source": [
    "### 훈련 데이터와 평가 데이터 분리"
   ]
  },
  {
   "cell_type": "code",
   "execution_count": 6,
   "id": "10d30379",
   "metadata": {},
   "outputs": [],
   "source": [
    "enc_train, enc_val, dec_train, dec_val = train_test_split(src_input, tgt_input, test_size=0.2, random_state=42)"
   ]
  },
  {
   "cell_type": "code",
   "execution_count": 7,
   "id": "d0db1e67",
   "metadata": {},
   "outputs": [
    {
     "name": "stdout",
     "output_type": "stream",
     "text": [
      "Source Train: (124810, 14)\n",
      "Target Train: (124810, 14)\n"
     ]
    }
   ],
   "source": [
    "print(\"Source Train:\", enc_train.shape)\n",
    "print(\"Target Train:\", dec_train.shape)"
   ]
  },
  {
   "cell_type": "markdown",
   "id": "da2db87e",
   "metadata": {},
   "source": [
    "## 인공지능 만들기\n",
    "### 모델 생성"
   ]
  },
  {
   "cell_type": "code",
   "execution_count": 8,
   "id": "ecc5e586",
   "metadata": {},
   "outputs": [],
   "source": [
    "class TextGenerator(tf.keras.Model):\n",
    "    def __init__(self, vocab_size, embedding_size, hidden_size):\n",
    "        super().__init__()\n",
    "        \n",
    "        self.embedding = tf.keras.layers.Embedding(vocab_size, embedding_size)\n",
    "        self.rnn_1 = tf.keras.layers.LSTM(hidden_size, return_sequences=True)\n",
    "        self.rnn_2 = tf.keras.layers.LSTM(hidden_size, return_sequences=True)\n",
    "        self.linear = tf.keras.layers.Dense(vocab_size)\n",
    "        \n",
    "    def call(self, x):\n",
    "        out = self.embedding(x)\n",
    "        out = self.rnn_1(out)\n",
    "        out = self.rnn_2(out)\n",
    "        out = self.linear(out)\n",
    "        \n",
    "        return out\n",
    "    \n",
    "embedding_size = 512\n",
    "hidden_size = 2048\n",
    "model = TextGenerator(tokenizer.num_words + 1, embedding_size , hidden_size)"
   ]
  },
  {
   "cell_type": "markdown",
   "id": "405de86b",
   "metadata": {},
   "source": [
    "### 모델 학습"
   ]
  },
  {
   "cell_type": "code",
   "execution_count": 9,
   "id": "d66193f0",
   "metadata": {},
   "outputs": [
    {
     "name": "stdout",
     "output_type": "stream",
     "text": [
      "Epoch 1/10\n",
      "488/488 [==============================] - 269s 509ms/step - loss: 3.2806 - val_loss: 2.9121\n",
      "\n",
      "Epoch 00001: val_loss improved from inf to 2.91211, saving model to best_model.h5\n",
      "Epoch 2/10\n",
      "488/488 [==============================] - 258s 528ms/step - loss: 2.7321 - val_loss: 2.6531\n",
      "\n",
      "Epoch 00002: val_loss improved from 2.91211 to 2.65308, saving model to best_model.h5\n",
      "Epoch 3/10\n",
      "488/488 [==============================] - 258s 529ms/step - loss: 2.4131 - val_loss: 2.4708\n",
      "\n",
      "Epoch 00003: val_loss improved from 2.65308 to 2.47081, saving model to best_model.h5\n",
      "Epoch 4/10\n",
      "488/488 [==============================] - 258s 529ms/step - loss: 2.0990 - val_loss: 2.3308\n",
      "\n",
      "Epoch 00004: val_loss improved from 2.47081 to 2.33078, saving model to best_model.h5\n",
      "Epoch 5/10\n",
      "488/488 [==============================] - 259s 530ms/step - loss: 1.8018 - val_loss: 2.2324\n",
      "\n",
      "Epoch 00005: val_loss improved from 2.33078 to 2.23236, saving model to best_model.h5\n",
      "Epoch 6/10\n",
      "488/488 [==============================] - 258s 530ms/step - loss: 1.5415 - val_loss: 2.1701\n",
      "\n",
      "Epoch 00006: val_loss improved from 2.23236 to 2.17005, saving model to best_model.h5\n",
      "Epoch 7/10\n",
      "488/488 [==============================] - 259s 531ms/step - loss: 1.3311 - val_loss: 2.1417\n",
      "\n",
      "Epoch 00007: val_loss improved from 2.17005 to 2.14172, saving model to best_model.h5\n",
      "Epoch 8/10\n",
      "488/488 [==============================] - 259s 531ms/step - loss: 1.1735 - val_loss: 2.1385\n",
      "\n",
      "Epoch 00008: val_loss improved from 2.14172 to 2.13851, saving model to best_model.h5\n",
      "Epoch 9/10\n",
      "488/488 [==============================] - 259s 530ms/step - loss: 1.0720 - val_loss: 2.1568\n",
      "\n",
      "Epoch 00009: val_loss did not improve from 2.13851\n",
      "Epoch 10/10\n",
      "488/488 [==============================] - 259s 530ms/step - loss: 1.0159 - val_loss: 2.1764\n",
      "\n",
      "Epoch 00010: val_loss did not improve from 2.13851\n"
     ]
    }
   ],
   "source": [
    "from tensorflow.keras.callbacks import EarlyStopping, ModelCheckpoint\n",
    "\n",
    "optimizer = tf.keras.optimizers.Adam()\n",
    "es = EarlyStopping(monitor='val_loss', mode='min', verbose=1, patience=4)\n",
    "mc = ModelCheckpoint('best_model.h5', monitor='val_loss', mode='min', verbose=1, save_weights_only=True, save_best_only=True)\n",
    "loss = tf.keras.losses.SparseCategoricalCrossentropy(\n",
    "    from_logits=True,\n",
    "    reduction='none'\n",
    ")\n",
    "\n",
    "model.compile(loss=loss, optimizer=optimizer)\n",
    "history = model.fit(enc_train, dec_train, batch_size=256 , epochs=10, callbacks=[es, mc], validation_data = (enc_val, dec_val))"
   ]
  },
  {
   "cell_type": "markdown",
   "id": "03e37c7b",
   "metadata": {},
   "source": [
    "최소 validation loss가 2.13851인 모델을 저장하였다. ('best_model.h5')"
   ]
  },
  {
   "cell_type": "code",
   "execution_count": 11,
   "id": "01bd346e",
   "metadata": {},
   "outputs": [
    {
     "data": {
      "image/png": "[encoded data removed]",
      "text/plain": [
       "<Figure size 432x288 with 1 Axes>"
      ]
     },
     "metadata": {
      "needs_background": "light"
     },
     "output_type": "display_data"
    }
   ],
   "source": [
    "import matplotlib.pyplot as plt\n",
    "plt.plot(history.history['loss'])\n",
    "plt.plot(history.history['val_loss'])\n",
    "plt.title('Model loss')\n",
    "plt.xlabel('Epoch')\n",
    "plt.ylabel('Loss')\n",
    "plt.legend(['Train', 'Test'], loc='upper left')\n",
    "plt.show()"
   ]
  },
  {
   "cell_type": "markdown",
   "id": "47e7ebd9",
   "metadata": {},
   "source": [
    "## 가사 생성\n",
    "### 가사 생성 함수 정의"
   ]
  },
  {
   "cell_type": "code",
   "execution_count": 14,
   "id": "e2fc3906",
   "metadata": {},
   "outputs": [],
   "source": [
    "def generate_text(model, tokenizer, init_sentence=\"<start>\", max_len=20):\n",
    "    # 테스트를 위해서 입력받은 init_sentence도 텐서로 변환합니다\n",
    "    test_input = tokenizer.texts_to_sequences([init_sentence])\n",
    "    test_tensor = tf.convert_to_tensor(test_input, dtype=tf.int64)\n",
    "    end_token = tokenizer.word_index[\"<end>\"]\n",
    "\n",
    "    # 단어 하나씩 예측해 문장을 만듭니다\n",
    "    #    1. 입력받은 문장의 텐서를 입력합니다\n",
    "    #    2. 예측된 값 중 가장 높은 확률인 word index를 뽑아냅니다\n",
    "    #    3. 2에서 예측된 word index를 문장 뒤에 붙입니다\n",
    "    #    4. 모델이 <end>를 예측했거나, max_len에 도달했다면 문장 생성을 마칩니다\n",
    "    while True:\n",
    "        # 1\n",
    "        predict = model(test_tensor) \n",
    "        # 2\n",
    "        predict_word = tf.argmax(tf.nn.softmax(predict, axis=-1), axis=-1)[:, -1] \n",
    "        # 3 \n",
    "        test_tensor = tf.concat([test_tensor, tf.expand_dims(predict_word, axis=0)], axis=-1)\n",
    "        # 4\n",
    "        if predict_word.numpy()[0] == end_token: break\n",
    "        if test_tensor.shape[1] >= max_len: break\n",
    "\n",
    "    generated = \"\"\n",
    "    # tokenizer를 이용해 word index를 단어로 하나씩 변환합니다 \n",
    "    for word_index in test_tensor[0].numpy():\n",
    "        generated += tokenizer.index_word[word_index] + \" \"\n",
    "\n",
    "    return generated"
   ]
  },
  {
   "cell_type": "markdown",
   "id": "42b49bfd",
   "metadata": {},
   "source": [
    "### 가사 생성 확인"
   ]
  },
  {
   "cell_type": "code",
   "execution_count": 22,
   "id": "1b2588e6",
   "metadata": {},
   "outputs": [],
   "source": [
    "# validation loss가 가장 적은 모델의 weights 불러오기\n",
    "# 성능이 제일 좋은 버전의 모델을 사용하는 것이다\n",
    "model.load_weights('best_model.h5')"
   ]
  },
  {
   "cell_type": "code",
   "execution_count": 21,
   "id": "36ee2a26",
   "metadata": {},
   "outputs": [
    {
     "data": {
      "text/plain": [
       "'<start> i love you , i m not gonna crack <end> '"
      ]
     },
     "execution_count": 21,
     "metadata": {},
     "output_type": "execute_result"
    }
   ],
   "source": [
    "generate_text(model, tokenizer, init_sentence=\"<start> i love\", max_len=20)"
   ]
  },
  {
   "cell_type": "code",
   "execution_count": 23,
   "id": "11471318",
   "metadata": {},
   "outputs": [
    {
     "data": {
      "text/plain": [
       "'<start> i like it when i see you do it <end> '"
      ]
     },
     "execution_count": 23,
     "metadata": {},
     "output_type": "execute_result"
    }
   ],
   "source": [
    "generate_text(model, tokenizer, init_sentence=\"<start> i like\", max_len=20)"
   ]
  },
  {
   "cell_type": "code",
   "execution_count": 24,
   "id": "10c830c5",
   "metadata": {},
   "outputs": [
    {
     "data": {
      "text/plain": [
       "'<start> i m a bad bitch , you ain t used to that <end> '"
      ]
     },
     "execution_count": 24,
     "metadata": {},
     "output_type": "execute_result"
    }
   ],
   "source": [
    "generate_text(model, tokenizer, init_sentence=\"<start> i\", max_len=20)"
   ]
  },
  {
   "cell_type": "code",
   "execution_count": 25,
   "id": "225d8803",
   "metadata": {},
   "outputs": [
    {
     "data": {
      "text/plain": [
       "'<start> you know i m bad , i m bad you know it <end> '"
      ]
     },
     "execution_count": 25,
     "metadata": {},
     "output_type": "execute_result"
    }
   ],
   "source": [
    "generate_text(model, tokenizer, init_sentence=\"<start> you\", max_len=20)"
   ]
  },
  {
   "cell_type": "code",
   "execution_count": 26,
   "id": "c3c74277",
   "metadata": {},
   "outputs": [
    {
     "data": {
      "text/plain": [
       "'<start> he s a balla , he s a balla <end> '"
      ]
     },
     "execution_count": 26,
     "metadata": {},
     "output_type": "execute_result"
    }
   ],
   "source": [
    "generate_text(model, tokenizer, init_sentence=\"<start> he\", max_len=20)"
   ]
  },
  {
   "cell_type": "code",
   "execution_count": 27,
   "id": "34c5eacb",
   "metadata": {},
   "outputs": [
    {
     "data": {
      "text/plain": [
       "'<start> hey , hey , hey , hey , hey , hey , hey <end> '"
      ]
     },
     "execution_count": 27,
     "metadata": {},
     "output_type": "execute_result"
    }
   ],
   "source": [
    "generate_text(model, tokenizer, init_sentence=\"<start> hey\", max_len=20)"
   ]
  },
  {
   "cell_type": "code",
   "execution_count": 29,
   "id": "32cb98c0",
   "metadata": {},
   "outputs": [
    {
     "data": {
      "text/plain": [
       "'<start> hey boy , i wanna be with you <end> '"
      ]
     },
     "execution_count": 29,
     "metadata": {},
     "output_type": "execute_result"
    }
   ],
   "source": [
    "generate_text(model, tokenizer, init_sentence=\"<start> hey boy\", max_len=20)"
   ]
  },
  {
   "cell_type": "code",
   "execution_count": 30,
   "id": "bfb1be0a",
   "metadata": {},
   "outputs": [
    {
     "data": {
      "text/plain": [
       "'<start> love me all night long <end> '"
      ]
     },
     "execution_count": 30,
     "metadata": {},
     "output_type": "execute_result"
    }
   ],
   "source": [
    "generate_text(model, tokenizer, init_sentence=\"<start> love\", max_len=20)"
   ]
  },
  {
   "cell_type": "code",
   "execution_count": 31,
   "id": "809fc412",
   "metadata": {},
   "outputs": [
    {
     "data": {
      "text/plain": [
       "'<start> love is a losing game it s okay in the day <end> '"
      ]
     },
     "execution_count": 31,
     "metadata": {},
     "output_type": "execute_result"
    }
   ],
   "source": [
    "generate_text(model, tokenizer, init_sentence=\"<start> love is\", max_len=20)"
   ]
  },
  {
   "cell_type": "code",
   "execution_count": null,
   "id": "f8782fed",
   "metadata": {},
   "outputs": [],
   "source": []
  }
 ],
 "metadata": {
  "kernelspec": {
   "display_name": "Python 3 (ipykernel)",
   "language": "python",
   "name": "python3"
  },
  "language_info": {
   "codemirror_mode": {
    "name": "ipython",
    "version": 3
   },
   "file_extension": ".py",
   "mimetype": "text/x-python",
   "name": "python",
   "nbconvert_exporter": "python",
   "pygments_lexer": "ipython3",
   "version": "3.9.7"
  }
 },
 "nbformat": 4,
 "nbformat_minor": 5
}
