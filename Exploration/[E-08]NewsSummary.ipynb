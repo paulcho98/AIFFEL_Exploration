{
 "cells": [
  {
   "cell_type": "markdown",
   "id": "f1e9ecfa",
   "metadata": {},
   "source": [
    "# Exploration 노드 8\n",
    "## 라이브러리 불러오기"
   ]
  },
  {
   "cell_type": "code",
   "execution_count": 1,
   "id": "5a83c186",
   "metadata": {},
   "outputs": [
    {
     "name": "stderr",
     "output_type": "stream",
     "text": [
      "[nltk_data] Downloading package stopwords to /aiffel/nltk_data...\n",
      "[nltk_data]   Unzipping corpora/stopwords.zip.\n"
     ]
    }
   ],
   "source": [
    "import nltk\n",
    "nltk.download('stopwords')\n",
    "\n",
    "import numpy as np\n",
    "import pandas as pd\n",
    "import os\n",
    "import re\n",
    "import matplotlib.pyplot as plt\n",
    "from nltk.corpus import stopwords\n",
    "from bs4 import BeautifulSoup \n",
    "from tensorflow.keras.preprocessing.text import Tokenizer \n",
    "from tensorflow.keras.preprocessing.sequence import pad_sequences\n",
    "import tensorflow as tf\n",
    "import urllib.request\n",
    "import warnings\n",
    "warnings.filterwarnings(\"ignore\", category=UserWarning, module='bs4')"
   ]
  },
  {
   "cell_type": "markdown",
   "id": "0ff6f54a",
   "metadata": {},
   "source": [
    "# 1. 추상적 요약\n",
    "내용을 바탕으로 새로운 문장을 생성하여 본문을 요약하도록 한다. \n",
    "## 데이터 불러오기"
   ]
  },
  {
   "cell_type": "markdown",
   "id": "3f64af0c",
   "metadata": {},
   "source": [
    "뉴스 기사 데이터를 깃허브에서 불러온다."
   ]
  },
  {
   "cell_type": "code",
   "execution_count": 2,
   "id": "5e64bb55",
   "metadata": {
    "scrolled": true
   },
   "outputs": [
    {
     "data": {
      "text/html": [
       "<div>\n",
       "<style scoped>\n",
       "    .dataframe tbody tr th:only-of-type {\n",
       "        vertical-align: middle;\n",
       "    }\n",
       "\n",
       "    .dataframe tbody tr th {\n",
       "        vertical-align: top;\n",
       "    }\n",
       "\n",
       "    .dataframe thead th {\n",
       "        text-align: right;\n",
       "    }\n",
       "</style>\n",
       "<table border=\"1\" class=\"dataframe\">\n",
       "  <thead>\n",
       "    <tr style=\"text-align: right;\">\n",
       "      <th></th>\n",
       "      <th>headlines</th>\n",
       "      <th>text</th>\n",
       "    </tr>\n",
       "  </thead>\n",
       "  <tbody>\n",
       "    <tr>\n",
       "      <th>6498</th>\n",
       "      <td>Thieves steal Pomeranian from parked car, leav...</td>\n",
       "      <td>Some unknown miscreants in Delhi stole a Pomer...</td>\n",
       "    </tr>\n",
       "    <tr>\n",
       "      <th>63771</th>\n",
       "      <td>Pakistan Army claims shooting down Indian dron...</td>\n",
       "      <td>The Pakistani Army on Friday claimed that it h...</td>\n",
       "    </tr>\n",
       "    <tr>\n",
       "      <th>60411</th>\n",
       "      <td>Get well soon: Taapsee to troll who slammed he...</td>\n",
       "      <td>Taapsee Pannu, while responding to a troll on ...</td>\n",
       "    </tr>\n",
       "    <tr>\n",
       "      <th>76371</th>\n",
       "      <td>Brother builds toilet for widowed sister on Ra...</td>\n",
       "      <td>A Ghaziabad man has started building a toilet ...</td>\n",
       "    </tr>\n",
       "    <tr>\n",
       "      <th>96254</th>\n",
       "      <td>43 jawans, 20 cops injured due to stone peltin...</td>\n",
       "      <td>At least 43 CRPF jawans and 20 police personne...</td>\n",
       "    </tr>\n",
       "    <tr>\n",
       "      <th>21248</th>\n",
       "      <td>Harmanpreet Kaur breaks van's window with six ...</td>\n",
       "      <td>India women's T20 captain Harmanpreet Kaur bro...</td>\n",
       "    </tr>\n",
       "    <tr>\n",
       "      <th>77309</th>\n",
       "      <td>Govt may make Aadhaar must for real estate de...</td>\n",
       "      <td>nThe government is reportedly planning to make...</td>\n",
       "    </tr>\n",
       "    <tr>\n",
       "      <th>8683</th>\n",
       "      <td>I did not intend to understate my income: Niss...</td>\n",
       "      <td>Japanese carmaker Nissan's former Chairman Car...</td>\n",
       "    </tr>\n",
       "    <tr>\n",
       "      <th>88357</th>\n",
       "      <td>Pringles criticised for its packaging by recyc...</td>\n",
       "      <td>The Recycling Association has named Pringles i...</td>\n",
       "    </tr>\n",
       "    <tr>\n",
       "      <th>75279</th>\n",
       "      <td>I-Day border meet between India, China unlikel...</td>\n",
       "      <td>The customary Border Personnel Meeting (BPM) b...</td>\n",
       "    </tr>\n",
       "  </tbody>\n",
       "</table>\n",
       "</div>"
      ],
      "text/plain": [
       "                                               headlines  \\\n",
       "6498   Thieves steal Pomeranian from parked car, leav...   \n",
       "63771  Pakistan Army claims shooting down Indian dron...   \n",
       "60411  Get well soon: Taapsee to troll who slammed he...   \n",
       "76371  Brother builds toilet for widowed sister on Ra...   \n",
       "96254  43 jawans, 20 cops injured due to stone peltin...   \n",
       "21248  Harmanpreet Kaur breaks van's window with six ...   \n",
       "77309   Govt may make Aadhaar must for real estate de...   \n",
       "8683   I did not intend to understate my income: Niss...   \n",
       "88357  Pringles criticised for its packaging by recyc...   \n",
       "75279  I-Day border meet between India, China unlikel...   \n",
       "\n",
       "                                                    text  \n",
       "6498   Some unknown miscreants in Delhi stole a Pomer...  \n",
       "63771  The Pakistani Army on Friday claimed that it h...  \n",
       "60411  Taapsee Pannu, while responding to a troll on ...  \n",
       "76371  A Ghaziabad man has started building a toilet ...  \n",
       "96254  At least 43 CRPF jawans and 20 police personne...  \n",
       "21248  India women's T20 captain Harmanpreet Kaur bro...  \n",
       "77309  nThe government is reportedly planning to make...  \n",
       "8683   Japanese carmaker Nissan's former Chairman Car...  \n",
       "88357  The Recycling Association has named Pringles i...  \n",
       "75279  The customary Border Personnel Meeting (BPM) b...  "
      ]
     },
     "execution_count": 2,
     "metadata": {},
     "output_type": "execute_result"
    }
   ],
   "source": [
    "import urllib.request\n",
    "urllib.request.urlretrieve(\"https://raw.githubusercontent.com/sunnysai12345/News_Summary/master/news_summary_more.csv\", filename=\"news_summary_more.csv\")\n",
    "data = pd.read_csv('news_summary_more.csv', encoding='iso-8859-1')\n",
    "data.sample(10)"
   ]
  },
  {
   "cell_type": "code",
   "execution_count": 3,
   "id": "9d5fb782",
   "metadata": {},
   "outputs": [
    {
     "data": {
      "text/html": [
       "<div>\n",
       "<style scoped>\n",
       "    .dataframe tbody tr th:only-of-type {\n",
       "        vertical-align: middle;\n",
       "    }\n",
       "\n",
       "    .dataframe tbody tr th {\n",
       "        vertical-align: top;\n",
       "    }\n",
       "\n",
       "    .dataframe thead th {\n",
       "        text-align: right;\n",
       "    }\n",
       "</style>\n",
       "<table border=\"1\" class=\"dataframe\">\n",
       "  <thead>\n",
       "    <tr style=\"text-align: right;\">\n",
       "      <th></th>\n",
       "      <th>Summary</th>\n",
       "      <th>Text</th>\n",
       "    </tr>\n",
       "  </thead>\n",
       "  <tbody>\n",
       "    <tr>\n",
       "      <th>0</th>\n",
       "      <td>upGrad learner switches to career in ML &amp; Al w...</td>\n",
       "      <td>Saurav Kant, an alumnus of upGrad and IIIT-B's...</td>\n",
       "    </tr>\n",
       "    <tr>\n",
       "      <th>1</th>\n",
       "      <td>Delhi techie wins free food from Swiggy for on...</td>\n",
       "      <td>Kunal Shah's credit card bill payment platform...</td>\n",
       "    </tr>\n",
       "    <tr>\n",
       "      <th>2</th>\n",
       "      <td>New Zealand end Rohit Sharma-led India's 12-ma...</td>\n",
       "      <td>New Zealand defeated India by 8 wickets in the...</td>\n",
       "    </tr>\n",
       "    <tr>\n",
       "      <th>3</th>\n",
       "      <td>Aegon life iTerm insurance plan helps customer...</td>\n",
       "      <td>With Aegon Life iTerm Insurance plan, customer...</td>\n",
       "    </tr>\n",
       "    <tr>\n",
       "      <th>4</th>\n",
       "      <td>Have known Hirani for yrs, what if MeToo claim...</td>\n",
       "      <td>Speaking about the sexual harassment allegatio...</td>\n",
       "    </tr>\n",
       "  </tbody>\n",
       "</table>\n",
       "</div>"
      ],
      "text/plain": [
       "                                             Summary  \\\n",
       "0  upGrad learner switches to career in ML & Al w...   \n",
       "1  Delhi techie wins free food from Swiggy for on...   \n",
       "2  New Zealand end Rohit Sharma-led India's 12-ma...   \n",
       "3  Aegon life iTerm insurance plan helps customer...   \n",
       "4  Have known Hirani for yrs, what if MeToo claim...   \n",
       "\n",
       "                                                Text  \n",
       "0  Saurav Kant, an alumnus of upGrad and IIIT-B's...  \n",
       "1  Kunal Shah's credit card bill payment platform...  \n",
       "2  New Zealand defeated India by 8 wickets in the...  \n",
       "3  With Aegon Life iTerm Insurance plan, customer...  \n",
       "4  Speaking about the sexual harassment allegatio...  "
      ]
     },
     "execution_count": 3,
     "metadata": {},
     "output_type": "execute_result"
    }
   ],
   "source": [
    "data=data.rename(columns={'headlines':'Summary', 'text': 'Text'})\n",
    "data.head()"
   ]
  },
  {
   "cell_type": "markdown",
   "id": "96ee1c29",
   "metadata": {},
   "source": [
    "headlines와 text가 각각 요약된 데이터와 본문으로 사용할 것이기 때문에 헷갈리지 않도록 각 열의 이름을 적절하게 바꿔준다. "
   ]
  },
  {
   "cell_type": "markdown",
   "id": "45ed5433",
   "metadata": {},
   "source": [
    "## 데이터 전처리\n",
    "### 중복 샘플과 결측치 제거"
   ]
  },
  {
   "cell_type": "code",
   "execution_count": 4,
   "id": "46bdfa3c",
   "metadata": {},
   "outputs": [
    {
     "data": {
      "text/plain": [
       "(98401, 2)"
      ]
     },
     "execution_count": 4,
     "metadata": {},
     "output_type": "execute_result"
    }
   ],
   "source": [
    "data.shape"
   ]
  },
  {
   "cell_type": "code",
   "execution_count": 5,
   "id": "daa1dc47",
   "metadata": {},
   "outputs": [
    {
     "name": "stdout",
     "output_type": "stream",
     "text": [
      "Text 열에서 중복을 배제한 유일한 샘플의 수 : 98360\n",
      "Summary 열에서 중복을 배제한 유일한 샘플의 수 : 98280\n"
     ]
    }
   ],
   "source": [
    "print('Text 열에서 중복을 배제한 유일한 샘플의 수 :', data['Text'].nunique())\n",
    "print('Summary 열에서 중복을 배제한 유일한 샘플의 수 :', data['Summary'].nunique())"
   ]
  },
  {
   "cell_type": "markdown",
   "id": "d1a4cc1a",
   "metadata": {},
   "source": [
    "중복 샘플은 많지 않다는 것을 알 수 있다. Summary는 간단한 요약들도 존재하기 때문에 중복이 될 수도 있다. Text는 대부분은 비교적으로 길기 때문에 중복 샘플은 정말로 중복되는 것일 확률이 높으므로 제거한다. "
   ]
  },
  {
   "cell_type": "code",
   "execution_count": 6,
   "id": "bd6b752c",
   "metadata": {},
   "outputs": [
    {
     "name": "stdout",
     "output_type": "stream",
     "text": [
      "전체 샘플수 : 98360\n"
     ]
    }
   ],
   "source": [
    "data.drop_duplicates(subset = ['Text'], inplace=True)\n",
    "print('전체 샘플수 :', (len(data)))"
   ]
  },
  {
   "cell_type": "code",
   "execution_count": 7,
   "id": "150c47ac",
   "metadata": {},
   "outputs": [
    {
     "name": "stdout",
     "output_type": "stream",
     "text": [
      "Summary    0\n",
      "Text       0\n",
      "dtype: int64\n"
     ]
    }
   ],
   "source": [
    "print(data.isnull().sum())"
   ]
  },
  {
   "cell_type": "markdown",
   "id": "d613b020",
   "metadata": {},
   "source": [
    "결측치는 없다는 것을 알 수 있다."
   ]
  },
  {
   "cell_type": "markdown",
   "id": "329421c2",
   "metadata": {},
   "source": [
    "### 데이터 정규화 및 불용어 제거\n",
    "정규화 사전은 노드에서 제공한 내용을 그대로 불러와서 사용한다. "
   ]
  },
  {
   "cell_type": "code",
   "execution_count": 8,
   "id": "bde8c8f3",
   "metadata": {},
   "outputs": [
    {
     "name": "stdout",
     "output_type": "stream",
     "text": [
      "정규화 사전의 수:  120\n"
     ]
    }
   ],
   "source": [
    "contractions = {\"ain't\": \"is not\", \"aren't\": \"are not\",\"can't\": \"cannot\", \"'cause\": \"because\", \"could've\": \"could have\", \"couldn't\": \"could not\",\n",
    "                           \"didn't\": \"did not\",  \"doesn't\": \"does not\", \"don't\": \"do not\", \"hadn't\": \"had not\", \"hasn't\": \"has not\", \"haven't\": \"have not\",\n",
    "                           \"he'd\": \"he would\",\"he'll\": \"he will\", \"he's\": \"he is\", \"how'd\": \"how did\", \"how'd'y\": \"how do you\", \"how'll\": \"how will\", \"how's\": \"how is\",\n",
    "                           \"I'd\": \"I would\", \"I'd've\": \"I would have\", \"I'll\": \"I will\", \"I'll've\": \"I will have\",\"I'm\": \"I am\", \"I've\": \"I have\", \"i'd\": \"i would\",\n",
    "                           \"i'd've\": \"i would have\", \"i'll\": \"i will\",  \"i'll've\": \"i will have\",\"i'm\": \"i am\", \"i've\": \"i have\", \"isn't\": \"is not\", \"it'd\": \"it would\",\n",
    "                           \"it'd've\": \"it would have\", \"it'll\": \"it will\", \"it'll've\": \"it will have\",\"it's\": \"it is\", \"let's\": \"let us\", \"ma'am\": \"madam\",\n",
    "                           \"mayn't\": \"may not\", \"might've\": \"might have\",\"mightn't\": \"might not\",\"mightn't've\": \"might not have\", \"must've\": \"must have\",\n",
    "                           \"mustn't\": \"must not\", \"mustn't've\": \"must not have\", \"needn't\": \"need not\", \"needn't've\": \"need not have\",\"o'clock\": \"of the clock\",\n",
    "                           \"oughtn't\": \"ought not\", \"oughtn't've\": \"ought not have\", \"shan't\": \"shall not\", \"sha'n't\": \"shall not\", \"shan't've\": \"shall not have\",\n",
    "                           \"she'd\": \"she would\", \"she'd've\": \"she would have\", \"she'll\": \"she will\", \"she'll've\": \"she will have\", \"she's\": \"she is\",\n",
    "                           \"should've\": \"should have\", \"shouldn't\": \"should not\", \"shouldn't've\": \"should not have\", \"so've\": \"so have\",\"so's\": \"so as\",\n",
    "                           \"this's\": \"this is\",\"that'd\": \"that would\", \"that'd've\": \"that would have\", \"that's\": \"that is\", \"there'd\": \"there would\",\n",
    "                           \"there'd've\": \"there would have\", \"there's\": \"there is\", \"here's\": \"here is\",\"they'd\": \"they would\", \"they'd've\": \"they would have\",\n",
    "                           \"they'll\": \"they will\", \"they'll've\": \"they will have\", \"they're\": \"they are\", \"they've\": \"they have\", \"to've\": \"to have\",\n",
    "                           \"wasn't\": \"was not\", \"we'd\": \"we would\", \"we'd've\": \"we would have\", \"we'll\": \"we will\", \"we'll've\": \"we will have\", \"we're\": \"we are\",\n",
    "                           \"we've\": \"we have\", \"weren't\": \"were not\", \"what'll\": \"what will\", \"what'll've\": \"what will have\", \"what're\": \"what are\",\n",
    "                           \"what's\": \"what is\", \"what've\": \"what have\", \"when's\": \"when is\", \"when've\": \"when have\", \"where'd\": \"where did\", \"where's\": \"where is\",\n",
    "                           \"where've\": \"where have\", \"who'll\": \"who will\", \"who'll've\": \"who will have\", \"who's\": \"who is\", \"who've\": \"who have\",\n",
    "                           \"why's\": \"why is\", \"why've\": \"why have\", \"will've\": \"will have\", \"won't\": \"will not\", \"won't've\": \"will not have\",\n",
    "                           \"would've\": \"would have\", \"wouldn't\": \"would not\", \"wouldn't've\": \"would not have\", \"y'all\": \"you all\",\n",
    "                           \"y'all'd\": \"you all would\",\"y'all'd've\": \"you all would have\",\"y'all're\": \"you all are\",\"y'all've\": \"you all have\",\n",
    "                           \"you'd\": \"you would\", \"you'd've\": \"you would have\", \"you'll\": \"you will\", \"you'll've\": \"you will have\",\n",
    "                           \"you're\": \"you are\", \"you've\": \"you have\"}\n",
    "\n",
    "print(\"정규화 사전의 수: \", len(contractions))"
   ]
  },
  {
   "cell_type": "code",
   "execution_count": 9,
   "id": "fff94370",
   "metadata": {},
   "outputs": [
    {
     "name": "stdout",
     "output_type": "stream",
     "text": [
      "불용어 개수 : 179\n",
      "['i', 'me', 'my', 'myself', 'we', 'our', 'ours', 'ourselves', 'you', \"you're\", \"you've\", \"you'll\", \"you'd\", 'your', 'yours', 'yourself', 'yourselves', 'he', 'him', 'his', 'himself', 'she', \"she's\", 'her', 'hers', 'herself', 'it', \"it's\", 'its', 'itself', 'they', 'them', 'their', 'theirs', 'themselves', 'what', 'which', 'who', 'whom', 'this', 'that', \"that'll\", 'these', 'those', 'am', 'is', 'are', 'was', 'were', 'be', 'been', 'being', 'have', 'has', 'had', 'having', 'do', 'does', 'did', 'doing', 'a', 'an', 'the', 'and', 'but', 'if', 'or', 'because', 'as', 'until', 'while', 'of', 'at', 'by', 'for', 'with', 'about', 'against', 'between', 'into', 'through', 'during', 'before', 'after', 'above', 'below', 'to', 'from', 'up', 'down', 'in', 'out', 'on', 'off', 'over', 'under', 'again', 'further', 'then', 'once', 'here', 'there', 'when', 'where', 'why', 'how', 'all', 'any', 'both', 'each', 'few', 'more', 'most', 'other', 'some', 'such', 'no', 'nor', 'not', 'only', 'own', 'same', 'so', 'than', 'too', 'very', 's', 't', 'can', 'will', 'just', 'don', \"don't\", 'should', \"should've\", 'now', 'd', 'll', 'm', 'o', 're', 've', 'y', 'ain', 'aren', \"aren't\", 'couldn', \"couldn't\", 'didn', \"didn't\", 'doesn', \"doesn't\", 'hadn', \"hadn't\", 'hasn', \"hasn't\", 'haven', \"haven't\", 'isn', \"isn't\", 'ma', 'mightn', \"mightn't\", 'mustn', \"mustn't\", 'needn', \"needn't\", 'shan', \"shan't\", 'shouldn', \"shouldn't\", 'wasn', \"wasn't\", 'weren', \"weren't\", 'won', \"won't\", 'wouldn', \"wouldn't\"]\n"
     ]
    }
   ],
   "source": [
    "print('불용어 개수 :', len(stopwords.words('english') ))\n",
    "print(stopwords.words('english'))"
   ]
  },
  {
   "cell_type": "markdown",
   "id": "cbdffe76",
   "metadata": {},
   "source": [
    "너무 자주 등장하여 자연어 처리에서 도움이 되지 않는 불용어를 제거해야 한다. 이렇게 179개의 불용어가 있는데, 이를 모두 제거하기에 앞서 Summary의 경우 길이가 짧을 확률이 높은데 이런 요약된 데이터에서 불용어를 모두 제거하는 것이 적절한 지 확인해볼 필요가 있다. 불용어 제거만 제외한 전처리를 한 데이터를 살필 예정인데, 이 작업을 하는 함수는 다음과 같다. "
   ]
  },
  {
   "cell_type": "code",
   "execution_count": 10,
   "id": "728f6002",
   "metadata": {},
   "outputs": [],
   "source": [
    "# 데이터 전처리 함수\n",
    "def preprocess_sentence(sentence, remove_stopwords=True):\n",
    "    sentence = sentence.lower() # 텍스트 소문자화\n",
    "    sentence = BeautifulSoup(sentence, \"lxml\").text # <br />, <a href = ...> 등의 html 태그 제거\n",
    "    sentence = re.sub(r'\\([^)]*\\)', '', sentence) # 괄호로 닫힌 문자열 (...) 제거 Ex) my husband (and myself!) for => my husband for\n",
    "    sentence = re.sub('\"','', sentence) # 쌍따옴표 \" 제거\n",
    "    sentence = ' '.join([contractions[t] if t in contractions else t for t in sentence.split(\" \")]) # 약어 정규화\n",
    "    sentence = re.sub(r\"'s\\b\",\"\", sentence) # 소유격 제거. Ex) roland's -> roland\n",
    "    sentence = re.sub(\"[^a-zA-Z]\", \" \", sentence) # 영어 외 문자(숫자, 특수문자 등) 공백으로 변환\n",
    "    sentence = re.sub('[m]{2,}', 'mm', sentence) # m이 3개 이상이면 2개로 변경. Ex) ummmmmmm yeah -> umm yeah\n",
    "    \n",
    "    # 불용어 제거 (Text)\n",
    "    if remove_stopwords:\n",
    "        tokens = ' '.join(word for word in sentence.split() if not word in stopwords.words('english') if len(word) > 1)\n",
    "    # 불용어 미제거 (Summary)\n",
    "    else:\n",
    "        tokens = ' '.join(word for word in sentence.split() if len(word) > 1)\n",
    "    return tokens"
   ]
  },
  {
   "cell_type": "code",
   "execution_count": 11,
   "id": "da3d790f",
   "metadata": {},
   "outputs": [
    {
     "name": "stdout",
     "output_type": "stream",
     "text": [
      "Text 전처리 후 결과:  ['saurav kant alumnus upgrad iiit pg program machine learning artificial intelligence sr systems engineer infosys almost years work experience program upgrad degree career support helped transition data scientist tech mahindra salary hike upgrad online power learning powered lakh careers', 'kunal shah credit card bill payment platform cred gave users chance win free food swiggy one year pranav kaushik delhi techie bagged reward spending cred coins users get one cred coin per rupee bill paid used avail rewards brands like ixigo bookmyshow ubereats cult fit', 'new zealand defeated india wickets fourth odi hamilton thursday win first match five match odi series india lost international match rohit sharma captaincy consecutive victories dating back march match witnessed india getting seventh lowest total odi cricket history', 'aegon life iterm insurance plan customers enjoy tax benefits premiums paid save taxes plan provides life cover age years also customers options insure critical illnesses disability accidental death benefit rider life cover age years', 'speaking sexual harassment allegations rajkumar hirani sonam kapoor said known hirani many years true metoo movement get derailed metoo movement always believe woman case need reserve judgment added hirani accused assistant worked sanju']\n"
     ]
    }
   ],
   "source": [
    "clean_text = []\n",
    "# 전체 Text 데이터에 대한 전처리 : 10분 이상 시간이 걸릴 수 있습니다. \n",
    "for s in data['Text']:\n",
    "    clean_text.append(preprocess_sentence(s))\n",
    "\n",
    "# 전처리 후 출력\n",
    "print(\"Text 전처리 후 결과: \", clean_text[:5])"
   ]
  },
  {
   "cell_type": "code",
   "execution_count": 12,
   "id": "8efad021",
   "metadata": {},
   "outputs": [
    {
     "name": "stdout",
     "output_type": "stream",
     "text": [
      "Summary 전처리 후 결과:  ['upgrad learner switches to career in ml al with salary hike', 'delhi techie wins free food from swiggy for one year on cred', 'new zealand end rohit sharma led india match winning streak', 'aegon life iterm insurance plan helps customers save tax', 'have known hirani for yrs what if metoo claims are not true sonam']\n"
     ]
    }
   ],
   "source": [
    "clean_summary = []\n",
    "# 전체 Summary 데이터에 대한 전처리 : 5분 이상 시간이 걸릴 수 있습니다. \n",
    "for s in data['Summary']:\n",
    "    clean_summary.append(preprocess_sentence(s, False))\n",
    "\n",
    "print(\"Summary 전처리 후 결과: \", clean_summary[:5])"
   ]
  },
  {
   "cell_type": "code",
   "execution_count": 13,
   "id": "56895c09",
   "metadata": {},
   "outputs": [
    {
     "name": "stdout",
     "output_type": "stream",
     "text": [
      "=3\n"
     ]
    }
   ],
   "source": [
    "data['clean_Text'] = clean_text\n",
    "data['clean_Summary'] = clean_summary\n",
    "\n",
    "# 빈 값을 Null 값으로 변환\n",
    "data.replace('', np.nan, inplace=True)\n",
    "print('=3')"
   ]
  },
  {
   "cell_type": "code",
   "execution_count": 14,
   "id": "06e625d6",
   "metadata": {},
   "outputs": [
    {
     "data": {
      "text/plain": [
       "Summary          0\n",
       "Text             0\n",
       "clean_Text       0\n",
       "clean_Summary    0\n",
       "dtype: int64"
      ]
     },
     "execution_count": 14,
     "metadata": {},
     "output_type": "execute_result"
    }
   ],
   "source": [
    "data.isnull().sum()"
   ]
  },
  {
   "cell_type": "code",
   "execution_count": 15,
   "id": "6d3efded",
   "metadata": {},
   "outputs": [
    {
     "name": "stdout",
     "output_type": "stream",
     "text": [
      "전체 샘플수 : 98360\n"
     ]
    }
   ],
   "source": [
    "data.dropna(axis=0, inplace=True)\n",
    "print('전체 샘플수 :', (len(data)))"
   ]
  },
  {
   "cell_type": "markdown",
   "id": "5414cc14",
   "metadata": {},
   "source": [
    "이후에 샘플의 최대 길이를 결정할 때 다음과 동일한 작업을 할 예정이다. "
   ]
  },
  {
   "cell_type": "markdown",
   "id": "d36d0c29",
   "metadata": {},
   "source": [
    "### 샘플 최대 길이 결정"
   ]
  },
  {
   "cell_type": "code",
   "execution_count": 16,
   "id": "375f4e3d",
   "metadata": {},
   "outputs": [
    {
     "name": "stdout",
     "output_type": "stream",
     "text": [
      "텍스트의 최소 길이 : 1\n",
      "텍스트의 최대 길이 : 60\n",
      "텍스트의 평균 길이 : 35.09968483123221\n",
      "요약의 최소 길이 : 1\n",
      "요약의 최대 길이 : 16\n",
      "요약의 평균 길이 : 9.299532330215534\n"
     ]
    },
    {
     "data": {
      "image/png": "[encoded data removed]",
      "text/plain": [
       "<Figure size 432x288 with 2 Axes>"
      ]
     },
     "metadata": {
      "needs_background": "light"
     },
     "output_type": "display_data"
    },
    {
     "data": {
      "image/png": "[encoded data removed]",
      "text/plain": [
       "<Figure size 432x288 with 1 Axes>"
      ]
     },
     "metadata": {
      "needs_background": "light"
     },
     "output_type": "display_data"
    },
    {
     "data": {
      "image/png": "[encoded data removed]",
      "text/plain": [
       "<Figure size 432x288 with 1 Axes>"
      ]
     },
     "metadata": {
      "needs_background": "light"
     },
     "output_type": "display_data"
    }
   ],
   "source": [
    "# Text만 불용어 제거 후 길이 분포 출력\n",
    "import matplotlib.pyplot as plt\n",
    "\n",
    "text_len = [len(s.split()) for s in data['clean_Text']]\n",
    "summary_len = [len(s.split()) for s in data['clean_Summary']]\n",
    "\n",
    "print('텍스트의 최소 길이 : {}'.format(np.min(text_len)))\n",
    "print('텍스트의 최대 길이 : {}'.format(np.max(text_len)))\n",
    "print('텍스트의 평균 길이 : {}'.format(np.mean(text_len)))\n",
    "print('요약의 최소 길이 : {}'.format(np.min(summary_len)))\n",
    "print('요약의 최대 길이 : {}'.format(np.max(summary_len)))\n",
    "print('요약의 평균 길이 : {}'.format(np.mean(summary_len)))\n",
    "\n",
    "plt.subplot(1,2,1)\n",
    "plt.boxplot(text_len)\n",
    "plt.title('Text')\n",
    "plt.subplot(1,2,2)\n",
    "plt.boxplot(summary_len)\n",
    "plt.title('Summary')\n",
    "plt.tight_layout()\n",
    "plt.show()\n",
    "\n",
    "plt.title('Text')\n",
    "plt.hist(text_len, bins = 40)\n",
    "plt.xlabel('length of samples')\n",
    "plt.ylabel('number of samples')\n",
    "plt.show()\n",
    "\n",
    "plt.title('Summary')\n",
    "plt.hist(summary_len, bins = 40)\n",
    "plt.xlabel('length of samples')\n",
    "plt.ylabel('number of samples')\n",
    "plt.show()"
   ]
  },
  {
   "cell_type": "markdown",
   "id": "2f1bebe5",
   "metadata": {},
   "source": [
    "Text의 길이는 평균 35, 최대 60이고, Summary는 평균 9, 최대 17이다. 임의로 최대 길이를 각각 40, 11로 정하고 데이터가 어느정도 포함이 되는지를 확인하겠다. "
   ]
  },
  {
   "cell_type": "code",
   "execution_count": 17,
   "id": "c0656c27",
   "metadata": {},
   "outputs": [],
   "source": [
    "def below_threshold_len(max_len, nested_list):\n",
    "    cnt = 0\n",
    "    for s in nested_list:\n",
    "        if(len(s.split()) <= max_len):\n",
    "            cnt = cnt + 1\n",
    "    print('전체 샘플 중 길이가 %s 이하인 샘플의 비율: %s'%(max_len, (cnt / len(nested_list))))"
   ]
  },
  {
   "cell_type": "code",
   "execution_count": 18,
   "id": "4289179e",
   "metadata": {},
   "outputs": [
    {
     "name": "stdout",
     "output_type": "stream",
     "text": [
      "전체 샘플 중 길이가 40 이하인 샘플의 비율: 0.9238714924766165\n",
      "전체 샘플 중 길이가 11 이하인 샘플의 비율: 0.9449877999186661\n"
     ]
    }
   ],
   "source": [
    "text_max_len = 40\n",
    "summary_max_len = 11\n",
    "\n",
    "below_threshold_len(text_max_len, data['clean_Text'])\n",
    "below_threshold_len(summary_max_len,  data['clean_Summary'])"
   ]
  },
  {
   "cell_type": "markdown",
   "id": "2342a4d4",
   "metadata": {},
   "source": [
    "데이터의 대부분이 해당 길이 내에 해당이 되기 때문에 이대로 활용해도 괜찮을 것 같다. 이 길이 보다 긴 샘플의 경우는 제외하도록 하겠다. "
   ]
  },
  {
   "cell_type": "code",
   "execution_count": 19,
   "id": "cb56cf48",
   "metadata": {},
   "outputs": [
    {
     "name": "stdout",
     "output_type": "stream",
     "text": [
      "전체 샘플수 : 85843\n"
     ]
    }
   ],
   "source": [
    "data = data[data['clean_Text'].apply(lambda x: len(x.split()) <= text_max_len)]\n",
    "data = data[data['clean_Summary'].apply(lambda x: len(x.split()) <= summary_max_len)]\n",
    "print('전체 샘플수 :', (len(data)))"
   ]
  },
  {
   "cell_type": "markdown",
   "id": "4a2bdd57",
   "metadata": {},
   "source": [
    "### 시작 토큰과 종료 토큰 추가 + 훈련 데이터와 테스트 데이터 분리\n",
    "훈련 시 사용되는 시작과 종료 토큰을 노드에서 사용한 그대로 sostoken과 eostoken으로 사용하여 문장의 시작과 끝에 추가하여 decoder_input과 decoder_target을 만든다. encoder_input은 Text를 그대로 이용한다."
   ]
  },
  {
   "cell_type": "code",
   "execution_count": 20,
   "id": "e9027e4f",
   "metadata": {},
   "outputs": [
    {
     "data": {
      "text/html": [
       "<div>\n",
       "<style scoped>\n",
       "    .dataframe tbody tr th:only-of-type {\n",
       "        vertical-align: middle;\n",
       "    }\n",
       "\n",
       "    .dataframe tbody tr th {\n",
       "        vertical-align: top;\n",
       "    }\n",
       "\n",
       "    .dataframe thead th {\n",
       "        text-align: right;\n",
       "    }\n",
       "</style>\n",
       "<table border=\"1\" class=\"dataframe\">\n",
       "  <thead>\n",
       "    <tr style=\"text-align: right;\">\n",
       "      <th></th>\n",
       "      <th>Summary</th>\n",
       "      <th>Text</th>\n",
       "      <th>clean_Text</th>\n",
       "      <th>clean_Summary</th>\n",
       "      <th>decoder_input</th>\n",
       "      <th>decoder_target</th>\n",
       "    </tr>\n",
       "  </thead>\n",
       "  <tbody>\n",
       "    <tr>\n",
       "      <th>0</th>\n",
       "      <td>upGrad learner switches to career in ML &amp; Al w...</td>\n",
       "      <td>Saurav Kant, an alumnus of upGrad and IIIT-B's...</td>\n",
       "      <td>saurav kant alumnus upgrad iiit pg program mac...</td>\n",
       "      <td>upgrad learner switches to career in ml al wit...</td>\n",
       "      <td>sostoken upgrad learner switches to career in ...</td>\n",
       "      <td>upgrad learner switches to career in ml al wit...</td>\n",
       "    </tr>\n",
       "    <tr>\n",
       "      <th>2</th>\n",
       "      <td>New Zealand end Rohit Sharma-led India's 12-ma...</td>\n",
       "      <td>New Zealand defeated India by 8 wickets in the...</td>\n",
       "      <td>new zealand defeated india wickets fourth odi ...</td>\n",
       "      <td>new zealand end rohit sharma led india match w...</td>\n",
       "      <td>sostoken new zealand end rohit sharma led indi...</td>\n",
       "      <td>new zealand end rohit sharma led india match w...</td>\n",
       "    </tr>\n",
       "    <tr>\n",
       "      <th>3</th>\n",
       "      <td>Aegon life iTerm insurance plan helps customer...</td>\n",
       "      <td>With Aegon Life iTerm Insurance plan, customer...</td>\n",
       "      <td>aegon life iterm insurance plan customers enjo...</td>\n",
       "      <td>aegon life iterm insurance plan helps customer...</td>\n",
       "      <td>sostoken aegon life iterm insurance plan helps...</td>\n",
       "      <td>aegon life iterm insurance plan helps customer...</td>\n",
       "    </tr>\n",
       "    <tr>\n",
       "      <th>5</th>\n",
       "      <td>Rahat Fateh Ali Khan denies getting notice for...</td>\n",
       "      <td>Pakistani singer Rahat Fateh Ali Khan has deni...</td>\n",
       "      <td>pakistani singer rahat fateh ali khan denied r...</td>\n",
       "      <td>rahat fateh ali khan denies getting notice for...</td>\n",
       "      <td>sostoken rahat fateh ali khan denies getting n...</td>\n",
       "      <td>rahat fateh ali khan denies getting notice for...</td>\n",
       "    </tr>\n",
       "    <tr>\n",
       "      <th>7</th>\n",
       "      <td>Govt directs Alok Verma to join work 1 day bef...</td>\n",
       "      <td>Weeks after ex-CBI Director Alok Verma told th...</td>\n",
       "      <td>weeks ex cbi director alok verma told departme...</td>\n",
       "      <td>govt directs alok verma to join work day befor...</td>\n",
       "      <td>sostoken govt directs alok verma to join work ...</td>\n",
       "      <td>govt directs alok verma to join work day befor...</td>\n",
       "    </tr>\n",
       "  </tbody>\n",
       "</table>\n",
       "</div>"
      ],
      "text/plain": [
       "                                             Summary  \\\n",
       "0  upGrad learner switches to career in ML & Al w...   \n",
       "2  New Zealand end Rohit Sharma-led India's 12-ma...   \n",
       "3  Aegon life iTerm insurance plan helps customer...   \n",
       "5  Rahat Fateh Ali Khan denies getting notice for...   \n",
       "7  Govt directs Alok Verma to join work 1 day bef...   \n",
       "\n",
       "                                                Text  \\\n",
       "0  Saurav Kant, an alumnus of upGrad and IIIT-B's...   \n",
       "2  New Zealand defeated India by 8 wickets in the...   \n",
       "3  With Aegon Life iTerm Insurance plan, customer...   \n",
       "5  Pakistani singer Rahat Fateh Ali Khan has deni...   \n",
       "7  Weeks after ex-CBI Director Alok Verma told th...   \n",
       "\n",
       "                                          clean_Text  \\\n",
       "0  saurav kant alumnus upgrad iiit pg program mac...   \n",
       "2  new zealand defeated india wickets fourth odi ...   \n",
       "3  aegon life iterm insurance plan customers enjo...   \n",
       "5  pakistani singer rahat fateh ali khan denied r...   \n",
       "7  weeks ex cbi director alok verma told departme...   \n",
       "\n",
       "                                       clean_Summary  \\\n",
       "0  upgrad learner switches to career in ml al wit...   \n",
       "2  new zealand end rohit sharma led india match w...   \n",
       "3  aegon life iterm insurance plan helps customer...   \n",
       "5  rahat fateh ali khan denies getting notice for...   \n",
       "7  govt directs alok verma to join work day befor...   \n",
       "\n",
       "                                       decoder_input  \\\n",
       "0  sostoken upgrad learner switches to career in ...   \n",
       "2  sostoken new zealand end rohit sharma led indi...   \n",
       "3  sostoken aegon life iterm insurance plan helps...   \n",
       "5  sostoken rahat fateh ali khan denies getting n...   \n",
       "7  sostoken govt directs alok verma to join work ...   \n",
       "\n",
       "                                      decoder_target  \n",
       "0  upgrad learner switches to career in ml al wit...  \n",
       "2  new zealand end rohit sharma led india match w...  \n",
       "3  aegon life iterm insurance plan helps customer...  \n",
       "5  rahat fateh ali khan denies getting notice for...  \n",
       "7  govt directs alok verma to join work day befor...  "
      ]
     },
     "execution_count": 20,
     "metadata": {},
     "output_type": "execute_result"
    }
   ],
   "source": [
    "data['decoder_input'] = data['clean_Summary'].apply(lambda x : 'sostoken '+ x)\n",
    "data['decoder_target'] = data['clean_Summary'].apply(lambda x : x + ' eostoken')\n",
    "data.head()"
   ]
  },
  {
   "cell_type": "code",
   "execution_count": 21,
   "id": "6a082d98",
   "metadata": {},
   "outputs": [],
   "source": [
    "encoder_input = np.array(data['clean_Text']) # 인코더의 입력\n",
    "decoder_input = np.array(data['decoder_input']) # 디코더의 입력\n",
    "decoder_target = np.array(data['decoder_target']) # 디코더의 레이블"
   ]
  },
  {
   "cell_type": "markdown",
   "id": "034d6412",
   "metadata": {},
   "source": [
    "다음으로는, 직접 훈련과 테스트 데이터로 데이터를 분리한다. 순서를 무작위로 섞어서 나누는 것이 원칙이다. "
   ]
  },
  {
   "cell_type": "code",
   "execution_count": 22,
   "id": "54d2d894",
   "metadata": {},
   "outputs": [
    {
     "name": "stdout",
     "output_type": "stream",
     "text": [
      "[82373 35131 75116 ... 10999 67433 26285]\n"
     ]
    }
   ],
   "source": [
    "indices = np.arange(encoder_input.shape[0])\n",
    "np.random.shuffle(indices)\n",
    "print(indices)"
   ]
  },
  {
   "cell_type": "code",
   "execution_count": 23,
   "id": "db8948ce",
   "metadata": {},
   "outputs": [],
   "source": [
    "# 무작위 순서에 맞춰서 데이터를 동일하게 섞기\n",
    "encoder_input = encoder_input[indices]\n",
    "decoder_input = decoder_input[indices]\n",
    "decoder_target = decoder_target[indices]"
   ]
  },
  {
   "cell_type": "markdown",
   "id": "c59f391e",
   "metadata": {},
   "source": [
    "순서가 잘 섞인 것을 확인했으니, 이 순서대로 샘플을 8:2로 나누겠다."
   ]
  },
  {
   "cell_type": "code",
   "execution_count": 24,
   "id": "6e623ac3",
   "metadata": {},
   "outputs": [
    {
     "name": "stdout",
     "output_type": "stream",
     "text": [
      "테스트 데이터의 수 : 17168\n"
     ]
    }
   ],
   "source": [
    "n_of_val = int(len(encoder_input)*0.2)\n",
    "print('테스트 데이터의 수 :', n_of_val)"
   ]
  },
  {
   "cell_type": "code",
   "execution_count": 25,
   "id": "b35500e2",
   "metadata": {},
   "outputs": [
    {
     "name": "stdout",
     "output_type": "stream",
     "text": [
      "훈련 데이터의 개수 : 68675\n",
      "훈련 레이블의 개수 : 68675\n",
      "테스트 데이터의 개수 : 17168\n",
      "테스트 레이블의 개수 : 17168\n"
     ]
    }
   ],
   "source": [
    "# 훈련과 테스트 셋으로 분리\n",
    "encoder_input_train = encoder_input[:-n_of_val]\n",
    "decoder_input_train = decoder_input[:-n_of_val]\n",
    "decoder_target_train = decoder_target[:-n_of_val]\n",
    "\n",
    "encoder_input_test = encoder_input[-n_of_val:]\n",
    "decoder_input_test = decoder_input[-n_of_val:]\n",
    "decoder_target_test = decoder_target[-n_of_val:]\n",
    "\n",
    "print('훈련 데이터의 개수 :', len(encoder_input_train))\n",
    "print('훈련 레이블의 개수 :', len(decoder_input_train))\n",
    "print('테스트 데이터의 개수 :', len(encoder_input_test))\n",
    "print('테스트 레이블의 개수 :', len(decoder_input_test))"
   ]
  },
  {
   "cell_type": "markdown",
   "id": "5d75737c",
   "metadata": {},
   "source": [
    "### 정수 인코딩\n",
    "#### Text 데이터\n",
    "Tokenizer를 이용하여 단어 집합(vocabulary)를 만들고, 이에 맞게 훈련 데이터를 정수로 변환하는 작업을 한다. 전체 단어를 활용하지 않고 등장 빈도수가 적은 단어는 훈련에서 사용하지 않도록 한다. 특정 threshold 미만의 횟수를 등장하는 단어가 데이터에서 차지하는 비중을 확인하여 학습할 단어 집합의 크기를 결정하겠다. threshold를 10으로 해서 확인해본다. "
   ]
  },
  {
   "cell_type": "code",
   "execution_count": 26,
   "id": "5cc0827a",
   "metadata": {},
   "outputs": [],
   "source": [
    "# 전체 단어 집합 생성\n",
    "src_tokenizer = Tokenizer()\n",
    "src_tokenizer.fit_on_texts(encoder_input_train)"
   ]
  },
  {
   "cell_type": "code",
   "execution_count": 27,
   "id": "dc38f55a",
   "metadata": {},
   "outputs": [
    {
     "name": "stdout",
     "output_type": "stream",
     "text": [
      "단어 집합(vocabulary)의 크기 : 64719\n",
      "등장 빈도가 9번 이하인 희귀 단어의 수: 47710\n",
      "단어 집합에서 희귀 단어를 제외시킬 경우의 단어 집합의 크기 17009\n",
      "단어 집합에서 희귀 단어의 비율: 73.71869157434448\n",
      "전체 등장 빈도에서 희귀 단어 등장 빈도 비율: 4.957028269876796\n"
     ]
    }
   ],
   "source": [
    "threshold = 10\n",
    "total_cnt = len(src_tokenizer.word_index) # 단어의 수\n",
    "rare_cnt = 0 # 등장 빈도수가 threshold보다 작은 단어의 개수를 카운트\n",
    "total_freq = 0 # 훈련 데이터의 전체 단어 빈도수 총 합\n",
    "rare_freq = 0 # 등장 빈도수가 threshold보다 작은 단어의 등장 빈도수의 총 합\n",
    "\n",
    "# 단어와 빈도수의 쌍(pair)을 key와 value로 받는다.\n",
    "for key, value in src_tokenizer.word_counts.items():\n",
    "    total_freq = total_freq + value\n",
    "\n",
    "    # 단어의 등장 빈도수가 threshold보다 작으면\n",
    "    if(value < threshold):\n",
    "        rare_cnt = rare_cnt + 1\n",
    "        rare_freq = rare_freq + value\n",
    "\n",
    "print('단어 집합(vocabulary)의 크기 :', total_cnt)\n",
    "print('등장 빈도가 %s번 이하인 희귀 단어의 수: %s'%(threshold - 1, rare_cnt))\n",
    "print('단어 집합에서 희귀 단어를 제외시킬 경우의 단어 집합의 크기 %s'%(total_cnt - rare_cnt))\n",
    "print(\"단어 집합에서 희귀 단어의 비율:\", (rare_cnt / total_cnt)*100)\n",
    "print(\"전체 등장 빈도에서 희귀 단어 등장 빈도 비율:\", (rare_freq / total_freq)*100)"
   ]
  },
  {
   "cell_type": "markdown",
   "id": "20a40fa7",
   "metadata": {},
   "source": [
    "9번 이하로 등장하는 단어들이 단어 집합에서 70% 이상의 큰 비중을 차지하지만, 전체 등장 빈도에서 차지하는 비중은 5.1% 정도로 매우 작은 값이기 때문에 단어 집합은 10회 이상 등장한 단어들만 포함하도록 설정하겠다. 10회 이상 등장한 단어는 167969라고 나오는데 이보다 조금 더 잘라서 16500으로 제한하겠다. 그럼 num_words를 16500으로 설정하여 Tokenizer를 다시 생성해서 단어 집합을 제한한다. "
   ]
  },
  {
   "cell_type": "code",
   "execution_count": 28,
   "id": "22a3b33e",
   "metadata": {},
   "outputs": [],
   "source": [
    "src_vocab = 16500\n",
    "src_tokenizer = Tokenizer(num_words=src_vocab) \n",
    "src_tokenizer.fit_on_texts(encoder_input_train) "
   ]
  },
  {
   "cell_type": "code",
   "execution_count": 29,
   "id": "f92e8700",
   "metadata": {},
   "outputs": [
    {
     "name": "stdout",
     "output_type": "stream",
     "text": [
      "[10068, 1850, 5873, 11127, 277, 317, 4295, 2115, 9840, 10069, 1, 4295, 215, 18, 10068, 139, 4295, 2115, 18, 587, 660, 13, 22, 4, 10068, 605, 4094, 502, 6369, 558, 138, 774]\n"
     ]
    }
   ],
   "source": [
    "# 텍스트 시퀀스를 정수 시퀀스로 변환\n",
    "encoder_input_train = src_tokenizer.texts_to_sequences(encoder_input_train) \n",
    "encoder_input_test = src_tokenizer.texts_to_sequences(encoder_input_test)\n",
    "\n",
    "# 샘플 확인\n",
    "print(encoder_input_train[0])"
   ]
  },
  {
   "cell_type": "markdown",
   "id": "ddbf30cc",
   "metadata": {},
   "source": [
    "#### Summary 데이터\n",
    "Summary 데이터에서도 동일한 작업을 해준다."
   ]
  },
  {
   "cell_type": "code",
   "execution_count": 30,
   "id": "7529fc79",
   "metadata": {},
   "outputs": [],
   "source": [
    "tar_tokenizer = Tokenizer()\n",
    "tar_tokenizer.fit_on_texts(decoder_input_train)"
   ]
  },
  {
   "cell_type": "code",
   "execution_count": 31,
   "id": "099e1aec",
   "metadata": {},
   "outputs": [
    {
     "name": "stdout",
     "output_type": "stream",
     "text": [
      "단어 집합(vocabulary)의 크기 : 28438\n",
      "등장 빈도가 7번 이하인 희귀 단어의 수: 20247\n",
      "단어 집합에서 희귀 단어를 제외시킬 경우의 단어 집합의 크기 8191\n",
      "단어 집합에서 희귀 단어의 비율: 71.19698994303397\n",
      "전체 등장 빈도에서 희귀 단어 등장 빈도 비율: 6.57658227666079\n"
     ]
    }
   ],
   "source": [
    "threshold = 8\n",
    "total_cnt = len(tar_tokenizer.word_index) # 단어의 수\n",
    "rare_cnt = 0 # 등장 빈도수가 threshold보다 작은 단어의 개수를 카운트\n",
    "total_freq = 0 # 훈련 데이터의 전체 단어 빈도수 총 합\n",
    "rare_freq = 0 # 등장 빈도수가 threshold보다 작은 단어의 등장 빈도수의 총 합\n",
    "\n",
    "# 단어와 빈도수의 쌍(pair)을 key와 value로 받는다.\n",
    "for key, value in tar_tokenizer.word_counts.items():\n",
    "    total_freq = total_freq + value\n",
    "\n",
    "    # 단어의 등장 빈도수가 threshold보다 작으면\n",
    "    if(value < threshold):\n",
    "        rare_cnt = rare_cnt + 1\n",
    "        rare_freq = rare_freq + value\n",
    "\n",
    "print('단어 집합(vocabulary)의 크기 :', total_cnt)\n",
    "print('등장 빈도가 %s번 이하인 희귀 단어의 수: %s'%(threshold - 1, rare_cnt))\n",
    "print('단어 집합에서 희귀 단어를 제외시킬 경우의 단어 집합의 크기 %s'%(total_cnt - rare_cnt))\n",
    "print(\"단어 집합에서 희귀 단어의 비율:\", (rare_cnt / total_cnt)*100)\n",
    "print(\"전체 등장 빈도에서 희귀 단어 등장 빈도 비율:\", (rare_freq / total_freq)*100)"
   ]
  },
  {
   "cell_type": "markdown",
   "id": "cc450a65",
   "metadata": {},
   "source": [
    "8회 미만으로 등장한 단어는 전체 등장 빈도의 6.8% 정도만 비중을 차지하기 때문에 모두 제거하도록 하겠다. 단어 집합의 크기를 8000 정도로 잡으면 적합하다. "
   ]
  },
  {
   "cell_type": "code",
   "execution_count": 32,
   "id": "b71f0161",
   "metadata": {},
   "outputs": [
    {
     "name": "stdout",
     "output_type": "stream",
     "text": [
      "input\n",
      "input  [[1, 2855, 75, 430, 122, 131, 7101, 4, 44, 193, 7101, 1517], [1, 1401, 54, 3, 1562, 424, 3417, 346, 138], [1, 96, 5417, 1608, 269, 41, 637, 1037], [1, 1901, 4097, 4, 31, 3309, 1902, 2717, 4, 1083, 344], [1, 7612, 261, 3137, 14, 28, 1097, 752, 1252, 4, 49]]\n",
      "target\n",
      "decoder  [[2855, 75, 430, 122, 131, 7101, 4, 44, 193, 7101, 1517, 2], [1401, 54, 3, 1562, 424, 3417, 346, 138, 2], [96, 5417, 1608, 269, 41, 637, 1037, 2], [1901, 4097, 4, 31, 3309, 1902, 2717, 4, 1083, 344, 2], [7612, 261, 3137, 14, 28, 1097, 752, 1252, 4, 49, 2]]\n"
     ]
    }
   ],
   "source": [
    "tar_vocab = 8000\n",
    "tar_tokenizer = Tokenizer(num_words=tar_vocab) \n",
    "tar_tokenizer.fit_on_texts(decoder_input_train)\n",
    "tar_tokenizer.fit_on_texts(decoder_target_train)\n",
    "\n",
    "# 텍스트 시퀀스를 정수 시퀀스로 변환\n",
    "decoder_input_train = tar_tokenizer.texts_to_sequences(decoder_input_train) \n",
    "decoder_target_train = tar_tokenizer.texts_to_sequences(decoder_target_train)\n",
    "decoder_input_test = tar_tokenizer.texts_to_sequences(decoder_input_test)\n",
    "decoder_target_test = tar_tokenizer.texts_to_sequences(decoder_target_test)\n",
    "\n",
    "# 잘 변환되었는지 확인\n",
    "print('input')\n",
    "print('input ',decoder_input_train[:5])\n",
    "print('target')\n",
    "print('decoder ',decoder_target_train[:5])"
   ]
  },
  {
   "cell_type": "markdown",
   "id": "cce4f91c",
   "metadata": {},
   "source": [
    "### 패딩 처리\n",
    "데이터 전처리의 마지막으로는 샘플의 길이를 통일시키기 위해 패딩 작업을 수행한다. 이전에 결정한 최대 길이를 40과 11로 설정하고, 이보다 작은 샘플은 뒤에 숫자 0으로 채워서 길이를 맞춘다."
   ]
  },
  {
   "cell_type": "code",
   "execution_count": 33,
   "id": "7f77f48f",
   "metadata": {},
   "outputs": [],
   "source": [
    "encoder_input_train = pad_sequences(encoder_input_train, maxlen=text_max_len, padding='post')\n",
    "encoder_input_test = pad_sequences(encoder_input_test, maxlen=text_max_len, padding='post')\n",
    "decoder_input_train = pad_sequences(decoder_input_train, maxlen=summary_max_len, padding='post')\n",
    "decoder_target_train = pad_sequences(decoder_target_train, maxlen=summary_max_len, padding='post')\n",
    "decoder_input_test = pad_sequences(decoder_input_test, maxlen=summary_max_len, padding='post')\n",
    "decoder_target_test = pad_sequences(decoder_target_test, maxlen=summary_max_len, padding='post')"
   ]
  },
  {
   "cell_type": "markdown",
   "id": "f51806c8",
   "metadata": {},
   "source": [
    "## 모델 설계\n",
    "### 인코더 설계"
   ]
  },
  {
   "cell_type": "code",
   "execution_count": 34,
   "id": "bed55627",
   "metadata": {},
   "outputs": [
    {
     "name": "stdout",
     "output_type": "stream",
     "text": [
      "WARNING:tensorflow:Layer lstm will not use cuDNN kernels since it doesn't meet the criteria. It will use a generic GPU kernel as fallback when running on GPU.\n",
      "WARNING:tensorflow:Layer lstm_1 will not use cuDNN kernels since it doesn't meet the criteria. It will use a generic GPU kernel as fallback when running on GPU.\n",
      "WARNING:tensorflow:Layer lstm_2 will not use cuDNN kernels since it doesn't meet the criteria. It will use a generic GPU kernel as fallback when running on GPU.\n"
     ]
    }
   ],
   "source": [
    "from tensorflow.keras.layers import Input, LSTM, Embedding, Dense, Concatenate, TimeDistributed\n",
    "from tensorflow.keras.models import Model\n",
    "from tensorflow.keras.callbacks import EarlyStopping, ModelCheckpoint\n",
    "\n",
    "\n",
    "# 인코더 설계 시작\n",
    "embedding_dim = 128\n",
    "hidden_size = 256\n",
    "\n",
    "# 인코더\n",
    "encoder_inputs = Input(shape=(text_max_len,))\n",
    "\n",
    "# 인코더의 임베딩 층\n",
    "enc_emb = Embedding(src_vocab, embedding_dim)(encoder_inputs)\n",
    "\n",
    "# 인코더의 LSTM 1\n",
    "encoder_lstm1 = LSTM(hidden_size, return_sequences=True, return_state=True ,dropout = 0.4, recurrent_dropout = 0.4)\n",
    "encoder_output1, state_h1, state_c1 = encoder_lstm1(enc_emb)\n",
    "\n",
    "# 인코더의 LSTM 2\n",
    "encoder_lstm2 = LSTM(hidden_size, return_sequences=True, return_state=True, dropout=0.4, recurrent_dropout=0.4)\n",
    "encoder_output2, state_h2, state_c2 = encoder_lstm2(encoder_output1)\n",
    "\n",
    "# 인코더의 LSTM 3\n",
    "encoder_lstm3 = LSTM(hidden_size, return_state=True, return_sequences=True, dropout=0.4, recurrent_dropout=0.4)\n",
    "encoder_outputs, state_h, state_c= encoder_lstm3(encoder_output2)"
   ]
  },
  {
   "cell_type": "markdown",
   "id": "268077de",
   "metadata": {},
   "source": [
    "### 디코더 설계"
   ]
  },
  {
   "cell_type": "code",
   "execution_count": 35,
   "id": "8944a5a6",
   "metadata": {},
   "outputs": [
    {
     "name": "stdout",
     "output_type": "stream",
     "text": [
      "WARNING:tensorflow:Layer lstm_3 will not use cuDNN kernels since it doesn't meet the criteria. It will use a generic GPU kernel as fallback when running on GPU.\n"
     ]
    }
   ],
   "source": [
    "# 디코더 설계\n",
    "decoder_inputs = Input(shape=(None,))\n",
    "\n",
    "# 디코더의 임베딩 층\n",
    "dec_emb_layer = Embedding(tar_vocab, embedding_dim)\n",
    "dec_emb = dec_emb_layer(decoder_inputs)\n",
    "\n",
    "# 디코더의 LSTM\n",
    "decoder_lstm = LSTM(hidden_size, return_sequences=True, return_state=True, dropout=0.4, recurrent_dropout=0.2)\n",
    "decoder_outputs, _, _ = decoder_lstm(dec_emb, initial_state=[state_h, state_c])"
   ]
  },
  {
   "cell_type": "markdown",
   "id": "38ce93e0",
   "metadata": {},
   "source": [
    "__어텐션 메커니즘__을 이용하기 위해 어텐션 층을 만들고 디코더의 출력 층에서 이용하도록 설정한다."
   ]
  },
  {
   "cell_type": "code",
   "execution_count": 36,
   "id": "4ff08159",
   "metadata": {},
   "outputs": [
    {
     "name": "stdout",
     "output_type": "stream",
     "text": [
      "Model: \"model\"\n",
      "__________________________________________________________________________________________________\n",
      "Layer (type)                    Output Shape         Param #     Connected to                     \n",
      "==================================================================================================\n",
      "input_1 (InputLayer)            [(None, 40)]         0                                            \n",
      "__________________________________________________________________________________________________\n",
      "embedding (Embedding)           (None, 40, 128)      2112000     input_1[0][0]                    \n",
      "__________________________________________________________________________________________________\n",
      "lstm (LSTM)                     [(None, 40, 256), (N 394240      embedding[0][0]                  \n",
      "__________________________________________________________________________________________________\n",
      "input_2 (InputLayer)            [(None, None)]       0                                            \n",
      "__________________________________________________________________________________________________\n",
      "lstm_1 (LSTM)                   [(None, 40, 256), (N 525312      lstm[0][0]                       \n",
      "__________________________________________________________________________________________________\n",
      "embedding_1 (Embedding)         (None, None, 128)    1024000     input_2[0][0]                    \n",
      "__________________________________________________________________________________________________\n",
      "lstm_2 (LSTM)                   [(None, 40, 256), (N 525312      lstm_1[0][0]                     \n",
      "__________________________________________________________________________________________________\n",
      "lstm_3 (LSTM)                   [(None, None, 256),  394240      embedding_1[0][0]                \n",
      "                                                                 lstm_2[0][1]                     \n",
      "                                                                 lstm_2[0][2]                     \n",
      "__________________________________________________________________________________________________\n",
      "attention_layer (AdditiveAttent (None, None, 256)    256         lstm_3[0][0]                     \n",
      "                                                                 lstm_2[0][0]                     \n",
      "__________________________________________________________________________________________________\n",
      "concat_layer (Concatenate)      (None, None, 512)    0           lstm_3[0][0]                     \n",
      "                                                                 attention_layer[0][0]            \n",
      "__________________________________________________________________________________________________\n",
      "dense (Dense)                   (None, None, 8000)   4104000     concat_layer[0][0]               \n",
      "==================================================================================================\n",
      "Total params: 9,079,360\n",
      "Trainable params: 9,079,360\n",
      "Non-trainable params: 0\n",
      "__________________________________________________________________________________________________\n"
     ]
    }
   ],
   "source": [
    "from tensorflow.keras.layers import AdditiveAttention\n",
    "\n",
    "# 어텐션 층(어텐션 함수)\n",
    "attn_layer = AdditiveAttention(name='attention_layer')\n",
    "\n",
    "# 인코더와 디코더의 모든 time step의 hidden state를 어텐션 층에 전달하고 결과를 리턴\n",
    "attn_out = attn_layer([decoder_outputs, encoder_outputs])\n",
    "\n",
    "\n",
    "# 어텐션의 결과와 디코더의 hidden state들을 연결\n",
    "decoder_concat_input = Concatenate(axis=-1, name='concat_layer')([decoder_outputs, attn_out])\n",
    "\n",
    "# 디코더의 출력층\n",
    "decoder_softmax_layer = Dense(tar_vocab, activation='softmax')\n",
    "decoder_softmax_outputs = decoder_softmax_layer(decoder_concat_input)\n",
    "\n",
    "# 모델 정의\n",
    "model = Model([encoder_inputs, decoder_inputs], decoder_softmax_outputs)\n",
    "model.summary()"
   ]
  },
  {
   "cell_type": "markdown",
   "id": "55a75033",
   "metadata": {},
   "source": [
    "## 모델 훈련하기"
   ]
  },
  {
   "cell_type": "code",
   "execution_count": 37,
   "id": "ec172c58",
   "metadata": {},
   "outputs": [
    {
     "name": "stdout",
     "output_type": "stream",
     "text": [
      "Epoch 1/50\n",
      "269/269 [==============================] - 154s 542ms/step - loss: 5.8453 - val_loss: 5.4395\n",
      "Epoch 2/50\n",
      "269/269 [==============================] - 145s 541ms/step - loss: 5.2680 - val_loss: 5.0781\n",
      "Epoch 3/50\n",
      "269/269 [==============================] - 146s 543ms/step - loss: 4.9327 - val_loss: 4.7882\n",
      "Epoch 4/50\n",
      "269/269 [==============================] - 146s 541ms/step - loss: 4.6612 - val_loss: 4.6035\n",
      "Epoch 5/50\n",
      "269/269 [==============================] - 145s 541ms/step - loss: 4.4441 - val_loss: 4.4322\n",
      "Epoch 6/50\n",
      "269/269 [==============================] - 147s 548ms/step - loss: 4.2654 - val_loss: 4.3302\n",
      "Epoch 7/50\n",
      "269/269 [==============================] - 146s 541ms/step - loss: 4.1149 - val_loss: 4.2243\n",
      "Epoch 8/50\n",
      "269/269 [==============================] - 146s 544ms/step - loss: 3.9791 - val_loss: 4.1506\n",
      "Epoch 9/50\n",
      "269/269 [==============================] - 145s 539ms/step - loss: 3.8588 - val_loss: 4.0740\n",
      "Epoch 10/50\n",
      "269/269 [==============================] - 145s 541ms/step - loss: 3.7544 - val_loss: 4.0240\n",
      "Epoch 11/50\n",
      "269/269 [==============================] - 145s 541ms/step - loss: 3.6585 - val_loss: 3.9823\n",
      "Epoch 12/50\n",
      "269/269 [==============================] - 146s 542ms/step - loss: 3.5699 - val_loss: 3.9445\n",
      "Epoch 13/50\n",
      "269/269 [==============================] - 145s 541ms/step - loss: 3.4906 - val_loss: 3.9036\n",
      "Epoch 14/50\n",
      "269/269 [==============================] - 145s 540ms/step - loss: 3.4175 - val_loss: 3.8796\n",
      "Epoch 15/50\n",
      "269/269 [==============================] - 145s 540ms/step - loss: 3.3497 - val_loss: 3.8575\n",
      "Epoch 16/50\n",
      "269/269 [==============================] - 146s 541ms/step - loss: 3.2865 - val_loss: 3.8414\n",
      "Epoch 17/50\n",
      "269/269 [==============================] - 145s 540ms/step - loss: 3.2277 - val_loss: 3.8348\n",
      "Epoch 18/50\n",
      "269/269 [==============================] - 145s 539ms/step - loss: 3.1729 - val_loss: 3.8161\n",
      "Epoch 19/50\n",
      "269/269 [==============================] - 146s 541ms/step - loss: 3.1230 - val_loss: 3.8043\n",
      "Epoch 20/50\n",
      "269/269 [==============================] - 145s 538ms/step - loss: 3.0751 - val_loss: 3.7943\n",
      "Epoch 21/50\n",
      "269/269 [==============================] - 145s 538ms/step - loss: 3.0298 - val_loss: 3.7843\n",
      "Epoch 22/50\n",
      "269/269 [==============================] - 145s 540ms/step - loss: 2.9841 - val_loss: 3.7850\n",
      "Epoch 23/50\n",
      "269/269 [==============================] - 145s 539ms/step - loss: 2.9445 - val_loss: 3.7768\n",
      "Epoch 24/50\n",
      "269/269 [==============================] - 145s 540ms/step - loss: 2.9071 - val_loss: 3.7743\n",
      "Epoch 25/50\n",
      "269/269 [==============================] - 145s 540ms/step - loss: 2.8719 - val_loss: 3.7894\n",
      "Epoch 26/50\n",
      "269/269 [==============================] - 146s 541ms/step - loss: 2.8362 - val_loss: 3.7724\n",
      "Epoch 27/50\n",
      "269/269 [==============================] - 145s 540ms/step - loss: 2.8021 - val_loss: 3.7753\n",
      "Epoch 28/50\n",
      "269/269 [==============================] - 145s 537ms/step - loss: 2.7689 - val_loss: 3.7823\n",
      "Epoch 00028: early stopping\n"
     ]
    }
   ],
   "source": [
    "model.compile(optimizer='rmsprop', loss='sparse_categorical_crossentropy')\n",
    "es = EarlyStopping(monitor='val_loss', patience=2, verbose=1)\n",
    "history = model.fit(x=[encoder_input_train, decoder_input_train], y=decoder_target_train, \\\n",
    "          validation_data=([encoder_input_test, decoder_input_test], decoder_target_test), \\\n",
    "          batch_size=256, callbacks=[es], epochs=50)"
   ]
  },
  {
   "cell_type": "code",
   "execution_count": 38,
   "id": "57770da8",
   "metadata": {},
   "outputs": [
    {
     "data": {
      "image/png": "[encoded data removed]",
      "text/plain": [
       "<Figure size 432x288 with 1 Axes>"
      ]
     },
     "metadata": {
      "needs_background": "light"
     },
     "output_type": "display_data"
    }
   ],
   "source": [
    "# loss와 val_loss 시각화\n",
    "plt.plot(history.history['loss'], label='train')\n",
    "plt.plot(history.history['val_loss'], label='test')\n",
    "plt.legend()\n",
    "plt.show()"
   ]
  },
  {
   "cell_type": "markdown",
   "id": "ff727cd3",
   "metadata": {},
   "source": [
    "모델 학습은 안정적으로 수렴한 것을 확인할 수 있다. 오버피팅이 일어난 것으로 보아 성능이 떨어질 수도 있겠다는 생각이 든다. "
   ]
  },
  {
   "cell_type": "markdown",
   "id": "64652a96",
   "metadata": {},
   "source": [
    "## 인프런스 모델 구현"
   ]
  },
  {
   "cell_type": "code",
   "execution_count": 39,
   "id": "42048f92",
   "metadata": {},
   "outputs": [],
   "source": [
    "# 사전 생성\n",
    "src_index_to_word = src_tokenizer.index_word # 원문 단어 집합에서 정수 -> 단어를 얻음\n",
    "tar_word_to_index = tar_tokenizer.word_index # 요약 단어 집합에서 단어 -> 정수를 얻음\n",
    "tar_index_to_word = tar_tokenizer.index_word # 요약 단어 집합에서 정수 -> 단어를 얻음"
   ]
  },
  {
   "cell_type": "code",
   "execution_count": 40,
   "id": "c06e36d2",
   "metadata": {},
   "outputs": [],
   "source": [
    "# 인코더 설계\n",
    "encoder_model = Model(inputs=encoder_inputs, outputs=[encoder_outputs, state_h, state_c])\n",
    "\n",
    "# 이전 시점의 상태들을 저장하는 텐서\n",
    "decoder_state_input_h = Input(shape=(hidden_size,))\n",
    "decoder_state_input_c = Input(shape=(hidden_size,))\n",
    "\n",
    "dec_emb2 = dec_emb_layer(decoder_inputs)\n",
    "\n",
    "# 문장의 다음 단어를 예측하기 위해서 초기 상태(initial_state)를 이전 시점의 상태로 사용. 이는 뒤의 함수 decode_sequence()에 구현\n",
    "# 훈련 과정에서와 달리 LSTM의 리턴하는 은닉 상태와 셀 상태인 state_h와 state_c를 버리지 않음.\n",
    "decoder_outputs2, state_h2, state_c2 = decoder_lstm(dec_emb2, initial_state=[decoder_state_input_h, decoder_state_input_c])\n"
   ]
  },
  {
   "cell_type": "code",
   "execution_count": 41,
   "id": "673e28ef",
   "metadata": {},
   "outputs": [],
   "source": [
    "# 어텐션 함수\n",
    "decoder_hidden_state_input = Input(shape=(text_max_len, hidden_size))\n",
    "attn_out_inf = attn_layer([decoder_outputs2, decoder_hidden_state_input])\n",
    "decoder_inf_concat = Concatenate(axis=-1, name='concat')([decoder_outputs2, attn_out_inf])\n",
    "\n",
    "# 디코더의 출력층\n",
    "decoder_outputs2 = decoder_softmax_layer(decoder_inf_concat) \n",
    "\n",
    "# 최종 디코더 모델\n",
    "decoder_model = Model(\n",
    "    [decoder_inputs] + [decoder_hidden_state_input,decoder_state_input_h, decoder_state_input_c],\n",
    "    [decoder_outputs2] + [state_h2, state_c2])\n"
   ]
  },
  {
   "cell_type": "code",
   "execution_count": 42,
   "id": "919f6879",
   "metadata": {},
   "outputs": [],
   "source": [
    "def decode_sequence(input_seq):\n",
    "    # 입력으로부터 인코더의 상태를 얻음\n",
    "    e_out, e_h, e_c = encoder_model.predict(input_seq)\n",
    "\n",
    "     # <SOS>에 해당하는 토큰 생성\n",
    "    target_seq = np.zeros((1,1))\n",
    "    target_seq[0, 0] = tar_word_to_index['sostoken']\n",
    "\n",
    "    stop_condition = False\n",
    "    decoded_sentence = ''\n",
    "    while not stop_condition: # stop_condition이 True가 될 때까지 루프 반복\n",
    "\n",
    "        output_tokens, h, c = decoder_model.predict([target_seq] + [e_out, e_h, e_c])\n",
    "        sampled_token_index = np.argmax(output_tokens[0, -1, :])\n",
    "        sampled_token = tar_index_to_word[sampled_token_index]\n",
    "\n",
    "        if (sampled_token!='eostoken'):\n",
    "            decoded_sentence += ' '+sampled_token\n",
    "\n",
    "        #  <eos>에 도달하거나 최대 길이를 넘으면 중단.\n",
    "        if (sampled_token == 'eostoken'  or len(decoded_sentence.split()) >= (summary_max_len-1)):\n",
    "            stop_condition = True\n",
    "\n",
    "        # 길이가 1인 타겟 시퀀스를 업데이트\n",
    "        target_seq = np.zeros((1,1))\n",
    "        target_seq[0, 0] = sampled_token_index\n",
    "\n",
    "        # 상태를 업데이트 합니다.\n",
    "        e_h, e_c = h, c\n",
    "\n",
    "    return decoded_sentence"
   ]
  },
  {
   "cell_type": "code",
   "execution_count": 43,
   "id": "c735ac43",
   "metadata": {},
   "outputs": [
    {
     "name": "stdout",
     "output_type": "stream",
     "text": [
      "=3\n"
     ]
    }
   ],
   "source": [
    "# 원문의 정수 시퀀스를 텍스트 시퀀스로 변환\n",
    "def seq2text(input_seq):\n",
    "    temp=''\n",
    "    for i in input_seq:\n",
    "        if (i!=0):\n",
    "            temp = temp + src_index_to_word[i]+' '\n",
    "    return temp\n",
    "\n",
    "# 요약문의 정수 시퀀스를 텍스트 시퀀스로 변환\n",
    "def seq2summary(input_seq):\n",
    "    temp=''\n",
    "    for i in input_seq:\n",
    "        if ((i!=0 and i!=tar_word_to_index['sostoken']) and i!=tar_word_to_index['eostoken']):\n",
    "            temp = temp + tar_index_to_word[i] + ' '\n",
    "    return temp\n",
    "\n",
    "print('=3')"
   ]
  },
  {
   "cell_type": "code",
   "execution_count": 44,
   "id": "b910c3d5",
   "metadata": {},
   "outputs": [
    {
     "name": "stdout",
     "output_type": "stream",
     "text": [
      "원문 : amazon reportedly stop selling strategy around items cannot realise profit internally called crap items like bottled water snacks typically cost less expensive ship amazon eliminate items work manufacturers vendors certain items increase profitability \n",
      "실제 요약 : amazon may stop sale of items \n",
      "예측 요약 :  amazon to sell stake in selling clothes\n",
      "\n",
      "\n",
      "원문 : per reports katrina kaif star opposite actor sidharth malhotra kargil martyr captain vikram batra biopic tentatively titled sher shah second time sidharth katrina seen together film dekho film directed vishnu produced karan johar dharma productions \n",
      "실제 요약 : katrina in sidharth starrer kargil martyr biopic report \n",
      "예측 요약 :  katrina to star opposite katrina in upcoming film report\n",
      "\n",
      "\n",
      "원문 : salman khan hum saath saath hain co star filed police complaint community alleging received death threats supporting salman blackbuck poaching case instead salman made work community said even hunters said \n",
      "실제 요약 : salman co star files fir against over death threats \n",
      "예측 요약 :  salman khan brother in law aayush\n",
      "\n",
      "\n",
      "원문 : flood alert issued jammu kashmir water levels river crossed danger mark following heavy rains last two days schools remained closed across kashmir saturday precautionary measure flood alert three deaths reported jammu region \n",
      "실제 요약 : flood alert in after river crosses danger mark \n",
      "예측 요약 :  flood warning issued against kerala floods\n",
      "\n",
      "\n",
      "원문 : google investing million chinese commerce firm jd com jack led alibaba chinese market joint announcement companies said would collaborate google shopping platform retail solutions europe us southeast asia valued billion jd com includes tiger global management capital today investors \n",
      "실제 요약 : google to invest million in alibaba rival jd com \n",
      "예측 요약 :  google parent to invest billion in china\n",
      "\n",
      "\n",
      "원문 : karnataka high court ruled cap prices movie tickets state applicable weekends state holidays state government earlier capped prices movie tickets theatres including multiplexes multiplexes claimed prices film industry interests \n",
      "실제 요약 : no cap on movie tickets on in taka rules hc \n",
      "예측 요약 :  supreme court to hike on cigarettes\n",
      "\n",
      "\n",
      "원문 : according reports salman khan rekha share screen space gap years film deewana phir se reportedly feature together song recreated version dekho meri hai last seen together film biwi ho \n",
      "실제 요약 : salman rekha to share screen space after years reports \n",
      "예측 요약 :  salman khan to launch salman khan in upcoming film report\n",
      "\n",
      "\n",
      "원문 : virat kohli host charity ball london june table cost around event held raise funds charitable causes india attended members indian cricket team lakh package includes player sharing table guests \n",
      "실제 요약 : one table at virat kohli charity ball to cost lakh \n",
      "예측 요약 :  kohli to marry rcb players in football match reports\n",
      "\n",
      "\n",
      "원문 : cash strapped faraday future confirmed electric car startup cutting employees salaries firing others startup ceo jia yueting reduce annual salary faraday future explained email comes electric carmaker accused trying back billion deal china health \n",
      "실제 요약 : cash strapped future confirms wage cuts \n",
      "예측 요약 :  ola buys stake in gurugram car startup\n",
      "\n",
      "\n",
      "원문 : delhi cabinet monday approved government jobs sportspersons city respective fields rules notified within one month delhi chief minister arvind kejriwal tweeted earlier august delhi cabinet increased cash incentive sportspersons achievements olympics asian games commonwealth games \n",
      "실제 요약 : delhi approves government jobs for from delhi \n",
      "예측 요약 :  delhi cabinet approves hike for delhi metro\n",
      "\n",
      "\n",
      "원문 : russian belly dancers called perform alumni function government run lala rai medical college uttar pradesh meerut tuesday pictures showing liquor stored event ambulance van also surfaced online claiming unaware incident college authorities said investigation ordered incident \n",
      "실제 요약 : perform liquor in ambulance at doctors meet \n",
      "예측 요약 :  russian actress putin plays toilet at school during protest\n",
      "\n",
      "\n",
      "원문 : icc chairman shashank manohar deferred resignation continue remain post board announced friday manohar delayed departure resolution passed icc board requesting stay till ongoing governance financial restructuring process complete reportedly remain chairman till icc annual conference june \n",
      "실제 요약 : manohar resignation to remain icc chairman \n",
      "예측 요약 :  bcci chairman singh resigns from bcci\n",
      "\n",
      "\n",
      "원문 : joint venture three companies working london projects fined combined million three failures one incident led construction worker death tonne wet concrete poured onto another worker struck suffered fractures right leg \n",
      "실제 요약 : uk firms fined cr as wet concrete caused worker death \n",
      "예측 요약 :  uk to pay crore to save crore\n",
      "\n",
      "\n",
      "원문 : filmmaker ram gopal varma tweeted actor run away tiger shroff challenges hand hand kick kick fight real super sure never guts take challenge added rgv later said jokes apart greatest screen fighter \n",
      "실제 요약 : will run away if tiger challenges him for fight rgv \n",
      "예측 요약 :  rgv responds to kick on his birthday\n",
      "\n",
      "\n",
      "원문 : search giant google named attractive employer business students across world global global talent career expectations research firm goldman sachs apple ranked second third attractive employers respectively young pwc deloitte microsoft ranked among top employers \n",
      "실제 요약 : google named most employer for business students \n",
      "예측 요약 :  google named world most valuable google at google\n",
      "\n",
      "\n",
      "원문 : mumbai police monday tweeted picture map reference harry potter books message public regarding safety tweet posted occasion th anniversary publication harry potter philosopher stone first book series \n",
      "실제 요약 : mumbai police use harry potter reference in its safety \n",
      "예측 요약 :  mumbai police uses picture of thrones reference to promote helmet\n",
      "\n",
      "\n",
      "원문 : buying rounder yuvraj singh base price crore ipl auction mumbai indians owner akash ambani said saving yuvraj singh career always wanted yuvraj never opportunity purse got price added \n",
      "실제 요약 : we are not saving yuvraj career always wanted him mumbai indians \n",
      "예측 요약 :  yuvraj singh yuvraj singh yuvraj singh\n",
      "\n",
      "\n",
      "원문 : congress leader kapil sibal saturday said supreme court verdict rafale deal based criticised centre stating centre submitted wrong facts apex court attorney general held responsible comes government filed affidavit sc seeking verdict \n",
      "실제 요약 : sc verdict on rafale deal based on mistakes sibal \n",
      "예측 요약 :  sc verdict on rafale deal to make congress\n",
      "\n",
      "\n",
      "원문 : american couple year old larry year old smith got married sunday supermarket first met years ago smith said working supermarket walked gave phone number meanwhile owner supermarket said glad accommodate couple \n",
      "실제 요약 : us couple gets married in supermarket where they first met \n",
      "예측 요약 :  couple gets years after live streaming live in us\n",
      "\n",
      "\n",
      "원문 : yemen houthi rebels seized full control country capital past week detained media staff press said wednesday rebels recently killed yemen former president ali abdullah civil war alliance group aligned forces saudi arabia \n",
      "실제 요약 : yemen rebels holding more than media staff \n",
      "예측 요약 :  afghan air force to return to bomb blast in yemen\n",
      "\n",
      "\n",
      "원문 : rani mukerji said talk work husband filmmaker aditya chopra asks cast films adding tell make next baby conversation adi love added rani said took break acting \n",
      "실제 요약 : aditya and talk about having our nd baby not films rani \n",
      "예측 요약 :  if rani has been rani on rani rani\n",
      "\n",
      "\n",
      "원문 : year old boy died setting fire hyderabad trying actions cartoon character tv show boy saw cartoon character laughing burning flames went terrace suffered burn injuries later succumbed injuries \n",
      "실제 요약 : yr old sets himself on fire trying to cartoon \n",
      "예측 요약 :  teen dies while trying to kill him on fire\n",
      "\n",
      "\n",
      "원문 : goa manch contested six seats total votes alleged tampering electronic voting machines assembly elections votes candidates less unexpected low response candidates expected president anand said earlier mayawati raised doubts evms \n",
      "실제 요약 : after mayawati party alleges evm in elections \n",
      "예측 요약 :  gujarat assembly polls to be held in assembly elections\n",
      "\n",
      "\n",
      "원문 : australian government announced million innovation challenge aimed combating threats faced great barrier reef supports around jobs open invitation greatest scientific minds develop innovative solutions protect encourage recovery damaged said federal environment minister josh \n",
      "실제 요약 : australia offers million to save the great barrier reef \n",
      "예측 요약 :  isro to send million to promote\n",
      "\n",
      "\n",
      "원문 : three constitution benches sit summer vacation supreme court help reduce number pending cases chief justice js khehar said today also requested judges consider sitting courts five days vacation clear least cases day bring \n",
      "실제 요약 : constitution to sit during sc summer vacation \n",
      "예측 요약 :  sc to review section on section\n",
      "\n",
      "\n",
      "원문 : flipkart co founder group ceo binny bansal interview recalled commerce startup got name said sachin said letters available less added spent hours domain names thought flipkart way cooler said \n",
      "실제 요약 : flipkart group ceo reveals how the startup got its name \n",
      "예측 요약 :  flipkart is the flipkart ceo\n",
      "\n",
      "\n",
      "원문 : naked statue us president donald trump bought auction among several statues appeared public spaces los angeles san francisco new york seattle cleveland titled emperor balls hans christian emperor new clothes \n",
      "실제 요약 : naked statue of donald trump lakh at auction \n",
      "예측 요약 :  trump offers crore for painting at hotel\n",
      "\n",
      "\n",
      "원문 : singer rihanna shared picture wearing crystal covered face well sharing another picture outfit instagram rihanna wrote cannot go home yet enough people seen outfit wore outfit without covering face valley music arts festival \n",
      "실제 요약 : rihanna wears outfit her face \n",
      "예측 요약 :  shares pic with rumoured girlfriend\n",
      "\n",
      "\n",
      "원문 : following india win australia dharamsala test former australian pacer mitchell johnson said ajinkya rahane continue india captain instead virat kohli rahane stay captain tough series believe stay field players johnson tweeted response article shared cricket australia regarding kohli \n",
      "실제 요약 : rahane should continue as india captain johnson \n",
      "예측 요약 :  aus media should have been more than kohli\n",
      "\n",
      "\n",
      "원문 : former president arrested monday near miami united states panama made extradition request accused illegally spying political opponents panama supreme court ordered arrest claimed allegations politically motivated left panama days corruption probe launched \n",
      "실제 요약 : panama former president arrested in united states \n",
      "예측 요약 :  ex prez arrests former nissan chief arrested over corruption\n",
      "\n",
      "\n",
      "원문 : footballers jersey number scored combined goals fifa world cup shirt number france year old forward kylian mbapp scored goals among players jersey number players jersey number nine scored combined goals players jersey number seven \n",
      "실제 요약 : jersey no players scored most goals at fifa wc \n",
      "예측 요약 :  wc winning captain scores his own wc final game\n",
      "\n",
      "\n",
      "원문 : steve smith david warner stepped australia captain vice captain respectively remaining two days third south africa test ball tampering incident smith earlier stated would step replaced tim paine test comes australian government called smith immediate \n",
      "실제 요약 : smith resigns as aus captain for of rd sa test \n",
      "예측 요약 :  steve smith warner steps down as aus captain steve smith\n",
      "\n",
      "\n",
      "원문 : million year old fossil described best preserved armoured dinosaur ever found unveiled canada royal museum six years accidental discovery fossil found plant eating species believed well preserved carried flood engulfed mud shortly died said researchers \n",
      "실제 요약 : best dinosaur fossil goes on display in canada \n",
      "예측 요약 :  million year old dinosaur fossil found in dinosaur era\n",
      "\n",
      "\n",
      "원문 : renault thursday said appointed tyre giant michelin ceo jean new chairman ceo represent renault alliance japanese carmakers nissan french automaker added comes carlos ghosn jailed tokyo resigned chairman ceo renault \n",
      "실제 요약 : renault names michelin head as chairman as ceo \n",
      "예측 요약 :  ceo quits as ceo quits as ceo\n",
      "\n",
      "\n",
      "원문 : supreme court monday extended house arrest five activists arrested connection bhima koregaon violence alleged maoist links till september centre produce case diary evidence day every criminal investigation based allegations see whether material said bench nn \n",
      "실제 요약 : sc extends house arrest of activists in bhima koregaon case \n",
      "예측 요약 :  sc extends arrest of activists in bhima koregaon violence\n",
      "\n",
      "\n",
      "원문 : iraq moved wives islamic state militants detention centre preparation deport officials said women captured along children mosul former isis stronghold captured iraqi forces july iraqi security officials said women children held different nationalities \n",
      "실제 요약 : iraq to deport wives of isis militants \n",
      "예측 요약 :  iraq iraq iraq militants to fight over al qaeda\n",
      "\n",
      "\n",
      "원문 : stand comedian biswa kalyan rath wrote facebook post suicide failure biswa wrote feel like failure happy life said despite manage get campus placement even though iits near placement rate depressed years \n",
      "실제 요약 : stand up comedian writes facebook post against suicide \n",
      "예측 요약 :  am not giving dead facebook on rumour of rape\n",
      "\n",
      "\n",
      "원문 : match rogers thursday lasted three hours minutes setting record longest women singles match us open history rogers defeated second round match previous record three hours minutes defeated \n",
      "실제 요약 : longest us open women match for over hrs min \n",
      "예측 요약 :  man scores in rd straight match in seconds\n",
      "\n",
      "\n",
      "원문 : haryana government told punjab haryana high court family junaid khan sought crore acres land settle case family however dismissed government claims rumours attempt put pressure fifteen year old junaid lynched mob onboard train june \n",
      "실제 요약 : family wants cr land to settle case yana govt \n",
      "예측 요약 :  punjab hc issues notice to crore for crore\n",
      "\n",
      "\n",
      "원문 : brihanmumbai municipal corporation garden department decided build city biggest sports complex proposed bmc sports complex lawn tennis court cricket football grounds basketball volleyball courts along open gym complex expected ready open public civic officials said \n",
      "실제 요약 : mumbai to get its biggest sports complex in \n",
      "예측 요약 :  mumbai civic body to get football station in mumbai\n",
      "\n",
      "\n",
      "원문 : environment ministry approved felling trees construction integrated exhibition cum convention centre delhi maidan ministry mandated least one tree planted every square metres land area notably online petition launched earlier month protesting felling trees \n",
      "실제 요약 : environment ministry approves of trees in delhi \n",
      "예측 요약 :  ngt approves construction of trees in delhi\n",
      "\n",
      "\n",
      "원문 : chinese president xi jinping ordered people liberation army large military units prepare combat give priority building new type fighting capabilities electronic information space warfare comes china counter us deployment south korea considers threat capable breaking region strategic \n",
      "실제 요약 : chinese president xi jinping orders army to be combat ready \n",
      "예측 요약 :  china launches military drill for military drill\n",
      "\n",
      "\n",
      "원문 : bomb world war ii found river saturday ahead annual oxford cambridge boat races held london sunday device spotted near bridge informed police races remain bomb still submerged water \n",
      "실제 요약 : world war ii bomb found at boat race venue \n",
      "예측 요약 :  kg of war found in north korea\n",
      "\n",
      "\n",
      "원문 : us blood testing startup ceo elizabeth agreed pay settle charges raised million fraudulently regulators said former president ramesh sunny made false statements company technology financial performance claimed developed device conducted blood tests drops \n",
      "실제 요약 : ceo charged with mn fraud fined \n",
      "예측 요약 :  us startup denies reports of its own ipo\n",
      "\n",
      "\n",
      "원문 : group terrorists barged residence special police officer mushtaq ahmed sheikh jammu kashmir anantnag district thursday shot sheikh succumbed injuries way hospital wife admitted hospital stated critical condition \n",
      "실제 요약 : cop dies after terrorists into his home shoot him \n",
      "예측 요약 :  officer who killed in encounter in jammu and kashmir\n",
      "\n",
      "\n",
      "원문 : bangladeshi origin suspect set bomb new york monday reportedly told investigators carried attack retaliation us air strikes isis targets syria elsewhere us authorities believe got self radicalised likely watching terror group propaganda internet \n",
      "실제 요약 : ny bomb attack in revenge of attacks on isis suspect \n",
      "예측 요약 :  indian american american american american shooter killed in us\n",
      "\n",
      "\n",
      "원문 : slamming us uk france missile strikes syria iranian supreme leader ayatollah ali khamenei said us president donald trump french counterpart emmanuel macron uk pm theresa may criminals claiming west would benefit strikes iran warned attacks would regional consequences \n",
      "실제 요약 : iran calls trump criminal slams western attack on syria \n",
      "예측 요약 :  us syria cannot trump warns trump over syria\n",
      "\n",
      "\n",
      "원문 : nasa hubble space telescope captured picture space showing cluster galaxies resembling smiling face explaining light two yellow nasa said galaxy light could passed massive object causing light image captured understand new stars born nasa added \n",
      "실제 요약 : nasa telescope captures face in space \n",
      "예측 요약 :  nasa shares image of space telescope\n",
      "\n",
      "\n",
      "원문 : government reportedly planning introduce mechanism identify fake medicines wherein required print unique digit code packages consumers able text code number check whether product genuine government plans initially build data bank medicine brands reports said \n",
      "실제 요약 : govt planning unique to identify fake medicines \n",
      "예측 요약 :  govt mulls fake news on fake news\n",
      "\n",
      "\n",
      "원문 : coai said reliance jio cited six year old affidavit trai support case scrapping call termination charges trying facts mislead people affidavit trai favoured bill keep model jio pressing however airtel vodafone idea want charges raised paise per minute paise \n",
      "실제 요약 : jio citing yr old affidavit to facts industry body \n",
      "예측 요약 :  jio idea not reliance jio jio jio\n",
      "\n",
      "\n"
     ]
    }
   ],
   "source": [
    "for i in range(50, 100):\n",
    "    print(\"원문 :\", seq2text(encoder_input_test[i]))\n",
    "    print(\"실제 요약 :\", seq2summary(decoder_input_test[i]))\n",
    "    print(\"예측 요약 :\", decode_sequence(encoder_input_test[i].reshape(1, text_max_len)))\n",
    "    print(\"\\n\")"
   ]
  },
  {
   "cell_type": "markdown",
   "id": "b4224973",
   "metadata": {},
   "source": [
    "모델은 분명 학습이 잘 된 것으로 나오지만 실제로 요약한 내용을 보면 좀 이상한 것 같다. 같은 단어들이 반복적으로 나오는 것을 확인할 수 있고, 가끔 어뚱한 내용이 나오기도 한다. 문장 길이와 단어 수를 조정해보며 실험을 해보았지만 크게 나아지지 않았는데, 결국 좋지 못한 성능의 원인은 잘 모르겠다. "
   ]
  },
  {
   "cell_type": "markdown",
   "id": "b1ff03a8",
   "metadata": {},
   "source": [
    "# 2. 추출적 요약\n",
    "본문에서 내용을 그대로 추출하여 요약하는 방식으로 진행한다. "
   ]
  },
  {
   "cell_type": "code",
   "execution_count": 45,
   "id": "5aced239",
   "metadata": {},
   "outputs": [],
   "source": [
    "import requests\n",
    "from summa.summarizer import summarize"
   ]
  },
  {
   "cell_type": "code",
   "execution_count": 46,
   "id": "517cbd90",
   "metadata": {},
   "outputs": [
    {
     "data": {
      "text/plain": [
       "0    Saurav Kant, an alumnus of upGrad and IIIT-B's...\n",
       "2    New Zealand defeated India by 8 wickets in the...\n",
       "3    With Aegon Life iTerm Insurance plan, customer...\n",
       "5    Pakistani singer Rahat Fateh Ali Khan has deni...\n",
       "7    Weeks after ex-CBI Director Alok Verma told th...\n",
       "Name: Text, dtype: object"
      ]
     },
     "execution_count": 46,
     "metadata": {},
     "output_type": "execute_result"
    }
   ],
   "source": [
    "text = data['Text']\n",
    "text.head()"
   ]
  },
  {
   "cell_type": "code",
   "execution_count": 47,
   "id": "d2ade530",
   "metadata": {},
   "outputs": [
    {
     "name": "stdout",
     "output_type": "stream",
     "text": [
      "# of sentences: 4\n",
      "# of words: 60\n"
     ]
    }
   ],
   "source": [
    "example = text[0].split(\".\")\n",
    "print(\"# of sentences:\", len(example))\n",
    "example = text[0].split(\" \")\n",
    "print(\"# of words:\", len(example))"
   ]
  },
  {
   "cell_type": "code",
   "execution_count": 48,
   "id": "8f0aea3d",
   "metadata": {},
   "outputs": [
    {
     "data": {
      "text/plain": [
       "\"Saurav Kant, an alumnus of upGrad and IIIT-B's PG Program in Machine learning and Artificial Intelligence, was a Sr Systems Engineer at Infosys with almost 5 years of work experience. The program and upGrad's 360-degree career support helped him transition to a Data Scientist at Tech Mahindra with 90% salary hike. upGrad's Online Power Learning has powered 3 lakh+ careers.\""
      ]
     },
     "execution_count": 48,
     "metadata": {},
     "output_type": "execute_result"
    }
   ],
   "source": [
    "text[0]"
   ]
  },
  {
   "cell_type": "code",
   "execution_count": 49,
   "id": "5e5ede96",
   "metadata": {},
   "outputs": [
    {
     "name": "stdout",
     "output_type": "stream",
     "text": [
      "Summary:\n",
      "The program and upGrad's 360-degree career support helped him transition to a Data Scientist at Tech Mahindra with 90% salary hike.\n",
      "upGrad's Online Power Learning has powered 3 lakh+ careers.\n"
     ]
    }
   ],
   "source": [
    "print('Summary:')\n",
    "print(summarize(text[0], words = 20))"
   ]
  },
  {
   "cell_type": "code",
   "execution_count": 50,
   "id": "f8748f23",
   "metadata": {},
   "outputs": [
    {
     "data": {
      "text/html": [
       "<div>\n",
       "<style scoped>\n",
       "    .dataframe tbody tr th:only-of-type {\n",
       "        vertical-align: middle;\n",
       "    }\n",
       "\n",
       "    .dataframe tbody tr th {\n",
       "        vertical-align: top;\n",
       "    }\n",
       "\n",
       "    .dataframe thead th {\n",
       "        text-align: right;\n",
       "    }\n",
       "</style>\n",
       "<table border=\"1\" class=\"dataframe\">\n",
       "  <thead>\n",
       "    <tr style=\"text-align: right;\">\n",
       "      <th></th>\n",
       "      <th>Summary</th>\n",
       "      <th>Text</th>\n",
       "      <th>clean_Text</th>\n",
       "      <th>clean_Summary</th>\n",
       "      <th>decoder_input</th>\n",
       "      <th>decoder_target</th>\n",
       "      <th>Extractive Summarization</th>\n",
       "    </tr>\n",
       "  </thead>\n",
       "  <tbody>\n",
       "    <tr>\n",
       "      <th>0</th>\n",
       "      <td>upGrad learner switches to career in ML &amp; Al w...</td>\n",
       "      <td>Saurav Kant, an alumnus of upGrad and IIIT-B's...</td>\n",
       "      <td>saurav kant alumnus upgrad iiit pg program mac...</td>\n",
       "      <td>upgrad learner switches to career in ml al wit...</td>\n",
       "      <td>sostoken upgrad learner switches to career in ...</td>\n",
       "      <td>upgrad learner switches to career in ml al wit...</td>\n",
       "      <td>The program and upGrad's 360-degree career sup...</td>\n",
       "    </tr>\n",
       "    <tr>\n",
       "      <th>2</th>\n",
       "      <td>New Zealand end Rohit Sharma-led India's 12-ma...</td>\n",
       "      <td>New Zealand defeated India by 8 wickets in the...</td>\n",
       "      <td>new zealand defeated india wickets fourth odi ...</td>\n",
       "      <td>new zealand end rohit sharma led india match w...</td>\n",
       "      <td>sostoken new zealand end rohit sharma led indi...</td>\n",
       "      <td>new zealand end rohit sharma led india match w...</td>\n",
       "      <td>The match witnessed India getting all out for ...</td>\n",
       "    </tr>\n",
       "    <tr>\n",
       "      <th>3</th>\n",
       "      <td>Aegon life iTerm insurance plan helps customer...</td>\n",
       "      <td>With Aegon Life iTerm Insurance plan, customer...</td>\n",
       "      <td>aegon life iterm insurance plan customers enjo...</td>\n",
       "      <td>aegon life iterm insurance plan helps customer...</td>\n",
       "      <td>sostoken aegon life iterm insurance plan helps...</td>\n",
       "      <td>aegon life iterm insurance plan helps customer...</td>\n",
       "      <td>Also, customers have options to insure against...</td>\n",
       "    </tr>\n",
       "    <tr>\n",
       "      <th>5</th>\n",
       "      <td>Rahat Fateh Ali Khan denies getting notice for...</td>\n",
       "      <td>Pakistani singer Rahat Fateh Ali Khan has deni...</td>\n",
       "      <td>pakistani singer rahat fateh ali khan denied r...</td>\n",
       "      <td>rahat fateh ali khan denies getting notice for...</td>\n",
       "      <td>sostoken rahat fateh ali khan denies getting n...</td>\n",
       "      <td>rahat fateh ali khan denies getting notice for...</td>\n",
       "      <td>Pakistani singer Rahat Fateh Ali Khan has deni...</td>\n",
       "    </tr>\n",
       "    <tr>\n",
       "      <th>7</th>\n",
       "      <td>Govt directs Alok Verma to join work 1 day bef...</td>\n",
       "      <td>Weeks after ex-CBI Director Alok Verma told th...</td>\n",
       "      <td>weeks ex cbi director alok verma told departme...</td>\n",
       "      <td>govt directs alok verma to join work day befor...</td>\n",
       "      <td>sostoken govt directs alok verma to join work ...</td>\n",
       "      <td>govt directs alok verma to join work day befor...</td>\n",
       "      <td>Weeks after ex-CBI Director Alok Verma told th...</td>\n",
       "    </tr>\n",
       "  </tbody>\n",
       "</table>\n",
       "</div>"
      ],
      "text/plain": [
       "                                             Summary  \\\n",
       "0  upGrad learner switches to career in ML & Al w...   \n",
       "2  New Zealand end Rohit Sharma-led India's 12-ma...   \n",
       "3  Aegon life iTerm insurance plan helps customer...   \n",
       "5  Rahat Fateh Ali Khan denies getting notice for...   \n",
       "7  Govt directs Alok Verma to join work 1 day bef...   \n",
       "\n",
       "                                                Text  \\\n",
       "0  Saurav Kant, an alumnus of upGrad and IIIT-B's...   \n",
       "2  New Zealand defeated India by 8 wickets in the...   \n",
       "3  With Aegon Life iTerm Insurance plan, customer...   \n",
       "5  Pakistani singer Rahat Fateh Ali Khan has deni...   \n",
       "7  Weeks after ex-CBI Director Alok Verma told th...   \n",
       "\n",
       "                                          clean_Text  \\\n",
       "0  saurav kant alumnus upgrad iiit pg program mac...   \n",
       "2  new zealand defeated india wickets fourth odi ...   \n",
       "3  aegon life iterm insurance plan customers enjo...   \n",
       "5  pakistani singer rahat fateh ali khan denied r...   \n",
       "7  weeks ex cbi director alok verma told departme...   \n",
       "\n",
       "                                       clean_Summary  \\\n",
       "0  upgrad learner switches to career in ml al wit...   \n",
       "2  new zealand end rohit sharma led india match w...   \n",
       "3  aegon life iterm insurance plan helps customer...   \n",
       "5  rahat fateh ali khan denies getting notice for...   \n",
       "7  govt directs alok verma to join work day befor...   \n",
       "\n",
       "                                       decoder_input  \\\n",
       "0  sostoken upgrad learner switches to career in ...   \n",
       "2  sostoken new zealand end rohit sharma led indi...   \n",
       "3  sostoken aegon life iterm insurance plan helps...   \n",
       "5  sostoken rahat fateh ali khan denies getting n...   \n",
       "7  sostoken govt directs alok verma to join work ...   \n",
       "\n",
       "                                      decoder_target  \\\n",
       "0  upgrad learner switches to career in ml al wit...   \n",
       "2  new zealand end rohit sharma led india match w...   \n",
       "3  aegon life iterm insurance plan helps customer...   \n",
       "5  rahat fateh ali khan denies getting notice for...   \n",
       "7  govt directs alok verma to join work day befor...   \n",
       "\n",
       "                            Extractive Summarization  \n",
       "0  The program and upGrad's 360-degree career sup...  \n",
       "2  The match witnessed India getting all out for ...  \n",
       "3  Also, customers have options to insure against...  \n",
       "5  Pakistani singer Rahat Fateh Ali Khan has deni...  \n",
       "7  Weeks after ex-CBI Director Alok Verma told th...  "
      ]
     },
     "execution_count": 50,
     "metadata": {},
     "output_type": "execute_result"
    }
   ],
   "source": [
    "data[\"Extractive Summarization\"] = data['Text'].apply(summarize, args=(0.1, 20))\n",
    "data.head()"
   ]
  },
  {
   "cell_type": "code",
   "execution_count": 51,
   "id": "46ecb55b",
   "metadata": {},
   "outputs": [
    {
     "name": "stdout",
     "output_type": "stream",
     "text": [
      "실제 요약: upGrad learner switches to career in ML & Al with 90% salary hike\n",
      "예측 요약: The program and upGrad's 360-degree career support helped him transition to a Data Scientist at Tech Mahindra with 90% salary hike.\n",
      "upGrad's Online Power Learning has powered 3 lakh+ careers.\n",
      "\n",
      "실제 요약: New Zealand end Rohit Sharma-led India's 12-match winning streak\n",
      "예측 요약: The match witnessed India getting all out for 92, their seventh lowest total in ODI cricket history.\n",
      "\n",
      "실제 요약: Aegon life iTerm insurance plan helps customers save tax\n",
      "예측 요약: Also, customers have options to insure against Critical Illnesses, Disability and Accidental Death Benefit Rider with a life cover up to the age of 80 years.\n",
      "\n",
      "실제 요약: Rahat Fateh Ali Khan denies getting notice for smuggling currency\n",
      "예측 요약: Pakistani singer Rahat Fateh Ali Khan has denied receiving any notice from the Enforcement Directorate over allegedly smuggling foreign currency out of India.\n",
      "\n",
      "실제 요약: Govt directs Alok Verma to join work 1 day before his retirement\n",
      "예측 요약: Weeks after ex-CBI Director Alok Verma told the Department of Personnel and Training to consider him retired, the Home Ministry asked him to join work on the last day of his fixed tenure as Director on Thursday.\n",
      "\n",
      "실제 요약: Called PM Modi 'sir' 10 times to satisfy his ego: Andhra CM\n",
      "예측 요약: Andhra Pradesh CM N Chandrababu Naidu has said, \"When I met then US President Bill Clinton, I addressed him as Mr Clinton, not as 'sir'.\n",
      "\n",
      "실제 요약: Cong wins Ramgarh bypoll in Rajasthan, takes total to 100 seats\n",
      "예측 요약: Congress candidate Shafia Zubair won the Ramgarh Assembly seat in Rajasthan, by defeating BJP's Sukhwant Singh with a margin of 12,228 votes in the bypoll.\n",
      "\n",
      "실제 요약: UP cousins fed human excreta for friendship with boys\n",
      "예측 요약: Two minor cousins in Uttar Pradesh's Gorakhpur were allegedly repeatedly burnt with tongs and forced to eat human excreta by their family for being friends with two boys from the same school.\n",
      "\n",
      "실제 요약:  I only cried at my 'bidaai' as I felt peer pressure: Isha Ambani\n",
      "예측 요약: \"It was a very emotional affair for everyone in my family,\" said Isha.\n",
      "\n",
      "실제 요약: Louis Vuitton owner to stockpile 4 months of wine, spirits in UK\n",
      "예측 요약: Louis Vuitton owner LVMH, which makes high-end beverages like MoÃÂ«t & Chandon champagne and Hennessy cognac, said it's stockpiling four months' worth of wine and spirits in UK in preparation for Brexit.\n",
      "\n",
      "실제 요약: Karan Johar, Tabu turn showstoppers on opening night of LFW\n",
      "예측 요약: Filmmaker Karan Johar and actress Tabu turned showstoppers for Gaurav Gupta on the opening night of LakmÃÂ© Fashion Week Summer/ Resort 2019.\n",
      "\n",
      "실제 요약: How long can I tolerate Congress leaders' potshots: K'taka CM\n",
      "예측 요약: \n",
      "\n",
      "실제 요약: Odisha CM Patnaik controls mining mafia: Union Minister\n",
      "예측 요약: Union Minister Dharmendra Pradhan on Wednesday claimed the illegal mining mafia in Odisha operates under the control of CM Naveen Patnaik and state Congress chief Niranjan Patnaik.\n",
      "\n",
      "실제 요약: I think the opposition even dreams about me: PM Modi\n",
      "예측 요약: \n",
      "\n",
      "실제 요약: ISRO unveils Bengaluru centre for manned space mission \n",
      "예측 요약: It'll also pursue activities for sustained human space flight missions, ISRO added.\n",
      "\n",
      "실제 요약: 12 killed, 170 injured in Saudi Arabia floods\n",
      "예측 요약: At least 12 people have been killed and 170 others have been injured in Saudi Arabia this week due to flooding from heavy rain.\n",
      "\n",
      "실제 요약: Isha Ambani features on February cover of Vogue magazine\n",
      "예측 요약: Reliance Industries' Chairman Mukesh Ambani's daughter Isha Ambani has featured on the cover of the February edition of Vogue India.\n",
      "\n",
      "실제 요약: Indian Oil looking for annual deal to buy crude from US\n",
      "예측 요약: The US had in November granted a six-month waiver to India from sanctions against Iran and restricted the country's monthly intake of Iranian oil to 3,00,000 barrels per day.\n",
      "\n",
      "실제 요약: Pacer once took 7 wickets for just 1 run in 32 balls in a Test\n",
      "예측 요약: Ambrose's spell helped his team bowl out Australia for 119 in the first innings, after being 85 for 2 at one point.\n",
      "Ambrose ended with first-innings figures of 18-9-25-7.\n",
      "\n",
      "실제 요약: Rohit Sharma becomes 14th Indian cricketer to play 200 ODIs\n",
      "예측 요약: Rohit scored 7,799 runs in his first 199 ODIs at an average of 48.14.\n",
      "\n",
      "실제 요약: 19-year-old Shubman Gill becomes India's 227th ODI cricketer\n",
      "예측 요약: Notably, Shubman was named Player of the Under-19 World Cup in New Zealand last year.\n",
      "\n",
      "실제 요약: 2 seat cushions from 'missing plane carrying footballer' found\n",
      "예측 요약: Investigators searching for a lost plane carrying Argentine forward Emiliano Sala found two seat cushions on French coast that \"likely\" belonged to the aircraft.\n",
      "\n",
      "실제 요약: Italian coach knocks rival down with headbutt, banned for 5 months\n",
      "예측 요약: Italian third division football side Lucchese's head coach Giancarlo Favarin has been banned for five months for headbutting Alessandria's assistant coach Gaetano Mancino during a brawl following the teams' 2-2 draw on Sunday.\n",
      "\n",
      "실제 요약: Cyclists sleep on stadium floor instead of hotel over costly cycles\n",
      "예측 요약: Cyclists taking part in National Track Cycling Championship in Jaipur opted to sleep on the floor inside the stadium instead of hotels over expensive cycles.\n",
      "\n",
      "실제 요약: CM Parrikar under pressure from PM after our Goa meet: Rahul\n",
      "예측 요약: Rahul Gandhi has replied to Goa CM Manohar Parrikar's letter, which accused the Congress President of using his \"visit to an ailing man for political gains\".\n",
      "\n",
      "실제 요약: Man arrested for cheating Amazon of Ã¢ÂÂ¹30 lakh by taking refunds\n",
      "예측 요약: Mahuwala was a member of a gang who ordered costly gadgets from Amazon.\n",
      "\n",
      "실제 요약: AgustaWestland scam accused Rajiv Saxena extradited to India\n",
      "예측 요약: AgustaWestland chopper scam co-accused Rajiv Saxena was extradited to India from UAE on Wednesday.\n",
      "Saxena's lawyers alleged he had been \"illegally extradited\".\n",
      "\n",
      "실제 요약: Pakistan holds 'keys to war': Afghanistan\n",
      "예측 요약: Afghan President Ashraf Ghani has said the \"keys to war\" are in Pakistan's Islamabad, Quetta and Rawalpindi, accusing the country of providing safe havens to militants, including those belonging to the Taliban.\n",
      "\n",
      "실제 요약: Insurance agent 'Lord Voldemort' jailed for threatening clients\n",
      "예측 요약: A Singapore-based insurance agent has been jailed for two years and five months for threatening to harm his clients unless they paid him in bitcoins.\n",
      "\n",
      "실제 요약: Woman turns Apple AirPods into earrings to avoid losing them\n",
      "예측 요약: \"I absolutely refuse to lose them (AirPods)...So I made earrings,\" she explained.\n",
      "\n",
      "실제 요약: Shocked, hurt by ICICI's decision, truth will prevail: Kochhar\n",
      "예측 요약: Adding that she hasn't been given a copy of the independent probe report, Kochhar said none of ICICI's credit decisions are unilateral\n",
      "\n",
      "실제 요약: Fashion brand H&M hires Facebook data scandal whistleblower\n",
      "예측 요약: Swedish multinational fast-fashion brand Hennes & Mauritz AB (H&M) has hired Christopher Wylie, the whistleblower who exposed Facebook's Cambridge Analytica data scandal.\n",
      "\n",
      "실제 요약: Twitter testing news-first timeline feature on Android\n",
      "예측 요약: Micro-blogging platform Twitter is testing a new feature on Android to put news on the top of a user's timeline.\n",
      "\n",
      "실제 요약: Samsung builds world's first 1TB storage chip for smartphones \n",
      "예측 요약: Samsung has started mass producing its one terabyte 'embedded Universal Flash Storage (eUFS) 2.1' technology for \"use in next-generation mobile applications\", which it claims is the industry's first such eUFS.\n",
      "\n",
      "실제 요약: People with 'negative mindset' quizzing pro-poor schemes: PM\n",
      "예측 요약: Prime Minister Narendra Modi on Wednesday said the people with 'negative mindset' are questioning him and his government for floating pro-poor schemes.\n",
      "\n",
      "실제 요약: Rahul is hybrid specimen, has no clue about religion: Hegde\n",
      "예측 요약: Union Minister Anantkumar Hegde took a dig at Congress President Rahul Gandhi by calling him a \"hybrid specimen\" who has no clue about religion.\n",
      "\n",
      "실제 요약: Extreme cold to affect 200 million people as polar vortex hits US\n",
      "예측 요약: Several parts of the US are set to experience record low temperatures as the polar vortex hit the Upper Midwest, with more than 200 million people expected to experience below-freezing temperatures this week.\n",
      "\n",
      "실제 요약: 13 booked for firing air shots at Mahatma Gandhi's effigy\n",
      "예측 요약: The police on Wednesday registered cases against 13 persons, including a woman leader of Hindu Mahasabha, in Aligarh for firing at an effigy of Mahatma Gandhi with an air pistol.\n",
      "\n",
      "실제 요약: Railway police rescues woman with leg stuck in train toilet\n",
      "예측 요약: Railway police has rescued a woman travelling on a train in Chennai who got her leg stuck inside the commode of a toilet.\n",
      "\n",
      "실제 요약: US begins sending back asylum seekers to Mexico\n",
      "예측 요약: The US on Tuesday began returning asylum seekers to Mexico, sending back a migrant from a Central American nation and called the move a \"response to the illegal migration crisis\" faced by it.\n",
      "\n",
      "실제 요약: Yashwant Sinha demands probe into alleged fund diversion by DHFL\n",
      "예측 요약: Former Finance Minister Yashwant Sinha on Tuesday demanded a probe into the alleged diversion of loans worth Ã¢ÂÂ¹31,000 crore by Dewan Housing Finance (DHFL).\n",
      "\n",
      "실제 요약: Boeing sales cross $100bn for 1st time in its 102-yr history\n",
      "예측 요약: Boeing retained its position as the world's largest planemaker for the seventh straight year, delivering 806 aircraft in 2018.\n",
      "\n",
      "실제 요약: headlines\n",
      "예측 요약: \n",
      "\n",
      "실제 요약: OnePlus named bestselling premium smartphone brand of 2018: Report\n",
      "예측 요약: Further, its OnePlus 6 emerged as the highest selling premium smartphone of 2018 followed by OnePlus 6T.\n",
      "\n",
      "실제 요약: Kangana made fake promises to cast: 'Manikarnika' actress Mishti\n",
      "예측 요약: Actress Mishti, who has featured in 'Manikarnika: The Queen of Jhansi', has said the film's co-director Kangana Ranaut made false promises to the cast.\n",
      "\n",
      "실제 요약: McGregor fined Ã¢ÂÂ¹35 lakh, Khabib Ã¢ÂÂ¹3.5 crore for brawl; both banned\n",
      "예측 요약: Nevada State Athletic Commission has banned MMA fighters Conor McGregor and Khabib Nurmagomedov for six months and nine months respectively over their roles in the mass brawl that occurred after their fight at UFC 229 last October.\n",
      "\n",
      "실제 요약: Banned for 4 matches, Sarfaraz shares 'log hai na' poem for critics\n",
      "예측 요약: Pakistan captain Sarfaraz Ahmed, who has been banned for four matches over racist remarks, took an apparent dig at his critics by sharing a video of a child reciting 'log hai na' poem on Twitter.\n",
      "\n",
      "실제 요약: Confessed to spot-fixing to escape police torture: Sreesanth to SC\n",
      "예측 요약: Sreesanth further said the bookie tried dragging him into spot-fixing but he didn't fall for it.\n",
      "\n",
      "실제 요약: Govt to present Interim Budget, not full Budget on February 1\n",
      "예측 요약: The Finance Ministry on Wednesday said the government will present an Interim Budget on February 1.\n",
      "\n",
      "실제 요약: Vatican priest handling sex abuse cases quits over alleged sex abuse\n",
      "예측 요약: A senior priest at the Vatican who handled cases of sexual abuse has quit after being accused of sexual abuse by a former nun.\n",
      "\n"
     ]
    }
   ],
   "source": [
    "for i in range(50):\n",
    "    print('실제 요약:', data.iloc[i][\"Summary\"])\n",
    "    print('예측 요약:', data.iloc[i][\"Extractive Summarization\"])\n",
    "    print()"
   ]
  },
  {
   "cell_type": "markdown",
   "id": "84eb8359",
   "metadata": {},
   "source": [
    "## 추상적 요약과 추출적 요약 비교"
   ]
  },
  {
   "cell_type": "markdown",
   "id": "6f4c4261",
   "metadata": {},
   "source": [
    "추출적 요약에서 shuffle 이전의 본문 내용을 이용하기 위해서 data['clean_Text']에 대하여 인코딩 직전까지의 전처리 작업을 해준다. "
   ]
  },
  {
   "cell_type": "code",
   "execution_count": 52,
   "id": "3f3ac49e",
   "metadata": {},
   "outputs": [],
   "source": [
    "preprocessed_input=pad_sequences(src_tokenizer.texts_to_sequences(data['clean_Text']),maxlen=text_max_len, padding='post')"
   ]
  },
  {
   "cell_type": "code",
   "execution_count": 53,
   "id": "0673f6ca",
   "metadata": {},
   "outputs": [
    {
     "name": "stdout",
     "output_type": "stream",
     "text": [
      "실제 요약: upGrad learner switches to career in ML & Al with 90% salary hike\n",
      "추상적 요약 예측 :  upgrad to hire upgrad data with microsoft\n",
      "추출적 요약 예측: The program and upGrad's 360-degree career support helped him transition to a Data Scientist at Tech Mahindra with 90% salary hike.\n",
      "upGrad's Online Power Learning has powered 3 lakh+ careers.\n",
      "\n",
      "실제 요약: New Zealand end Rohit Sharma-led India's 12-match winning streak\n",
      "추상적 요약 예측 :  india defeat england to win their biggest runs\n",
      "추출적 요약 예측: The match witnessed India getting all out for 92, their seventh lowest total in ODI cricket history.\n",
      "\n",
      "실제 요약: Aegon life iTerm insurance plan helps customers save tax\n",
      "추상적 요약 예측 :  insurance insurance cover insurance cover\n",
      "추출적 요약 예측: Also, customers have options to insure against Critical Illnesses, Disability and Accidental Death Benefit Rider with a life cover up to the age of 80 years.\n",
      "\n",
      "실제 요약: Rahat Fateh Ali Khan denies getting notice for smuggling currency\n",
      "추상적 요약 예측 :  pak denies reports of pak over casting issue\n",
      "추출적 요약 예측: Pakistani singer Rahat Fateh Ali Khan has denied receiving any notice from the Enforcement Directorate over allegedly smuggling foreign currency out of India.\n",
      "\n",
      "실제 요약: Govt directs Alok Verma to join work 1 day before his retirement\n",
      "추상적 요약 예측 :  cbi chief alok verma to resign over alok verma\n",
      "추출적 요약 예측: Weeks after ex-CBI Director Alok Verma told the Department of Personnel and Training to consider him retired, the Home Ministry asked him to join work on the last day of his fixed tenure as Director on Thursday.\n",
      "\n",
      "실제 요약: Called PM Modi 'sir' 10 times to satisfy his ego: Andhra CM\n",
      "추상적 요약 예측 :  andhra cm naidu calls andhra cm naidu\n",
      "추출적 요약 예측: Andhra Pradesh CM N Chandrababu Naidu has said, \"When I met then US President Bill Clinton, I addressed him as Mr Clinton, not as 'sir'.\n",
      "\n",
      "실제 요약: Cong wins Ramgarh bypoll in Rajasthan, takes total to 100 seats\n",
      "추상적 요약 예측 :  bjp wins bypoll in gujarat assembly elections\n",
      "추출적 요약 예측: Congress candidate Shafia Zubair won the Ramgarh Assembly seat in Rajasthan, by defeating BJP's Sukhwant Singh with a margin of 12,228 votes in the bypoll.\n",
      "\n",
      "실제 요약: UP cousins fed human excreta for friendship with boys\n",
      "추상적 요약 예측 :  up govt performs up with rumours of child\n",
      "추출적 요약 예측: Two minor cousins in Uttar Pradesh's Gorakhpur were allegedly repeatedly burnt with tongs and forced to eat human excreta by their family for being friends with two boys from the same school.\n",
      "\n",
      "실제 요약:  I only cried at my 'bidaai' as I felt peer pressure: Isha Ambani\n",
      "추상적 요약 예측 :  anil ambani confirms rumours of isha ambani wedding\n",
      "추출적 요약 예측: \"It was a very emotional affair for everyone in my family,\" said Isha.\n",
      "\n",
      "실제 요약: Louis Vuitton owner to stockpile 4 months of wine, spirits in UK\n",
      "추상적 요약 예측 :  tv actress slams his year old over his brand\n",
      "추출적 요약 예측: Louis Vuitton owner LVMH, which makes high-end beverages like MoÃÂ«t & Chandon champagne and Hennessy cognac, said it's stockpiling four months' worth of wine and spirits in UK in preparation for Brexit.\n",
      "\n",
      "실제 요약: Karan Johar, Tabu turn showstoppers on opening night of LFW\n",
      "추상적 요약 예측 :  karan johar shares picture of his twins\n",
      "추출적 요약 예측: Filmmaker Karan Johar and actress Tabu turned showstoppers for Gaurav Gupta on the opening night of LakmÃÂ© Fashion Week Summer/ Resort 2019.\n",
      "\n",
      "실제 요약: How long can I tolerate Congress leaders' potshots: K'taka CM\n",
      "추상적 요약 예측 :  congress mlas resign from taka assembly congress\n",
      "추출적 요약 예측: \n",
      "\n",
      "실제 요약: Odisha CM Patnaik controls mining mafia: Union Minister\n",
      "추상적 요약 예측 :  odisha minister patnaik surrenders in odisha minister\n",
      "추출적 요약 예측: Union Minister Dharmendra Pradhan on Wednesday claimed the illegal mining mafia in Odisha operates under the control of CM Naveen Patnaik and state Congress chief Niranjan Patnaik.\n",
      "\n",
      "실제 요약: I think the opposition even dreams about me: PM Modi\n",
      "추상적 요약 예측 :  pm modi is opposition not thieves in opp pm modi\n",
      "추출적 요약 예측: \n",
      "\n",
      "실제 요약: ISRO unveils Bengaluru centre for manned space mission \n",
      "추상적 요약 예측 :  isro launches its first ever air india\n",
      "추출적 요약 예측: It'll also pursue activities for sustained human space flight missions, ISRO added.\n",
      "\n",
      "실제 요약: 12 killed, 170 injured in Saudi Arabia floods\n",
      "추상적 요약 예측 :  death toll in saudi arabia rises to\n",
      "추출적 요약 예측: At least 12 people have been killed and 170 others have been injured in Saudi Arabia this week due to flooding from heavy rain.\n",
      "\n",
      "실제 요약: Isha Ambani features on February cover of Vogue magazine\n",
      "추상적 요약 예측 :  isha ambani features on isha cover cover\n",
      "추출적 요약 예측: Reliance Industries' Chairman Mukesh Ambani's daughter Isha Ambani has featured on the cover of the February edition of Vogue India.\n",
      "\n",
      "실제 요약: Indian Oil looking for annual deal to buy crude from US\n",
      "추상적 요약 예측 :  india to buy oil imports from us oil imports reports\n",
      "추출적 요약 예측: The US had in November granted a six-month waiver to India from sanctions against Iran and restricted the country's monthly intake of Iranian oil to 3,00,000 barrels per day.\n",
      "\n",
      "실제 요약: Pacer once took 7 wickets for just 1 run in 32 balls in a Test\n",
      "추상적 요약 예측 :  bowler once bowled balls in balls in balls\n",
      "추출적 요약 예측: Ambrose's spell helped his team bowl out Australia for 119 in the first innings, after being 85 for 2 at one point.\n",
      "Ambrose ended with first-innings figures of 18-9-25-7.\n",
      "\n",
      "실제 요약: Rohit Sharma becomes 14th Indian cricketer to play 200 ODIs\n",
      "추상적 요약 예측 :  rohit sharma becomes st indian to win runs in odi\n",
      "추출적 요약 예측: Rohit scored 7,799 runs in his first 199 ODIs at an average of 48.14.\n",
      "\n",
      "실제 요약: 19-year-old Shubman Gill becomes India's 227th ODI cricketer\n",
      "추상적 요약 예측 :  rohit sharma becomes th indian to win runs in\n",
      "추출적 요약 예측: Notably, Shubman was named Player of the Under-19 World Cup in New Zealand last year.\n",
      "\n",
      "실제 요약: 2 seat cushions from 'missing plane carrying footballer' found\n",
      "추상적 요약 예측 :  plane found in plane with kg of his own plane\n",
      "추출적 요약 예측: Investigators searching for a lost plane carrying Argentine forward Emiliano Sala found two seat cushions on French coast that \"likely\" belonged to the aircraft.\n",
      "\n",
      "실제 요약: Italian coach knocks rival down with headbutt, banned for 5 months\n",
      "추상적 요약 예측 :  italian coach banned for months after being sent to\n",
      "추출적 요약 예측: Italian third division football side Lucchese's head coach Giancarlo Favarin has been banned for five months for headbutting Alessandria's assistant coach Gaetano Mancino during a brawl following the teams' 2-2 draw on Sunday.\n",
      "\n",
      "실제 요약: Cyclists sleep on stadium floor instead of hotel over costly cycles\n",
      "추상적 요약 예측 :  marathon in london race toilet falls into feet\n",
      "추출적 요약 예측: Cyclists taking part in National Track Cycling Championship in Jaipur opted to sleep on the floor inside the stadium instead of hotels over expensive cycles.\n",
      "\n",
      "실제 요약: CM Parrikar under pressure from PM after our Goa meet: Rahul\n",
      "추상적 요약 예측 :  rahul gandhi takes dig at rahul gandhi\n",
      "추출적 요약 예측: Rahul Gandhi has replied to Goa CM Manohar Parrikar's letter, which accused the Congress President of using his \"visit to an ailing man for political gains\".\n",
      "\n",
      "실제 요약: Man arrested for cheating Amazon of Ã¢ÂÂ¹30 lakh by taking refunds\n",
      "추상적 요약 예측 :  man who stole amazon dupes amazon dupes lakh held\n",
      "추출적 요약 예측: Mahuwala was a member of a gang who ordered costly gadgets from Amazon.\n",
      "\n",
      "실제 요약: AgustaWestland scam accused Rajiv Saxena extradited to India\n",
      "추상적 요약 예측 :  cbi chief accused of choksi from iaf scam\n",
      "추출적 요약 예측: AgustaWestland chopper scam co-accused Rajiv Saxena was extradited to India from UAE on Wednesday.\n",
      "Saxena's lawyers alleged he had been \"illegally extradited\".\n",
      "\n",
      "실제 요약: Pakistan holds 'keys to war': Afghanistan\n",
      "추상적 요약 예측 :  pakistan should not war war with taliban war taliban\n",
      "추출적 요약 예측: Afghan President Ashraf Ghani has said the \"keys to war\" are in Pakistan's Islamabad, Quetta and Rawalpindi, accusing the country of providing safe havens to militants, including those belonging to the Taliban.\n",
      "\n",
      "실제 요약: Insurance agent 'Lord Voldemort' jailed for threatening clients\n",
      "추상적 요약 예측 :  man sues for lakh over bitcoin\n",
      "추출적 요약 예측: A Singapore-based insurance agent has been jailed for two years and five months for threatening to harm his clients unless they paid him in bitcoins.\n",
      "\n",
      "실제 요약: Woman turns Apple AirPods into earrings to avoid losing them\n",
      "추상적 요약 예측 :  woman sues apple airpods over tracking airpods\n",
      "추출적 요약 예측: \"I absolutely refuse to lose them (AirPods)...So I made earrings,\" she explained.\n",
      "\n",
      "실제 요약: Shocked, hurt by ICICI's decision, truth will prevail: Kochhar\n",
      "추상적 요약 예측 :  chanda kochhar kochhar as icici bank chief\n",
      "추출적 요약 예측: Adding that she hasn't been given a copy of the independent probe report, Kochhar said none of ICICI's credit decisions are unilateral\n",
      "\n",
      "실제 요약: Fashion brand H&M hires Facebook data scandal whistleblower\n",
      "추상적 요약 예측 :  facebook sues facebook for data breach\n",
      "추출적 요약 예측: Swedish multinational fast-fashion brand Hennes & Mauritz AB (H&M) has hired Christopher Wylie, the whistleblower who exposed Facebook's Cambridge Analytica data scandal.\n",
      "\n",
      "실제 요약: Twitter testing news-first timeline feature on Android\n",
      "추상적 요약 예측 :  twitter rolls out feature to reply on whatsapp\n",
      "추출적 요약 예측: Micro-blogging platform Twitter is testing a new feature on Android to put news on the top of a user's timeline.\n",
      "\n",
      "실제 요약: Samsung builds world's first 1TB storage chip for smartphones \n",
      "추상적 요약 예측 :  samsung builds smartphone to display\n",
      "추출적 요약 예측: Samsung has started mass producing its one terabyte 'embedded Universal Flash Storage (eUFS) 2.1' technology for \"use in next-generation mobile applications\", which it claims is the industry's first such eUFS.\n",
      "\n",
      "실제 요약: People with 'negative mindset' quizzing pro-poor schemes: PM\n",
      "추상적 요약 예측 :  pm modi led to make free quality of diwali\n",
      "추출적 요약 예측: Prime Minister Narendra Modi on Wednesday said the people with 'negative mindset' are questioning him and his government for floating pro-poor schemes.\n",
      "\n",
      "실제 요약: Rahul is hybrid specimen, has no clue about religion: Hegde\n",
      "추상적 요약 예측 :  rahul gandhi is not dalit union minister\n",
      "추출적 요약 예측: Union Minister Anantkumar Hegde took a dig at Congress President Rahul Gandhi by calling him a \"hybrid specimen\" who has no clue about religion.\n",
      "\n",
      "실제 요약: Extreme cold to affect 200 million people as polar vortex hits US\n",
      "추상적 요약 예측 :  record of record high level in record\n",
      "추출적 요약 예측: Several parts of the US are set to experience record low temperatures as the polar vortex hit the Upper Midwest, with more than 200 million people expected to experience below-freezing temperatures this week.\n",
      "\n",
      "실제 요약: 13 booked for firing air shots at Mahatma Gandhi's effigy\n",
      "추상적 요약 예측 :  hindu man booked for hindu woman in mumbai\n",
      "추출적 요약 예측: The police on Wednesday registered cases against 13 persons, including a woman leader of Hindu Mahasabha, in Aligarh for firing at an effigy of Mahatma Gandhi with an air pistol.\n",
      "\n",
      "실제 요약: Railway police rescues woman with leg stuck in train toilet\n",
      "추상적 요약 예측 :  woman stuck in train station after being stuck in train\n",
      "추출적 요약 예측: Railway police has rescued a woman travelling on a train in Chennai who got her leg stuck inside the commode of a toilet.\n",
      "\n",
      "실제 요약: US begins sending back asylum seekers to Mexico\n",
      "추상적 요약 예측 :  us ends asylum asylum seekers in us\n",
      "추출적 요약 예측: The US on Tuesday began returning asylum seekers to Mexico, sending back a migrant from a Central American nation and called the move a \"response to the illegal migration crisis\" faced by it.\n",
      "\n",
      "실제 요약: Yashwant Sinha demands probe into alleged fund diversion by DHFL\n",
      "추상적 요약 예측 :  govt seeks crore loan fraud for loans ex minister\n",
      "추출적 요약 예측: Former Finance Minister Yashwant Sinha on Tuesday demanded a probe into the alleged diversion of loans worth Ã¢ÂÂ¹31,000 crore by Dewan Housing Finance (DHFL).\n",
      "\n",
      "실제 요약: Boeing sales cross $100bn for 1st time in its 102-yr history\n",
      "추상적 요약 예측 :  boeing to become biggest aircraft in china\n",
      "추출적 요약 예측: Boeing retained its position as the world's largest planemaker for the seventh straight year, delivering 806 aircraft in 2018.\n",
      "\n",
      "실제 요약: headlines\n",
      "추상적 요약 예측 :  sixes taimur shroff rested for refusing wkts\n",
      "추출적 요약 예측: \n",
      "\n",
      "실제 요약: OnePlus named bestselling premium smartphone brand of 2018: Report\n",
      "추상적 요약 예측 :  oneplus to be among top brand brand in india\n",
      "추출적 요약 예측: Further, its OnePlus 6 emerged as the highest selling premium smartphone of 2018 followed by OnePlus 6T.\n",
      "\n",
      "실제 요약: Kangana made fake promises to cast: 'Manikarnika' actress Mishti\n",
      "추상적 요약 예측 :  kangana ranaut to star in manikarnika maker\n",
      "추출적 요약 예측: Actress Mishti, who has featured in 'Manikarnika: The Queen of Jhansi', has said the film's co-director Kangana Ranaut made false promises to the cast.\n",
      "\n",
      "실제 요약: McGregor fined Ã¢ÂÂ¹35 lakh, Khabib Ã¢ÂÂ¹3.5 crore for brawl; both banned\n",
      "추상적 요약 예측 :  mcgregor banned from mcgregor over brawl\n",
      "추출적 요약 예측: Nevada State Athletic Commission has banned MMA fighters Conor McGregor and Khabib Nurmagomedov for six months and nine months respectively over their roles in the mass brawl that occurred after their fight at UFC 229 last October.\n",
      "\n",
      "실제 요약: Banned for 4 matches, Sarfaraz shares 'log hai na' poem for critics\n",
      "추상적 요약 예측 :  pak bans pak from dressing scene over racial abuse\n",
      "추출적 요약 예측: Pakistan captain Sarfaraz Ahmed, who has been banned for four matches over racist remarks, took an apparent dig at his critics by sharing a video of a child reciting 'log hai na' poem on Twitter.\n",
      "\n",
      "실제 요약: Confessed to spot-fixing to escape police torture: Sreesanth to SC\n",
      "추상적 요약 예측 :  year jail for fixing sreesanth on ipl match fixing case\n",
      "추출적 요약 예측: Sreesanth further said the bookie tried dragging him into spot-fixing but he didn't fall for it.\n",
      "\n",
      "실제 요약: Govt to present Interim Budget, not full Budget on February 1\n",
      "추상적 요약 예측 :  govt to bring back budget on budget budget\n",
      "추출적 요약 예측: The Finance Ministry on Wednesday said the government will present an Interim Budget on February 1.\n",
      "\n",
      "실제 요약: Vatican priest handling sex abuse cases quits over alleged sex abuse\n",
      "추상적 요약 예측 :  priests accused of sexual abuse by priests\n",
      "추출적 요약 예측: A senior priest at the Vatican who handled cases of sexual abuse has quit after being accused of sexual abuse by a former nun.\n",
      "\n"
     ]
    }
   ],
   "source": [
    "for i in range(50):\n",
    "    print('실제 요약:', data.iloc[i][\"Summary\"])\n",
    "    print(\"추상적 요약 예측 :\", decode_sequence(preprocessed_input[i].reshape(1, text_max_len)))\n",
    "    print('추출적 요약 예측:', data.iloc[i][\"Extractive Summarization\"])\n",
    "    print()"
   ]
  },
  {
   "cell_type": "markdown",
   "id": "9523932f",
   "metadata": {},
   "source": [
    "전반적으로 추출적 요약이 성능이 훨씬 좋은 걸로 나온다. 사실상 추상적 요약이 성능이 좋지 못하고 계속 엉뚱한 결과가 나오는데, 이에 비하면 추출적 요약이 훨씬 잘 요약하는 것 같다. 문법완성도 측면과 핵심단어 포함 측면에서 모두 추출적 요약이 우위에 있다. 아무래도 추출적 요약은 본문에서 문장을 그대로 가져오는 것이기 때문에 문법적으로 완성도가 높고, 핵심 단어를 포함 측면에서는 추상적 요약도 나름 잘 찾는 것 같긴 하지만, 문장으로 이해하기 힘든 형태로 포함이 되어있다. "
   ]
  },
  {
   "cell_type": "markdown",
   "id": "36513114",
   "metadata": {},
   "source": [
    "## 회고\n",
    "이번 EX노드는 갑자기 내용이 확 어려워진 느낌이다. 특히 인코딩, 디코딩 부분과 모델의 구조에 대한 설명이 충분치 못하다는 느낌이 드는데, 이에 대한 조사는 따로 할 예정이다. 일단 노드에서 제시한 코드 바탕으로 진행을 하였다.  \n",
    "  \n",
    "   \n",
    "__의문점:__  \n",
    "* 추상적 요약의 성능이 낮은 이유를 도저히 모르겠다. 나름 노드의 코드를 그대로 따라왔고, 요약 데이터에 대해 불용어 제거도 안 했는데 실제 요약이 문법적으로 깨져서 나온다. 또한 단어도 엉뚱한 게 계속 나오는데 단어 수와 문장 길이를 바꾸어보아도 크게 바뀌지 않는다. 학습하는 데이터의 길이가 짧아서 그런 것이 아닐까 라는 생각이 들지만, 다른 파라미터와 모델 구조들을 조금 더 조정해보고 판단을 해보겠다.  \n",
    "  \n",
    "__어려운 점:__  \n",
    "* 모델 학습이 정말 너무 오래 걸렸다. 이건 뭐 방법이 없겠지만, 이것저것 시도해봐야 되는 시점에서 한 번 모델을 학습시키는데 시간이 오래 걸리니까 너무 답답한 부분이었다. 앞으로 모델을 한 번 학습시키 전에 최대한 신중하게 준비를 해야 되겠다.  \n",
    "  \n",
    "__다짐:__  \n",
    "* 추상적 요약에 대해 더 공부해볼 예정이다. 모델에 대한 이론적인 이해를 확실하게 다져야 앞으로 직접 이렇게 모델을 구현할 수 있을 것 같다. \n",
    "* 결국 제출기한이 다 되어서 지금 추상적 요약의 성능을 더 높이진 못 했지만, 노드에서 제시한 다양한 방법들에 대해 조사하여 이후에 이 노트북으로 돌아와서 더 시도해볼 예정이다. "
   ]
  },
  {
   "cell_type": "code",
   "execution_count": null,
   "id": "f6457d7b",
   "metadata": {},
   "outputs": [],
   "source": []
  }
 ],
 "metadata": {
  "kernelspec": {
   "display_name": "Python 3 (ipykernel)",
   "language": "python",
   "name": "python3"
  },
  "language_info": {
   "codemirror_mode": {
    "name": "ipython",
    "version": 3
   },
   "file_extension": ".py",
   "mimetype": "text/x-python",
   "name": "python",
   "nbconvert_exporter": "python",
   "pygments_lexer": "ipython3",
   "version": "3.9.7"
  }
 },
 "nbformat": 4,
 "nbformat_minor": 5
}
