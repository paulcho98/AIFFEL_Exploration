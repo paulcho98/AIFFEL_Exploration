{
 "cells": [
  {
   "cell_type": "markdown",
   "id": "73e06647",
   "metadata": {},
   "source": [
    "# Exploration 노드 2"
   ]
  },
  {
   "cell_type": "markdown",
   "id": "3ccafe2c",
   "metadata": {},
   "source": [
    "## (1) 손글씨 분류"
   ]
  },
  {
   "cell_type": "code",
   "execution_count": 72,
   "id": "467d79ed",
   "metadata": {},
   "outputs": [],
   "source": [
    "from sklearn.datasets import load_digits\n",
    "from sklearn.model_selection import train_test_split\n",
    "from sklearn.metrics import classification_report"
   ]
  },
  {
   "cell_type": "code",
   "execution_count": 73,
   "id": "dda4d9a1",
   "metadata": {},
   "outputs": [
    {
     "name": "stdout",
     "output_type": "stream",
     "text": [
      "              precision    recall  f1-score   support\n",
      "\n",
      "           0       1.00      1.00      1.00         7\n",
      "           1       0.91      0.83      0.87        12\n",
      "           2       0.83      0.91      0.87        11\n",
      "\n",
      "    accuracy                           0.90        30\n",
      "   macro avg       0.91      0.91      0.91        30\n",
      "weighted avg       0.90      0.90      0.90        30\n",
      "\n"
     ]
    }
   ],
   "source": [
    "# (1) 필요한 모듈 import\n",
    "from sklearn.datasets import load_iris\n",
    "from sklearn.model_selection import train_test_split\n",
    "from sklearn.tree import DecisionTreeClassifier\n",
    "from sklearn.metrics import classification_report\n",
    "\n",
    "# (2) 데이터 준비\n",
    "iris = load_iris()\n",
    "iris_data = iris.data\n",
    "iris_label = iris.target\n",
    "\n",
    "# (3) train, test 데이터 분리\n",
    "X_train, X_test, y_train, y_test = train_test_split(iris_data, \n",
    "                                                    iris_label, \n",
    "                                                    test_size=0.2, \n",
    "                                                    random_state=7)\n",
    "\n",
    "# (4) 모델 학습 및 예측\n",
    "decision_tree = DecisionTreeClassifier(random_state=32)\n",
    "decision_tree.fit(X_train, y_train)\n",
    "y_pred = decision_tree.predict(X_test)\n",
    "\n",
    "print(classification_report(y_test, y_pred))"
   ]
  },
  {
   "cell_type": "markdown",
   "id": "f4eae549",
   "metadata": {},
   "source": [
    "### 데이터 준비"
   ]
  },
  {
   "cell_type": "code",
   "execution_count": 74,
   "id": "8b755878",
   "metadata": {},
   "outputs": [],
   "source": [
    "# 손글씨 데이터 로딩\n",
    "digits = load_digits()"
   ]
  },
  {
   "cell_type": "markdown",
   "id": "c648d822",
   "metadata": {},
   "source": [
    "### 데이터 이해하기"
   ]
  },
  {
   "cell_type": "code",
   "execution_count": 75,
   "id": "8074039a",
   "metadata": {},
   "outputs": [
    {
     "name": "stdout",
     "output_type": "stream",
     "text": [
      ".. _digits_dataset:\n",
      "\n",
      "Optical recognition of handwritten digits dataset\n",
      "--------------------------------------------------\n",
      "\n",
      "**Data Set Characteristics:**\n",
      "\n",
      "    :Number of Instances: 1797\n",
      "    :Number of Attributes: 64\n",
      "    :Attribute Information: 8x8 image of integer pixels in the range 0..16.\n",
      "    :Missing Attribute Values: None\n",
      "    :Creator: E. Alpaydin (alpaydin '@' boun.edu.tr)\n",
      "    :Date: July; 1998\n",
      "\n",
      "This is a copy of the test set of the UCI ML hand-written digits datasets\n",
      "https://archive.ics.uci.edu/ml/datasets/Optical+Recognition+of+Handwritten+Digits\n",
      "\n",
      "The data set contains images of hand-written digits: 10 classes where\n",
      "each class refers to a digit.\n",
      "\n",
      "Preprocessing programs made available by NIST were used to extract\n",
      "normalized bitmaps of handwritten digits from a preprinted form. From a\n",
      "total of 43 people, 30 contributed to the training set and different 13\n",
      "to the test set. 32x32 bitmaps are divided into nonoverlapping blocks of\n",
      "4x4 and the number of on pixels are counted in each block. This generates\n",
      "an input matrix of 8x8 where each element is an integer in the range\n",
      "0..16. This reduces dimensionality and gives invariance to small\n",
      "distortions.\n",
      "\n",
      "For info on NIST preprocessing routines, see M. D. Garris, J. L. Blue, G.\n",
      "T. Candela, D. L. Dimmick, J. Geist, P. J. Grother, S. A. Janet, and C.\n",
      "L. Wilson, NIST Form-Based Handprint Recognition System, NISTIR 5469,\n",
      "1994.\n",
      "\n",
      ".. topic:: References\n",
      "\n",
      "  - C. Kaynak (1995) Methods of Combining Multiple Classifiers and Their\n",
      "    Applications to Handwritten Digit Recognition, MSc Thesis, Institute of\n",
      "    Graduate Studies in Science and Engineering, Bogazici University.\n",
      "  - E. Alpaydin, C. Kaynak (1998) Cascading Classifiers, Kybernetika.\n",
      "  - Ken Tang and Ponnuthurai N. Suganthan and Xi Yao and A. Kai Qin.\n",
      "    Linear dimensionalityreduction using relevance weighted LDA. School of\n",
      "    Electrical and Electronic Engineering Nanyang Technological University.\n",
      "    2005.\n",
      "  - Claudio Gentile. A New Approximate Maximal Margin Classification\n",
      "    Algorithm. NIPS. 2000.\n",
      "\n"
     ]
    }
   ],
   "source": [
    "# 데이터셋에 대한 설명 \n",
    "print(digits.DESCR)"
   ]
  },
  {
   "cell_type": "code",
   "execution_count": 76,
   "id": "7acf2ab0",
   "metadata": {},
   "outputs": [
    {
     "data": {
      "text/plain": [
       "['pixel_0_0',\n",
       " 'pixel_0_1',\n",
       " 'pixel_0_2',\n",
       " 'pixel_0_3',\n",
       " 'pixel_0_4',\n",
       " 'pixel_0_5',\n",
       " 'pixel_0_6',\n",
       " 'pixel_0_7',\n",
       " 'pixel_1_0',\n",
       " 'pixel_1_1',\n",
       " 'pixel_1_2',\n",
       " 'pixel_1_3',\n",
       " 'pixel_1_4',\n",
       " 'pixel_1_5',\n",
       " 'pixel_1_6',\n",
       " 'pixel_1_7',\n",
       " 'pixel_2_0',\n",
       " 'pixel_2_1',\n",
       " 'pixel_2_2',\n",
       " 'pixel_2_3',\n",
       " 'pixel_2_4',\n",
       " 'pixel_2_5',\n",
       " 'pixel_2_6',\n",
       " 'pixel_2_7',\n",
       " 'pixel_3_0',\n",
       " 'pixel_3_1',\n",
       " 'pixel_3_2',\n",
       " 'pixel_3_3',\n",
       " 'pixel_3_4',\n",
       " 'pixel_3_5',\n",
       " 'pixel_3_6',\n",
       " 'pixel_3_7',\n",
       " 'pixel_4_0',\n",
       " 'pixel_4_1',\n",
       " 'pixel_4_2',\n",
       " 'pixel_4_3',\n",
       " 'pixel_4_4',\n",
       " 'pixel_4_5',\n",
       " 'pixel_4_6',\n",
       " 'pixel_4_7',\n",
       " 'pixel_5_0',\n",
       " 'pixel_5_1',\n",
       " 'pixel_5_2',\n",
       " 'pixel_5_3',\n",
       " 'pixel_5_4',\n",
       " 'pixel_5_5',\n",
       " 'pixel_5_6',\n",
       " 'pixel_5_7',\n",
       " 'pixel_6_0',\n",
       " 'pixel_6_1',\n",
       " 'pixel_6_2',\n",
       " 'pixel_6_3',\n",
       " 'pixel_6_4',\n",
       " 'pixel_6_5',\n",
       " 'pixel_6_6',\n",
       " 'pixel_6_7',\n",
       " 'pixel_7_0',\n",
       " 'pixel_7_1',\n",
       " 'pixel_7_2',\n",
       " 'pixel_7_3',\n",
       " 'pixel_7_4',\n",
       " 'pixel_7_5',\n",
       " 'pixel_7_6',\n",
       " 'pixel_7_7']"
      ]
     },
     "execution_count": 76,
     "metadata": {},
     "output_type": "execute_result"
    }
   ],
   "source": [
    "# Feature data의 종류 확인\n",
    "digits.feature_names"
   ]
  },
  {
   "cell_type": "code",
   "execution_count": 77,
   "id": "8a93b35e",
   "metadata": {},
   "outputs": [
    {
     "data": {
      "text/plain": [
       "array([0, 1, 2, 3, 4, 5, 6, 7, 8, 9])"
      ]
     },
     "execution_count": 77,
     "metadata": {},
     "output_type": "execute_result"
    }
   ],
   "source": [
    "# Label 종류 확인\n",
    "digits.target_names"
   ]
  },
  {
   "cell_type": "markdown",
   "id": "1f8a0e5e",
   "metadata": {},
   "source": [
    "digits의 데이터셋을 살펴보면, features는 8x8 크기의 이미지 파일의 각 픽셀값을 나타내고, 우리가 분류하려는 class/label은 0~9의 숫자라는 것을 확인할 수 있다."
   ]
  },
  {
   "cell_type": "code",
   "execution_count": 78,
   "id": "97df9eea",
   "metadata": {},
   "outputs": [],
   "source": [
    "# 데이터셋의 Feature Data와 Label Data를 나눠서 저장\n",
    "digits_data = digits.data\n",
    "digits_labels = digits.target"
   ]
  },
  {
   "cell_type": "code",
   "execution_count": 79,
   "id": "04f8dea7",
   "metadata": {},
   "outputs": [
    {
     "data": {
      "text/plain": [
       "(1797, 64)"
      ]
     },
     "execution_count": 79,
     "metadata": {},
     "output_type": "execute_result"
    }
   ],
   "source": [
    "digits_data.shape"
   ]
  },
  {
   "cell_type": "code",
   "execution_count": 80,
   "id": "fbbc6dd1",
   "metadata": {},
   "outputs": [
    {
     "data": {
      "text/plain": [
       "(1797,)"
      ]
     },
     "execution_count": 80,
     "metadata": {},
     "output_type": "execute_result"
    }
   ],
   "source": [
    "digits_labels.shape"
   ]
  },
  {
   "cell_type": "code",
   "execution_count": 81,
   "id": "ec0bce7d",
   "metadata": {},
   "outputs": [
    {
     "name": "stdout",
     "output_type": "stream",
     "text": [
      "Frequency of unique values of the said array:\n",
      "[[  0   1   2   3   4   5   6   7   8   9]\n",
      " [178 182 177 183 181 182 181 179 174 180]]\n"
     ]
    }
   ],
   "source": [
    "import numpy as np\n",
    "unique_elements, counts_elements = np.unique(digits_labels, return_counts=True)\n",
    "print(\"Frequency of unique values of the said array:\")\n",
    "print(np.asarray((unique_elements, counts_elements)))"
   ]
  },
  {
   "cell_type": "markdown",
   "id": "4fc016e9",
   "metadata": {},
   "source": [
    "Feature data와 Label들을 각각 digits_data와 digits_label에 저장하였다. shape을 확인하니 digits data의 DESCR 내용과 일치하여 제대로 데이터를 불러왔다는 것을 확인하였다. 또한, 데이터의 구성을 확인하면 0~9 각 class별로 대략 180개의 데이터가 있어, 모두 비슷하게 분포되어 있다는 것도 알 수 있다. "
   ]
  },
  {
   "cell_type": "markdown",
   "id": "088f75cb",
   "metadata": {},
   "source": [
    "### Train과 Test 데이터로 분리"
   ]
  },
  {
   "cell_type": "code",
   "execution_count": 160,
   "id": "658fd8dd",
   "metadata": {},
   "outputs": [],
   "source": [
    "X_train, X_test, y_train, y_test = train_test_split(digits_data, digits_labels, test_size = 0.2, random_state = 42)"
   ]
  },
  {
   "cell_type": "code",
   "execution_count": 83,
   "id": "f76c2a49",
   "metadata": {},
   "outputs": [
    {
     "name": "stdout",
     "output_type": "stream",
     "text": [
      "X_train shape :  (1437, 64)\n",
      "X_test shape :  (360, 64)\n",
      "y_train shape :  (1437,)\n",
      "y_test shape :  (360,)\n"
     ]
    }
   ],
   "source": [
    "print(\"X_train shape : \", X_train.shape)\n",
    "print(\"X_test shape : \", X_test.shape)\n",
    "print(\"y_train shape : \", y_train.shape)\n",
    "print(\"y_test shape : \", y_test.shape)\n"
   ]
  },
  {
   "cell_type": "markdown",
   "id": "3e57acf7",
   "metadata": {},
   "source": [
    "### 모델 학습\n",
    "#### (1) Decision Tree 모델"
   ]
  },
  {
   "cell_type": "code",
   "execution_count": 84,
   "id": "1013ee25",
   "metadata": {},
   "outputs": [],
   "source": [
    "# 필요한 Classifier 불러오기\n",
    "from sklearn.tree import DecisionTreeClassifier"
   ]
  },
  {
   "cell_type": "code",
   "execution_count": 85,
   "id": "5f06a69b",
   "metadata": {},
   "outputs": [
    {
     "data": {
      "text/plain": [
       "DecisionTreeClassifier(random_state=42)"
      ]
     },
     "execution_count": 85,
     "metadata": {},
     "output_type": "execute_result"
    }
   ],
   "source": [
    "# Classifier 생성\n",
    "decision_tree = DecisionTreeClassifier(random_state = 42)\n",
    "\n",
    "# 데이터에 fit (학습)\n",
    "decision_tree.fit(X_train, y_train)"
   ]
  },
  {
   "cell_type": "code",
   "execution_count": 86,
   "id": "f9ffd68d",
   "metadata": {},
   "outputs": [
    {
     "name": "stdout",
     "output_type": "stream",
     "text": [
      "              precision    recall  f1-score   support\n",
      "\n",
      "           0       0.88      0.97      0.92        30\n",
      "           1       0.79      0.85      0.81        26\n",
      "           2       0.73      0.86      0.79        28\n",
      "           3       0.85      0.76      0.81        38\n",
      "           4       0.91      0.84      0.87        50\n",
      "           5       0.85      0.89      0.87        45\n",
      "           6       0.91      0.97      0.94        33\n",
      "           7       0.91      0.82      0.86        38\n",
      "           8       0.70      0.75      0.72        28\n",
      "           9       0.82      0.75      0.79        44\n",
      "\n",
      "    accuracy                           0.84       360\n",
      "   macro avg       0.84      0.84      0.84       360\n",
      "weighted avg       0.85      0.84      0.84       360\n",
      "\n"
     ]
    }
   ],
   "source": [
    "# Test 데이터로 예측 \n",
    "y_pred = decision_tree.predict(X_test)\n",
    "\n",
    "# 예측 결과에 대한 평가\n",
    "print(classification_report(y_pred, y_test))"
   ]
  },
  {
   "cell_type": "markdown",
   "id": "5b082858",
   "metadata": {},
   "source": [
    "#### (2) Random Forest 모델"
   ]
  },
  {
   "cell_type": "code",
   "execution_count": 87,
   "id": "43b83b29",
   "metadata": {},
   "outputs": [],
   "source": [
    "from sklearn.ensemble import RandomForestClassifier"
   ]
  },
  {
   "cell_type": "code",
   "execution_count": 88,
   "id": "3575910e",
   "metadata": {},
   "outputs": [
    {
     "data": {
      "text/plain": [
       "RandomForestClassifier(random_state=42)"
      ]
     },
     "execution_count": 88,
     "metadata": {},
     "output_type": "execute_result"
    }
   ],
   "source": [
    "# Classifier 생성\n",
    "random_forest = RandomForestClassifier(random_state = 42)\n",
    "\n",
    "# 데이터에 fit (학습)\n",
    "random_forest.fit(X_train, y_train)"
   ]
  },
  {
   "cell_type": "code",
   "execution_count": 89,
   "id": "d2abeb85",
   "metadata": {},
   "outputs": [
    {
     "name": "stdout",
     "output_type": "stream",
     "text": [
      "              precision    recall  f1-score   support\n",
      "\n",
      "           0       0.97      1.00      0.98        32\n",
      "           1       1.00      0.97      0.98        29\n",
      "           2       1.00      1.00      1.00        33\n",
      "           3       0.94      1.00      0.97        32\n",
      "           4       1.00      0.98      0.99        47\n",
      "           5       0.96      0.94      0.95        48\n",
      "           6       0.97      0.97      0.97        35\n",
      "           7       0.97      0.97      0.97        34\n",
      "           8       0.97      0.97      0.97        30\n",
      "           9       0.95      0.95      0.95        40\n",
      "\n",
      "    accuracy                           0.97       360\n",
      "   macro avg       0.97      0.97      0.97       360\n",
      "weighted avg       0.97      0.97      0.97       360\n",
      "\n"
     ]
    }
   ],
   "source": [
    "# Test 데이터로 예측\n",
    "y_pred = random_forest.predict(X_test)\n",
    "\n",
    "# 예측 결과에 대한 평가\n",
    "print(classification_report(y_pred, y_test))"
   ]
  },
  {
   "cell_type": "markdown",
   "id": "db073666",
   "metadata": {},
   "source": [
    "#### (3) SVM(Support Vector Machine) 모델"
   ]
  },
  {
   "cell_type": "code",
   "execution_count": 90,
   "id": "a43ab422",
   "metadata": {},
   "outputs": [],
   "source": [
    "from sklearn import svm"
   ]
  },
  {
   "cell_type": "code",
   "execution_count": 91,
   "id": "e01ce258",
   "metadata": {},
   "outputs": [
    {
     "data": {
      "text/plain": [
       "SVC()"
      ]
     },
     "execution_count": 91,
     "metadata": {},
     "output_type": "execute_result"
    }
   ],
   "source": [
    "# Classifier 생성\n",
    "svm_model = svm.SVC()\n",
    "\n",
    "# 데이터에 fit(학습)\n",
    "svm_model.fit(X_train, y_train)"
   ]
  },
  {
   "cell_type": "code",
   "execution_count": 92,
   "id": "826ad4f5",
   "metadata": {},
   "outputs": [
    {
     "name": "stdout",
     "output_type": "stream",
     "text": [
      "              precision    recall  f1-score   support\n",
      "\n",
      "           0       1.00      1.00      1.00        33\n",
      "           1       1.00      1.00      1.00        28\n",
      "           2       1.00      1.00      1.00        33\n",
      "           3       1.00      1.00      1.00        34\n",
      "           4       1.00      1.00      1.00        46\n",
      "           5       0.98      0.98      0.98        47\n",
      "           6       1.00      0.97      0.99        36\n",
      "           7       0.97      0.97      0.97        34\n",
      "           8       0.97      1.00      0.98        29\n",
      "           9       0.95      0.95      0.95        40\n",
      "\n",
      "    accuracy                           0.99       360\n",
      "   macro avg       0.99      0.99      0.99       360\n",
      "weighted avg       0.99      0.99      0.99       360\n",
      "\n"
     ]
    }
   ],
   "source": [
    "# Test 데이터로 예측\n",
    "y_pred = svm_model.predict(X_test)\n",
    "\n",
    "# 예측 결과에 대한 평가\n",
    "print(classification_report(y_pred, y_test))"
   ]
  },
  {
   "cell_type": "markdown",
   "id": "9f523ee6",
   "metadata": {},
   "source": [
    "#### (4) SGD Classifier 모델"
   ]
  },
  {
   "cell_type": "code",
   "execution_count": 93,
   "id": "89489279",
   "metadata": {},
   "outputs": [],
   "source": [
    "from sklearn.linear_model import SGDClassifier"
   ]
  },
  {
   "cell_type": "code",
   "execution_count": 94,
   "id": "397576ec",
   "metadata": {},
   "outputs": [
    {
     "data": {
      "text/plain": [
       "SGDClassifier()"
      ]
     },
     "execution_count": 94,
     "metadata": {},
     "output_type": "execute_result"
    }
   ],
   "source": [
    "# Classifier 생성\n",
    "sgd_model = SGDClassifier()\n",
    "\n",
    "# 데이터에 fit(학습)\n",
    "sgd_model.fit(X_train, y_train)"
   ]
  },
  {
   "cell_type": "code",
   "execution_count": 95,
   "id": "ef1cf8a5",
   "metadata": {},
   "outputs": [
    {
     "name": "stdout",
     "output_type": "stream",
     "text": [
      "              precision    recall  f1-score   support\n",
      "\n",
      "           0       1.00      1.00      1.00        33\n",
      "           1       0.82      1.00      0.90        23\n",
      "           2       1.00      1.00      1.00        33\n",
      "           3       0.97      1.00      0.99        33\n",
      "           4       0.98      0.98      0.98        46\n",
      "           5       0.96      0.96      0.96        47\n",
      "           6       0.97      0.97      0.97        35\n",
      "           7       0.97      1.00      0.99        33\n",
      "           8       0.97      0.74      0.84        39\n",
      "           9       0.90      0.95      0.92        38\n",
      "\n",
      "    accuracy                           0.96       360\n",
      "   macro avg       0.95      0.96      0.95       360\n",
      "weighted avg       0.96      0.96      0.95       360\n",
      "\n"
     ]
    }
   ],
   "source": [
    "# Test 데이터로 예측\n",
    "y_pred = sgd_model.predict(X_test)\n",
    "\n",
    "# 예측 결과에 대한 평가\n",
    "print(classification_report(y_pred, y_test))"
   ]
  },
  {
   "cell_type": "markdown",
   "id": "5db5721e",
   "metadata": {},
   "source": [
    "#### (5) Logistic Regression 모델"
   ]
  },
  {
   "cell_type": "code",
   "execution_count": 96,
   "id": "222a25a5",
   "metadata": {},
   "outputs": [],
   "source": [
    "from sklearn.linear_model import LogisticRegression"
   ]
  },
  {
   "cell_type": "code",
   "execution_count": 161,
   "id": "06067088",
   "metadata": {},
   "outputs": [
    {
     "data": {
      "text/plain": [
       "LogisticRegression(solver='liblinear')"
      ]
     },
     "execution_count": 161,
     "metadata": {},
     "output_type": "execute_result"
    }
   ],
   "source": [
    "# Classifier 생성\n",
    "logistic_model = LogisticRegression(solver = 'liblinear')\n",
    "\n",
    "# 데이터에 fit(학습)\n",
    "logistic_model.fit(X_train, y_train)"
   ]
  },
  {
   "cell_type": "markdown",
   "id": "003103ce",
   "metadata": {},
   "source": [
    "ConvergenceWarning이 발생하여 이를 해결하기 위해서 solver를 따로 지정해주었다. "
   ]
  },
  {
   "cell_type": "code",
   "execution_count": 162,
   "id": "5d59a229",
   "metadata": {},
   "outputs": [
    {
     "name": "stdout",
     "output_type": "stream",
     "text": [
      "              precision    recall  f1-score   support\n",
      "\n",
      "           0       1.00      1.00      1.00        33\n",
      "           1       0.96      0.93      0.95        29\n",
      "           2       1.00      0.97      0.99        34\n",
      "           3       0.97      1.00      0.99        33\n",
      "           4       0.96      1.00      0.98        44\n",
      "           5       0.96      0.94      0.95        48\n",
      "           6       0.97      0.94      0.96        36\n",
      "           7       0.97      1.00      0.99        33\n",
      "           8       0.93      0.85      0.89        33\n",
      "           9       0.90      0.97      0.94        37\n",
      "\n",
      "    accuracy                           0.96       360\n",
      "   macro avg       0.96      0.96      0.96       360\n",
      "weighted avg       0.96      0.96      0.96       360\n",
      "\n"
     ]
    }
   ],
   "source": [
    "# Test 데이터로 예측\n",
    "y_pred = logistic_model.predict(X_test)\n",
    "\n",
    "# 예측 결과에 대한 평가\n",
    "print(classification_report(y_pred, y_test))"
   ]
  },
  {
   "cell_type": "markdown",
   "id": "2e4fc950",
   "metadata": {},
   "source": [
    "### 모델 평가\n",
    "모델을 평가할 지표를 선택한 후 모델들을 그 지표로 비교하면 된다. 주로 사용하는 지표들은 주로 Precision, Recall, F1 점수, Accuracy 등이 존재한다.   \n",
    "  \n",
    "우리는 현재 이미지 속의 숫자를 올바르게 구분할 수 있는 모델을 만들고자 한다. 단순히 이미지 속의 숫자가 무엇인지 맞추는 것 자체가 목적이기 때문에 Precision과 Recall 중에 어느 것이 특별히 더 중요하다고 하기 어렵다고 생각한다. 그렇기 때문에 여기서 True Negative와 False Positive가 모두 고려가 되는 __F1 점수를 사용하여 평가하는 것이 적절하다__. 또한 확실하지는 않지만, 어떤 예측 결과가 실제로 틀린 경우를 옳다고 하는 False Postive인지 또는 옳았는데 틀렸다고 하는 False Negative인지보다는 이렇게 예측하여 결국 맞았는지 틀렸는지 자체가 중요하기 때문에, F1점수 외에도 Accuracy를 사용해도 크게 문제가 되지 않을 것 같다. \n",
    "  \n",
    "그래도 일단 F1 점수를 모델별로 비교해본다면, SVM 모델이 평균적으로 0.99의 f1-score를 갖는데 이것이 다섯 모델 중 가장 높다는 것을 확인할 수 있다. 또한 F1 점수뿐만 아니라 Precision, Recall, Accuracy 모두 0.99가 나와, 다른 지표를 이용해도 SVM이 가장 성능이 좋다고 판단할 수 있다. "
   ]
  },
  {
   "cell_type": "markdown",
   "id": "0d165b23",
   "metadata": {},
   "source": [
    "## (2) 와인 분류"
   ]
  },
  {
   "cell_type": "code",
   "execution_count": 99,
   "id": "87622c85",
   "metadata": {},
   "outputs": [],
   "source": [
    "from sklearn.datasets import load_wine"
   ]
  },
  {
   "cell_type": "markdown",
   "id": "baba1eb8",
   "metadata": {},
   "source": [
    "### 데이터 준비"
   ]
  },
  {
   "cell_type": "code",
   "execution_count": 100,
   "id": "8b496eb2",
   "metadata": {},
   "outputs": [],
   "source": [
    "# 와인 데이터 로딩\n",
    "wine = load_wine()"
   ]
  },
  {
   "cell_type": "markdown",
   "id": "d1096922",
   "metadata": {},
   "source": [
    "### 데이터 이해하기"
   ]
  },
  {
   "cell_type": "code",
   "execution_count": 101,
   "id": "17fba1bd",
   "metadata": {},
   "outputs": [
    {
     "name": "stdout",
     "output_type": "stream",
     "text": [
      ".. _wine_dataset:\n",
      "\n",
      "Wine recognition dataset\n",
      "------------------------\n",
      "\n",
      "**Data Set Characteristics:**\n",
      "\n",
      "    :Number of Instances: 178 (50 in each of three classes)\n",
      "    :Number of Attributes: 13 numeric, predictive attributes and the class\n",
      "    :Attribute Information:\n",
      " \t\t- Alcohol\n",
      " \t\t- Malic acid\n",
      " \t\t- Ash\n",
      "\t\t- Alcalinity of ash  \n",
      " \t\t- Magnesium\n",
      "\t\t- Total phenols\n",
      " \t\t- Flavanoids\n",
      " \t\t- Nonflavanoid phenols\n",
      " \t\t- Proanthocyanins\n",
      "\t\t- Color intensity\n",
      " \t\t- Hue\n",
      " \t\t- OD280/OD315 of diluted wines\n",
      " \t\t- Proline\n",
      "\n",
      "    - class:\n",
      "            - class_0\n",
      "            - class_1\n",
      "            - class_2\n",
      "\t\t\n",
      "    :Summary Statistics:\n",
      "    \n",
      "    ============================= ==== ===== ======= =====\n",
      "                                   Min   Max   Mean     SD\n",
      "    ============================= ==== ===== ======= =====\n",
      "    Alcohol:                      11.0  14.8    13.0   0.8\n",
      "    Malic Acid:                   0.74  5.80    2.34  1.12\n",
      "    Ash:                          1.36  3.23    2.36  0.27\n",
      "    Alcalinity of Ash:            10.6  30.0    19.5   3.3\n",
      "    Magnesium:                    70.0 162.0    99.7  14.3\n",
      "    Total Phenols:                0.98  3.88    2.29  0.63\n",
      "    Flavanoids:                   0.34  5.08    2.03  1.00\n",
      "    Nonflavanoid Phenols:         0.13  0.66    0.36  0.12\n",
      "    Proanthocyanins:              0.41  3.58    1.59  0.57\n",
      "    Colour Intensity:              1.3  13.0     5.1   2.3\n",
      "    Hue:                          0.48  1.71    0.96  0.23\n",
      "    OD280/OD315 of diluted wines: 1.27  4.00    2.61  0.71\n",
      "    Proline:                       278  1680     746   315\n",
      "    ============================= ==== ===== ======= =====\n",
      "\n",
      "    :Missing Attribute Values: None\n",
      "    :Class Distribution: class_0 (59), class_1 (71), class_2 (48)\n",
      "    :Creator: R.A. Fisher\n",
      "    :Donor: Michael Marshall (MARSHALL%PLU@io.arc.nasa.gov)\n",
      "    :Date: July, 1988\n",
      "\n",
      "This is a copy of UCI ML Wine recognition datasets.\n",
      "https://archive.ics.uci.edu/ml/machine-learning-databases/wine/wine.data\n",
      "\n",
      "The data is the results of a chemical analysis of wines grown in the same\n",
      "region in Italy by three different cultivators. There are thirteen different\n",
      "measurements taken for different constituents found in the three types of\n",
      "wine.\n",
      "\n",
      "Original Owners: \n",
      "\n",
      "Forina, M. et al, PARVUS - \n",
      "An Extendible Package for Data Exploration, Classification and Correlation. \n",
      "Institute of Pharmaceutical and Food Analysis and Technologies,\n",
      "Via Brigata Salerno, 16147 Genoa, Italy.\n",
      "\n",
      "Citation:\n",
      "\n",
      "Lichman, M. (2013). UCI Machine Learning Repository\n",
      "[https://archive.ics.uci.edu/ml]. Irvine, CA: University of California,\n",
      "School of Information and Computer Science. \n",
      "\n",
      ".. topic:: References\n",
      "\n",
      "  (1) S. Aeberhard, D. Coomans and O. de Vel, \n",
      "  Comparison of Classifiers in High Dimensional Settings, \n",
      "  Tech. Rep. no. 92-02, (1992), Dept. of Computer Science and Dept. of  \n",
      "  Mathematics and Statistics, James Cook University of North Queensland. \n",
      "  (Also submitted to Technometrics). \n",
      "\n",
      "  The data was used with many others for comparing various \n",
      "  classifiers. The classes are separable, though only RDA \n",
      "  has achieved 100% correct classification. \n",
      "  (RDA : 100%, QDA 99.4%, LDA 98.9%, 1NN 96.1% (z-transformed data)) \n",
      "  (All results using the leave-one-out technique) \n",
      "\n",
      "  (2) S. Aeberhard, D. Coomans and O. de Vel, \n",
      "  \"THE CLASSIFICATION PERFORMANCE OF RDA\" \n",
      "  Tech. Rep. no. 92-01, (1992), Dept. of Computer Science and Dept. of \n",
      "  Mathematics and Statistics, James Cook University of North Queensland. \n",
      "  (Also submitted to Journal of Chemometrics).\n",
      "\n"
     ]
    }
   ],
   "source": [
    "print(wine.DESCR)"
   ]
  },
  {
   "cell_type": "code",
   "execution_count": 102,
   "id": "eeb2eb6b",
   "metadata": {},
   "outputs": [
    {
     "data": {
      "text/plain": [
       "['alcohol',\n",
       " 'malic_acid',\n",
       " 'ash',\n",
       " 'alcalinity_of_ash',\n",
       " 'magnesium',\n",
       " 'total_phenols',\n",
       " 'flavanoids',\n",
       " 'nonflavanoid_phenols',\n",
       " 'proanthocyanins',\n",
       " 'color_intensity',\n",
       " 'hue',\n",
       " 'od280/od315_of_diluted_wines',\n",
       " 'proline']"
      ]
     },
     "execution_count": 102,
     "metadata": {},
     "output_type": "execute_result"
    }
   ],
   "source": [
    "wine.feature_names"
   ]
  },
  {
   "cell_type": "code",
   "execution_count": 103,
   "id": "b52b50fc",
   "metadata": {},
   "outputs": [
    {
     "data": {
      "text/plain": [
       "array(['class_0', 'class_1', 'class_2'], dtype='<U7')"
      ]
     },
     "execution_count": 103,
     "metadata": {},
     "output_type": "execute_result"
    }
   ],
   "source": [
    "wine.target_names"
   ]
  },
  {
   "cell_type": "markdown",
   "id": "c7248ec2",
   "metadata": {},
   "source": [
    "와인 데이터는 손글씨 데이터보다 DESCR이 자세하게 기술되어 있다. 사실 feature 이름이나 class/label 이름 모두 DESCR에 나와있지만 다시 한번 확인하기 위해서 출력하였다. 와인 데이터에는 와인에 대한 화학적 성분 또는 색깔 등의 여러 특징인 13개의 feature에 대한 정보가 포함되어 있고, class/label은 class 0~2, 즉 3개의 클래스로 구성되어 있다. 와인 데이터의 DESCR에는 클래스별 데이터의 분포에 대한 정보도 있는데, class_0은 59, class_1은 71, class_2는 48, 이렇게 분포되어 있다. 1800장 가까이 있던 손글씨 데이터셋에 비해 양이 거의 10분의 1밖에 되지 않는다."
   ]
  },
  {
   "cell_type": "code",
   "execution_count": 104,
   "id": "a45230d1",
   "metadata": {},
   "outputs": [],
   "source": [
    "# 데이터셋의 Feature Data와 Label Data를 나눠서 저장\n",
    "wine_data = wine.data\n",
    "wine_labels = wine.target"
   ]
  },
  {
   "cell_type": "code",
   "execution_count": 105,
   "id": "515a9d2b",
   "metadata": {},
   "outputs": [
    {
     "data": {
      "text/plain": [
       "(178, 13)"
      ]
     },
     "execution_count": 105,
     "metadata": {},
     "output_type": "execute_result"
    }
   ],
   "source": [
    "wine_data.shape"
   ]
  },
  {
   "cell_type": "code",
   "execution_count": 145,
   "id": "8225b5ec",
   "metadata": {},
   "outputs": [
    {
     "data": {
      "text/plain": [
       "(178,)"
      ]
     },
     "execution_count": 145,
     "metadata": {},
     "output_type": "execute_result"
    }
   ],
   "source": [
    "wine_labels.shape"
   ]
  },
  {
   "cell_type": "markdown",
   "id": "36510e78",
   "metadata": {},
   "source": [
    "Feature data와 Label들을 각각 digits_data와 digits_label에 저장하였다. 데이터의 개수는 DESCR에 기술되어 있는 것과 일치한다. "
   ]
  },
  {
   "cell_type": "markdown",
   "id": "0feee1be",
   "metadata": {},
   "source": [
    "### Train과 Test 데이터로 분리"
   ]
  },
  {
   "cell_type": "code",
   "execution_count": 163,
   "id": "286d6f41",
   "metadata": {},
   "outputs": [],
   "source": [
    "X_train, X_test, y_train, y_test = train_test_split(wine_data, wine_labels, test_size=0.2, random_state=42)"
   ]
  },
  {
   "cell_type": "code",
   "execution_count": 147,
   "id": "0bd5b76d",
   "metadata": {},
   "outputs": [
    {
     "name": "stdout",
     "output_type": "stream",
     "text": [
      "X_train shape :  (142, 13)\n",
      "X_test shape :  (36, 13)\n",
      "y_train shape :  (142,)\n",
      "y_test shape :  (36,)\n"
     ]
    }
   ],
   "source": [
    "print(\"X_train shape : \", X_train.shape)\n",
    "print(\"X_test shape : \", X_test.shape)\n",
    "print(\"y_train shape : \", y_train.shape)\n",
    "print(\"y_test shape : \", y_test.shape)"
   ]
  },
  {
   "cell_type": "markdown",
   "id": "f60cca9c",
   "metadata": {},
   "source": [
    "### 모델 학습\n",
    "#### (1) Decision Tree 모델"
   ]
  },
  {
   "cell_type": "code",
   "execution_count": 148,
   "id": "3c1f08da",
   "metadata": {},
   "outputs": [
    {
     "data": {
      "text/plain": [
       "DecisionTreeClassifier(random_state=42)"
      ]
     },
     "execution_count": 148,
     "metadata": {},
     "output_type": "execute_result"
    }
   ],
   "source": [
    "# Classifier 생성\n",
    "decision_tree = DecisionTreeClassifier(random_state = 42)\n",
    "\n",
    "# 데이터에 fit (학습)\n",
    "decision_tree.fit(X_train, y_train)"
   ]
  },
  {
   "cell_type": "code",
   "execution_count": 149,
   "id": "94eaab8b",
   "metadata": {},
   "outputs": [
    {
     "name": "stdout",
     "output_type": "stream",
     "text": [
      "              precision    recall  f1-score   support\n",
      "\n",
      "           0       0.93      0.93      0.93        14\n",
      "           1       1.00      0.93      0.97        15\n",
      "           2       0.88      1.00      0.93         7\n",
      "\n",
      "    accuracy                           0.94        36\n",
      "   macro avg       0.93      0.95      0.94        36\n",
      "weighted avg       0.95      0.94      0.94        36\n",
      "\n"
     ]
    }
   ],
   "source": [
    "# Test 데이터로 예측 \n",
    "y_pred = decision_tree.predict(X_test)\n",
    "\n",
    "# 예측 결과에 대한 평가\n",
    "print(classification_report(y_pred, y_test))"
   ]
  },
  {
   "cell_type": "markdown",
   "id": "f664f79a",
   "metadata": {},
   "source": [
    "#### (2) Random Forest 모델"
   ]
  },
  {
   "cell_type": "code",
   "execution_count": 150,
   "id": "1e91f494",
   "metadata": {},
   "outputs": [
    {
     "data": {
      "text/plain": [
       "RandomForestClassifier(random_state=42)"
      ]
     },
     "execution_count": 150,
     "metadata": {},
     "output_type": "execute_result"
    }
   ],
   "source": [
    "# Classifier 생성\n",
    "random_forest = RandomForestClassifier(random_state = 42)\n",
    "\n",
    "# 데이터에 fit (학습)\n",
    "random_forest.fit(X_train, y_train)"
   ]
  },
  {
   "cell_type": "code",
   "execution_count": 151,
   "id": "b3363e37",
   "metadata": {},
   "outputs": [
    {
     "name": "stdout",
     "output_type": "stream",
     "text": [
      "              precision    recall  f1-score   support\n",
      "\n",
      "           0       1.00      1.00      1.00        14\n",
      "           1       1.00      1.00      1.00        14\n",
      "           2       1.00      1.00      1.00         8\n",
      "\n",
      "    accuracy                           1.00        36\n",
      "   macro avg       1.00      1.00      1.00        36\n",
      "weighted avg       1.00      1.00      1.00        36\n",
      "\n"
     ]
    }
   ],
   "source": [
    "# Test 데이터로 예측\n",
    "y_pred = random_forest.predict(X_test)\n",
    "\n",
    "# 예측 결과에 대한 평가\n",
    "print(classification_report(y_pred, y_test))"
   ]
  },
  {
   "cell_type": "markdown",
   "id": "112f82da",
   "metadata": {},
   "source": [
    "#### (3) SVM(Support Vector Machine) 모델"
   ]
  },
  {
   "cell_type": "code",
   "execution_count": 152,
   "id": "5a40956e",
   "metadata": {},
   "outputs": [
    {
     "data": {
      "text/plain": [
       "SVC()"
      ]
     },
     "execution_count": 152,
     "metadata": {},
     "output_type": "execute_result"
    }
   ],
   "source": [
    "# Classifier 생성\n",
    "svm_model = svm.SVC()\n",
    "\n",
    "# 데이터에 fit(학습)\n",
    "svm_model.fit(X_train, y_train)"
   ]
  },
  {
   "cell_type": "code",
   "execution_count": 153,
   "id": "9aa04bae",
   "metadata": {},
   "outputs": [
    {
     "name": "stdout",
     "output_type": "stream",
     "text": [
      "              precision    recall  f1-score   support\n",
      "\n",
      "           0       1.00      1.00      1.00        14\n",
      "           1       0.79      0.73      0.76        15\n",
      "           2       0.50      0.57      0.53         7\n",
      "\n",
      "    accuracy                           0.81        36\n",
      "   macro avg       0.76      0.77      0.76        36\n",
      "weighted avg       0.81      0.81      0.81        36\n",
      "\n"
     ]
    }
   ],
   "source": [
    "# Test 데이터로 예측\n",
    "y_pred = svm_model.predict(X_test)\n",
    "\n",
    "# 예측 결과에 대한 평가\n",
    "print(classification_report(y_pred, y_test))"
   ]
  },
  {
   "cell_type": "markdown",
   "id": "171039cb",
   "metadata": {},
   "source": [
    "#### (4) SGD Classifier 모델"
   ]
  },
  {
   "cell_type": "code",
   "execution_count": 154,
   "id": "61ac68bc",
   "metadata": {},
   "outputs": [
    {
     "data": {
      "text/plain": [
       "SGDClassifier()"
      ]
     },
     "execution_count": 154,
     "metadata": {},
     "output_type": "execute_result"
    }
   ],
   "source": [
    "# Classifier 생성\n",
    "sgd_model = SGDClassifier()\n",
    "\n",
    "# 데이터에 fit(학습)\n",
    "sgd_model.fit(X_train, y_train)"
   ]
  },
  {
   "cell_type": "code",
   "execution_count": 155,
   "id": "0c1a256b",
   "metadata": {},
   "outputs": [
    {
     "name": "stdout",
     "output_type": "stream",
     "text": [
      "              precision    recall  f1-score   support\n",
      "\n",
      "           0       1.00      0.67      0.80        21\n",
      "           1       0.07      1.00      0.13         1\n",
      "           2       0.62      0.36      0.45        14\n",
      "\n",
      "    accuracy                           0.56        36\n",
      "   macro avg       0.57      0.67      0.46        36\n",
      "weighted avg       0.83      0.56      0.65        36\n",
      "\n"
     ]
    }
   ],
   "source": [
    "# Test 데이터로 예측\n",
    "y_pred = sgd_model.predict(X_test)\n",
    "\n",
    "# 예측 결과에 대한 평가\n",
    "print(classification_report(y_pred, y_test))"
   ]
  },
  {
   "cell_type": "markdown",
   "id": "766d9745",
   "metadata": {},
   "source": [
    "#### (5) Logistic Regression 모델"
   ]
  },
  {
   "cell_type": "code",
   "execution_count": 164,
   "id": "0f411538",
   "metadata": {},
   "outputs": [
    {
     "data": {
      "text/plain": [
       "LogisticRegression(solver='liblinear')"
      ]
     },
     "execution_count": 164,
     "metadata": {},
     "output_type": "execute_result"
    }
   ],
   "source": [
    "# Classifier 생성\n",
    "logistic_model = LogisticRegression(solver = 'liblinear')\n",
    "\n",
    "# 데이터에 fit(학습)\n",
    "logistic_model.fit(X_train, y_train)"
   ]
  },
  {
   "cell_type": "code",
   "execution_count": 165,
   "id": "5f89421f",
   "metadata": {},
   "outputs": [
    {
     "name": "stdout",
     "output_type": "stream",
     "text": [
      "              precision    recall  f1-score   support\n",
      "\n",
      "           0       0.93      1.00      0.96        13\n",
      "           1       1.00      0.93      0.97        15\n",
      "           2       1.00      1.00      1.00         8\n",
      "\n",
      "    accuracy                           0.97        36\n",
      "   macro avg       0.98      0.98      0.98        36\n",
      "weighted avg       0.97      0.97      0.97        36\n",
      "\n"
     ]
    }
   ],
   "source": [
    "# Test 데이터로 예측\n",
    "y_pred = logistic_model.predict(X_test)\n",
    "\n",
    "# 예측 결과에 대한 평가\n",
    "print(classification_report(y_pred, y_test))"
   ]
  },
  {
   "cell_type": "markdown",
   "id": "be6eecde",
   "metadata": {},
   "source": [
    "### 모델 평가\n",
    "이 데이터셋의 경우에도 손글씨 분류와 비슷한 느낌으로 와인의 3가지 종류를 분류하는 것 자체가 목적이다. 그렇기 때문에 비슷하게 Precision이나 Recall 한 쪽에 중점을 주는 것보다 False Positive와 False Negative를 모두 반영한 __F1점수를 평가 지표로 활용하는 것이 적절하다__.  \n",
    "  \n",
    "고민을 해보니, Precision 또는 Recall 중 하나를 더 중요하게 보는 상황은 이런 여러 클래스로 분류하는 multiclass classification의 경우보다 이진분류(binary classification)의 경우에 더 적합할 것 같다. 이번 노드에서 예시로 든 암환자 또는 스팸메일과 같은 경우 모두 암인지 아닌지, 스팸인지 아닌지처럼 이진분류이다. 이렇게 클래스가 여러 개인 경우에서는 하나의 틀린 케이스가 갖는 의미가 이진분류에서만큼 크거나 확실하지 않아서인 것 같다.  \n",
    "  \n",
    "어쨋든, F1 점수를 이용하여 다섯 모델을 비교해보면, Random Forest 모델이 1.0 가장 높다. 뿐만 아니라, 이 모델은 test set을 완벽하게 분류하여 recall, precision, accuracy 모두 1.0으로 완벽한 성능을 보여주었다. 아마 데이터셋의 크기가 작기 때문에 가능했을 것 같다. "
   ]
  },
  {
   "cell_type": "markdown",
   "id": "57a8e343",
   "metadata": {},
   "source": [
    "## (3) 유방암 여부 진단\n"
   ]
  },
  {
   "cell_type": "code",
   "execution_count": 166,
   "id": "af81f0e9",
   "metadata": {},
   "outputs": [],
   "source": [
    "from sklearn.datasets import load_breast_cancer"
   ]
  },
  {
   "cell_type": "markdown",
   "id": "40f56946",
   "metadata": {},
   "source": [
    "### 데이터 준비"
   ]
  },
  {
   "cell_type": "code",
   "execution_count": 171,
   "id": "a254c662",
   "metadata": {},
   "outputs": [],
   "source": [
    "# 유방암 데이터 로딩\n",
    "cancer = load_breast_cancer()"
   ]
  },
  {
   "cell_type": "markdown",
   "id": "d6ed9e09",
   "metadata": {},
   "source": [
    "### 데이터 이해하기"
   ]
  },
  {
   "cell_type": "code",
   "execution_count": 172,
   "id": "20b13e2b",
   "metadata": {},
   "outputs": [
    {
     "name": "stdout",
     "output_type": "stream",
     "text": [
      ".. _breast_cancer_dataset:\n",
      "\n",
      "Breast cancer wisconsin (diagnostic) dataset\n",
      "--------------------------------------------\n",
      "\n",
      "**Data Set Characteristics:**\n",
      "\n",
      "    :Number of Instances: 569\n",
      "\n",
      "    :Number of Attributes: 30 numeric, predictive attributes and the class\n",
      "\n",
      "    :Attribute Information:\n",
      "        - radius (mean of distances from center to points on the perimeter)\n",
      "        - texture (standard deviation of gray-scale values)\n",
      "        - perimeter\n",
      "        - area\n",
      "        - smoothness (local variation in radius lengths)\n",
      "        - compactness (perimeter^2 / area - 1.0)\n",
      "        - concavity (severity of concave portions of the contour)\n",
      "        - concave points (number of concave portions of the contour)\n",
      "        - symmetry\n",
      "        - fractal dimension (\"coastline approximation\" - 1)\n",
      "\n",
      "        The mean, standard error, and \"worst\" or largest (mean of the three\n",
      "        worst/largest values) of these features were computed for each image,\n",
      "        resulting in 30 features.  For instance, field 0 is Mean Radius, field\n",
      "        10 is Radius SE, field 20 is Worst Radius.\n",
      "\n",
      "        - class:\n",
      "                - WDBC-Malignant\n",
      "                - WDBC-Benign\n",
      "\n",
      "    :Summary Statistics:\n",
      "\n",
      "    ===================================== ====== ======\n",
      "                                           Min    Max\n",
      "    ===================================== ====== ======\n",
      "    radius (mean):                        6.981  28.11\n",
      "    texture (mean):                       9.71   39.28\n",
      "    perimeter (mean):                     43.79  188.5\n",
      "    area (mean):                          143.5  2501.0\n",
      "    smoothness (mean):                    0.053  0.163\n",
      "    compactness (mean):                   0.019  0.345\n",
      "    concavity (mean):                     0.0    0.427\n",
      "    concave points (mean):                0.0    0.201\n",
      "    symmetry (mean):                      0.106  0.304\n",
      "    fractal dimension (mean):             0.05   0.097\n",
      "    radius (standard error):              0.112  2.873\n",
      "    texture (standard error):             0.36   4.885\n",
      "    perimeter (standard error):           0.757  21.98\n",
      "    area (standard error):                6.802  542.2\n",
      "    smoothness (standard error):          0.002  0.031\n",
      "    compactness (standard error):         0.002  0.135\n",
      "    concavity (standard error):           0.0    0.396\n",
      "    concave points (standard error):      0.0    0.053\n",
      "    symmetry (standard error):            0.008  0.079\n",
      "    fractal dimension (standard error):   0.001  0.03\n",
      "    radius (worst):                       7.93   36.04\n",
      "    texture (worst):                      12.02  49.54\n",
      "    perimeter (worst):                    50.41  251.2\n",
      "    area (worst):                         185.2  4254.0\n",
      "    smoothness (worst):                   0.071  0.223\n",
      "    compactness (worst):                  0.027  1.058\n",
      "    concavity (worst):                    0.0    1.252\n",
      "    concave points (worst):               0.0    0.291\n",
      "    symmetry (worst):                     0.156  0.664\n",
      "    fractal dimension (worst):            0.055  0.208\n",
      "    ===================================== ====== ======\n",
      "\n",
      "    :Missing Attribute Values: None\n",
      "\n",
      "    :Class Distribution: 212 - Malignant, 357 - Benign\n",
      "\n",
      "    :Creator:  Dr. William H. Wolberg, W. Nick Street, Olvi L. Mangasarian\n",
      "\n",
      "    :Donor: Nick Street\n",
      "\n",
      "    :Date: November, 1995\n",
      "\n",
      "This is a copy of UCI ML Breast Cancer Wisconsin (Diagnostic) datasets.\n",
      "https://goo.gl/U2Uwz2\n",
      "\n",
      "Features are computed from a digitized image of a fine needle\n",
      "aspirate (FNA) of a breast mass.  They describe\n",
      "characteristics of the cell nuclei present in the image.\n",
      "\n",
      "Separating plane described above was obtained using\n",
      "Multisurface Method-Tree (MSM-T) [K. P. Bennett, \"Decision Tree\n",
      "Construction Via Linear Programming.\" Proceedings of the 4th\n",
      "Midwest Artificial Intelligence and Cognitive Science Society,\n",
      "pp. 97-101, 1992], a classification method which uses linear\n",
      "programming to construct a decision tree.  Relevant features\n",
      "were selected using an exhaustive search in the space of 1-4\n",
      "features and 1-3 separating planes.\n",
      "\n",
      "The actual linear program used to obtain the separating plane\n",
      "in the 3-dimensional space is that described in:\n",
      "[K. P. Bennett and O. L. Mangasarian: \"Robust Linear\n",
      "Programming Discrimination of Two Linearly Inseparable Sets\",\n",
      "Optimization Methods and Software 1, 1992, 23-34].\n",
      "\n",
      "This database is also available through the UW CS ftp server:\n",
      "\n",
      "ftp ftp.cs.wisc.edu\n",
      "cd math-prog/cpo-dataset/machine-learn/WDBC/\n",
      "\n",
      ".. topic:: References\n",
      "\n",
      "   - W.N. Street, W.H. Wolberg and O.L. Mangasarian. Nuclear feature extraction \n",
      "     for breast tumor diagnosis. IS&T/SPIE 1993 International Symposium on \n",
      "     Electronic Imaging: Science and Technology, volume 1905, pages 861-870,\n",
      "     San Jose, CA, 1993.\n",
      "   - O.L. Mangasarian, W.N. Street and W.H. Wolberg. Breast cancer diagnosis and \n",
      "     prognosis via linear programming. Operations Research, 43(4), pages 570-577, \n",
      "     July-August 1995.\n",
      "   - W.H. Wolberg, W.N. Street, and O.L. Mangasarian. Machine learning techniques\n",
      "     to diagnose breast cancer from fine-needle aspirates. Cancer Letters 77 (1994) \n",
      "     163-171.\n"
     ]
    }
   ],
   "source": [
    "print(cancer.DESCR)"
   ]
  },
  {
   "cell_type": "code",
   "execution_count": 173,
   "id": "70254e64",
   "metadata": {},
   "outputs": [
    {
     "data": {
      "text/plain": [
       "array(['mean radius', 'mean texture', 'mean perimeter', 'mean area',\n",
       "       'mean smoothness', 'mean compactness', 'mean concavity',\n",
       "       'mean concave points', 'mean symmetry', 'mean fractal dimension',\n",
       "       'radius error', 'texture error', 'perimeter error', 'area error',\n",
       "       'smoothness error', 'compactness error', 'concavity error',\n",
       "       'concave points error', 'symmetry error',\n",
       "       'fractal dimension error', 'worst radius', 'worst texture',\n",
       "       'worst perimeter', 'worst area', 'worst smoothness',\n",
       "       'worst compactness', 'worst concavity', 'worst concave points',\n",
       "       'worst symmetry', 'worst fractal dimension'], dtype='<U23')"
      ]
     },
     "execution_count": 173,
     "metadata": {},
     "output_type": "execute_result"
    }
   ],
   "source": [
    "cancer.feature_names"
   ]
  },
  {
   "cell_type": "code",
   "execution_count": 174,
   "id": "365d61b2",
   "metadata": {},
   "outputs": [
    {
     "data": {
      "text/plain": [
       "array(['malignant', 'benign'], dtype='<U9')"
      ]
     },
     "execution_count": 174,
     "metadata": {},
     "output_type": "execute_result"
    }
   ],
   "source": [
    "cancer.target_names"
   ]
  },
  {
   "cell_type": "markdown",
   "id": "25c0e846",
   "metadata": {},
   "source": [
    "이번 데이터셋의 DESCR도 데이터에 대해 자세하게 기술되어있다. 총 데이터의 개수는 569개이고 label/class는 악성과 양성을 뜻하는 WDBC-Malignant와 WDBC-Benign 두 개로 각각 212, 357개가 존재한다. Feature는 총 30개로, radius, texture와 같은 attribute 10가지가 각각 mean, standard error, worst 3 종류씩 계산이 되어 30개가 된다. 이번 데이터셋을 통해서 이진분류(binary classification)를 할 예정이다. "
   ]
  },
  {
   "cell_type": "code",
   "execution_count": 175,
   "id": "aa57e08d",
   "metadata": {},
   "outputs": [],
   "source": [
    "# 데이터셋의 Feature Data와 Label Data를 나눠서 저장\n",
    "cancer_data = cancer.data\n",
    "cancer_labels = cancer.target"
   ]
  },
  {
   "cell_type": "code",
   "execution_count": 176,
   "id": "c0464441",
   "metadata": {},
   "outputs": [
    {
     "data": {
      "text/plain": [
       "(569, 30)"
      ]
     },
     "execution_count": 176,
     "metadata": {},
     "output_type": "execute_result"
    }
   ],
   "source": [
    "cancer_data.shape"
   ]
  },
  {
   "cell_type": "code",
   "execution_count": 177,
   "id": "445c9193",
   "metadata": {},
   "outputs": [
    {
     "data": {
      "text/plain": [
       "(569,)"
      ]
     },
     "execution_count": 177,
     "metadata": {},
     "output_type": "execute_result"
    }
   ],
   "source": [
    "cancer_labels.shape"
   ]
  },
  {
   "cell_type": "markdown",
   "id": "344fe870",
   "metadata": {},
   "source": [
    "유방암 데이터셋을 Feature Data와 Label Data로 나누어 cancer_data와 cancer_labels에 저장하였다. shape을 확인하니 제대로 나뉜 것을 확인할 수 있다. "
   ]
  },
  {
   "cell_type": "markdown",
   "id": "ac638bc5",
   "metadata": {},
   "source": [
    "### Train과 Test 데이터로 분리"
   ]
  },
  {
   "cell_type": "code",
   "execution_count": 178,
   "id": "c4287dd5",
   "metadata": {},
   "outputs": [],
   "source": [
    "X_train, X_test, y_train, y_test = train_test_split(cancer_data, cancer_labels, test_size=0.2, random_state=42)"
   ]
  },
  {
   "cell_type": "code",
   "execution_count": 179,
   "id": "bd435cd0",
   "metadata": {},
   "outputs": [
    {
     "name": "stdout",
     "output_type": "stream",
     "text": [
      "X_train shape :  (455, 30)\n",
      "X_test shape :  (114, 30)\n",
      "y_train shape :  (455,)\n",
      "y_test shape :  (114,)\n"
     ]
    }
   ],
   "source": [
    "print(\"X_train shape : \", X_train.shape)\n",
    "print(\"X_test shape : \", X_test.shape)\n",
    "print(\"y_train shape : \", y_train.shape)\n",
    "print(\"y_test shape : \", y_test.shape)"
   ]
  },
  {
   "cell_type": "markdown",
   "id": "a3328f21",
   "metadata": {},
   "source": [
    "### 모델 학습\n",
    "#### (1) Decision Tree 모델"
   ]
  },
  {
   "cell_type": "code",
   "execution_count": 180,
   "id": "75e52552",
   "metadata": {},
   "outputs": [
    {
     "data": {
      "text/plain": [
       "DecisionTreeClassifier(random_state=42)"
      ]
     },
     "execution_count": 180,
     "metadata": {},
     "output_type": "execute_result"
    }
   ],
   "source": [
    "# Classifier 생성\n",
    "decision_tree = DecisionTreeClassifier(random_state = 42)\n",
    "\n",
    "# 데이터에 fit (학습)\n",
    "decision_tree.fit(X_train, y_train)"
   ]
  },
  {
   "cell_type": "code",
   "execution_count": 181,
   "id": "68927077",
   "metadata": {},
   "outputs": [
    {
     "name": "stdout",
     "output_type": "stream",
     "text": [
      "              precision    recall  f1-score   support\n",
      "\n",
      "           0       0.93      0.93      0.93        43\n",
      "           1       0.96      0.96      0.96        71\n",
      "\n",
      "    accuracy                           0.95       114\n",
      "   macro avg       0.94      0.94      0.94       114\n",
      "weighted avg       0.95      0.95      0.95       114\n",
      "\n"
     ]
    }
   ],
   "source": [
    "# Test 데이터로 예측 \n",
    "y_pred = decision_tree.predict(X_test)\n",
    "\n",
    "# 예측 결과에 대한 평가\n",
    "print(classification_report(y_pred, y_test))"
   ]
  },
  {
   "cell_type": "markdown",
   "id": "60723132",
   "metadata": {},
   "source": [
    "#### (2) Random Forest 모델"
   ]
  },
  {
   "cell_type": "code",
   "execution_count": 182,
   "id": "509120cc",
   "metadata": {},
   "outputs": [
    {
     "data": {
      "text/plain": [
       "RandomForestClassifier(random_state=42)"
      ]
     },
     "execution_count": 182,
     "metadata": {},
     "output_type": "execute_result"
    }
   ],
   "source": [
    "# Classifier 생성\n",
    "random_forest = RandomForestClassifier(random_state = 42)\n",
    "\n",
    "# 데이터에 fit (학습)\n",
    "random_forest.fit(X_train, y_train)"
   ]
  },
  {
   "cell_type": "code",
   "execution_count": 183,
   "id": "cac3b9e4",
   "metadata": {},
   "outputs": [
    {
     "name": "stdout",
     "output_type": "stream",
     "text": [
      "              precision    recall  f1-score   support\n",
      "\n",
      "           0       0.93      0.98      0.95        41\n",
      "           1       0.99      0.96      0.97        73\n",
      "\n",
      "    accuracy                           0.96       114\n",
      "   macro avg       0.96      0.97      0.96       114\n",
      "weighted avg       0.97      0.96      0.97       114\n",
      "\n"
     ]
    }
   ],
   "source": [
    "# Test 데이터로 예측\n",
    "y_pred = random_forest.predict(X_test)\n",
    "\n",
    "# 예측 결과에 대한 평가\n",
    "print(classification_report(y_pred, y_test))"
   ]
  },
  {
   "cell_type": "markdown",
   "id": "a031f3f8",
   "metadata": {},
   "source": [
    "#### (3) SVM(Support Vector Machine) 모델"
   ]
  },
  {
   "cell_type": "code",
   "execution_count": 185,
   "id": "83bd668f",
   "metadata": {},
   "outputs": [
    {
     "data": {
      "text/plain": [
       "SVC()"
      ]
     },
     "execution_count": 185,
     "metadata": {},
     "output_type": "execute_result"
    }
   ],
   "source": [
    "# Classifier 생성\n",
    "svm_model = svm.SVC()\n",
    "\n",
    "# 데이터에 fit(학습)\n",
    "svm_model.fit(X_train, y_train)"
   ]
  },
  {
   "cell_type": "code",
   "execution_count": 186,
   "id": "16ae23b3",
   "metadata": {},
   "outputs": [
    {
     "name": "stdout",
     "output_type": "stream",
     "text": [
      "              precision    recall  f1-score   support\n",
      "\n",
      "           0       0.86      1.00      0.92        37\n",
      "           1       1.00      0.92      0.96        77\n",
      "\n",
      "    accuracy                           0.95       114\n",
      "   macro avg       0.93      0.96      0.94       114\n",
      "weighted avg       0.95      0.95      0.95       114\n",
      "\n"
     ]
    }
   ],
   "source": [
    "# Test 데이터로 예측\n",
    "y_pred = svm_model.predict(X_test)\n",
    "\n",
    "# 예측 결과에 대한 평가\n",
    "print(classification_report(y_pred, y_test))"
   ]
  },
  {
   "cell_type": "markdown",
   "id": "79b0f8c4",
   "metadata": {},
   "source": [
    "#### (4) SGD Classifier 모델"
   ]
  },
  {
   "cell_type": "code",
   "execution_count": 187,
   "id": "e2a08a75",
   "metadata": {},
   "outputs": [
    {
     "data": {
      "text/plain": [
       "SGDClassifier()"
      ]
     },
     "execution_count": 187,
     "metadata": {},
     "output_type": "execute_result"
    }
   ],
   "source": [
    "# Classifier 생성\n",
    "sgd_model = SGDClassifier()\n",
    "\n",
    "# 데이터에 fit(학습)\n",
    "sgd_model.fit(X_train, y_train)"
   ]
  },
  {
   "cell_type": "code",
   "execution_count": 188,
   "id": "922c8bb5",
   "metadata": {},
   "outputs": [
    {
     "name": "stdout",
     "output_type": "stream",
     "text": [
      "              precision    recall  f1-score   support\n",
      "\n",
      "           0       0.72      1.00      0.84        31\n",
      "           1       1.00      0.86      0.92        83\n",
      "\n",
      "    accuracy                           0.89       114\n",
      "   macro avg       0.86      0.93      0.88       114\n",
      "weighted avg       0.92      0.89      0.90       114\n",
      "\n"
     ]
    }
   ],
   "source": [
    "# Test 데이터로 예측\n",
    "y_pred = sgd_model.predict(X_test)\n",
    "\n",
    "# 예측 결과에 대한 평가\n",
    "print(classification_report(y_pred, y_test))"
   ]
  },
  {
   "cell_type": "markdown",
   "id": "f0e73abf",
   "metadata": {},
   "source": [
    "#### (5) Logistic Regression Model"
   ]
  },
  {
   "cell_type": "code",
   "execution_count": 189,
   "id": "a98f0285",
   "metadata": {},
   "outputs": [
    {
     "data": {
      "text/plain": [
       "LogisticRegression(solver='liblinear')"
      ]
     },
     "execution_count": 189,
     "metadata": {},
     "output_type": "execute_result"
    }
   ],
   "source": [
    "# Classifier 생성\n",
    "logistic_model = LogisticRegression(solver = 'liblinear')\n",
    "\n",
    "# 데이터에 fit(학습)\n",
    "logistic_model.fit(X_train, y_train)"
   ]
  },
  {
   "cell_type": "code",
   "execution_count": 190,
   "id": "30c34238",
   "metadata": {},
   "outputs": [
    {
     "name": "stdout",
     "output_type": "stream",
     "text": [
      "              precision    recall  f1-score   support\n",
      "\n",
      "           0       0.91      0.97      0.94        40\n",
      "           1       0.99      0.95      0.97        74\n",
      "\n",
      "    accuracy                           0.96       114\n",
      "   macro avg       0.95      0.96      0.95       114\n",
      "weighted avg       0.96      0.96      0.96       114\n",
      "\n"
     ]
    }
   ],
   "source": [
    "# Test 데이터로 예측\n",
    "y_pred = logistic_model.predict(X_test)\n",
    "\n",
    "# 예측 결과에 대한 평가\n",
    "print(classification_report(y_pred, y_test))"
   ]
  },
  {
   "cell_type": "markdown",
   "id": "14dce36c",
   "metadata": {},
   "source": [
    "### 모델 평가"
   ]
  },
  {
   "cell_type": "markdown",
   "id": "8c48e054",
   "metadata": {},
   "source": [
    "이런 암 환자 진단과 같은 경우에는 Recall이 확실하게 Precision보다 중요하다. 그 이유는 실제로 음성인데 양성 판정을 한다면(False Positive - Precision에 영향) 좀 번거로울 수는 있어도 크게 문제가 되지 않는데, 양성이 음성 판정을 받는다면(False Negative- Recall에 영향), 환자가 치료를 받지 못 하게 되어 심각한 문제가 된다. 또한 데이터의 분포에 있어 두 클래스 간에 심각한 불균형이 있는 것은 아니기 때문에 오로지 Recall만 보고 판단해도 괜찮다. \n",
    "  \n",
    "이는 앞서 다룬 데이터와의 차이가 있는데, 암 환자 진단에 있어서 False Negative와 False Positive가 주는 영향이 서로 다르다면, 손글씨 분류 또는 와인 분류는 False Negative든 False Positive든 일단 틀렸다는 점이 중요하다는 것이다. 이전에는 F1 점수나 accuracy를 평가 지표로 이용했지만, 현재 암 환자 진단의 경우에는 recall을 이용하는 이유이다.    \n",
    "  \n",
    "어쨋든 그럼 Recall을 바탕으로 모델들을 평가하면, Random Forest 모델이 Recall macro average 0.97로 가장 성능이 뛰어나다. 근데 이전 데이터셋들에서와 마찬가지로 Recall뿐만 아니라 Precision, F1 점수, Accuracy 모두에서 다른 모델들보다 성능이 좋기 때문에 확실하게 이 경우에서는 Random Forest모델을 성능이 좋다고 할 수 있다. "
   ]
  },
  {
   "cell_type": "code",
   "execution_count": null,
   "id": "36a5b60a",
   "metadata": {},
   "outputs": [],
   "source": []
  }
 ],
 "metadata": {
  "kernelspec": {
   "display_name": "Python 3 (ipykernel)",
   "language": "python",
   "name": "python3"
  },
  "language_info": {
   "codemirror_mode": {
    "name": "ipython",
    "version": 3
   },
   "file_extension": ".py",
   "mimetype": "text/x-python",
   "name": "python",
   "nbconvert_exporter": "python",
   "pygments_lexer": "ipython3",
   "version": "3.9.7"
  }
 },
 "nbformat": 4,
 "nbformat_minor": 5
}
