{
 "cells": [
  {
   "cell_type": "code",
   "execution_count": 2,
   "id": "5ae90ecd",
   "metadata": {},
   "outputs": [],
   "source": [
    "import tensorflow as tf\n",
    "from tensorflow import keras\n",
    "\n",
    "import numpy as np\n",
    "import matplotlib.pyplot as plt\n",
    "import os\n",
    "from PIL import Image\n",
    "import glob\n",
    "import shutil"
   ]
  },
  {
   "cell_type": "markdown",
   "id": "47f4349a",
   "metadata": {},
   "source": [
    "## 데이터 전처리"
   ]
  },
  {
   "cell_type": "code",
   "execution_count": 62,
   "id": "7f685790",
   "metadata": {},
   "outputs": [],
   "source": [
    "def resize_images(img_path):\n",
    "\timages=glob.glob(img_path + \"/*.jpg\")  \n",
    "    \n",
    "\tprint(len(images), \" images to be resized.\")\n",
    "\n",
    "    # 파일마다 모두 28x28 사이즈로 바꾸어 저장합니다.\n",
    "\ttarget_size=(28,28)\n",
    "\tfor img in images:\n",
    "\t\told_img=Image.open(img)\n",
    "\t\tnew_img=old_img.resize(target_size,Image.ANTIALIAS)\n",
    "\t\tnew_img.save(img, \"JPEG\")\n",
    "    \n",
    "\tprint(len(images), \" images resized.\")\n"
   ]
  },
  {
   "cell_type": "code",
   "execution_count": 73,
   "id": "33631108",
   "metadata": {},
   "outputs": [
    {
     "name": "stdout",
     "output_type": "stream",
     "text": [
      "총 5명의 데이터가 모였습니다!!\n",
      "rock에 501개 \n",
      "scissor에 501개 \n",
      "paper에 501개 \n"
     ]
    }
   ],
   "source": [
    "#유저 여러명 데이터 모으기\n",
    "base_dir=os.getenv(\"HOME\")+'/aiffel/Exploration/EX1/data/other_users/'\n",
    "members = ['정우', '진영', '현지', '서현']\n",
    "# members = os.listdir(base_dir)\n",
    "categories = ['rock', 'scissor', 'paper']\n",
    "base_dst = os.getenv(\"HOME\")+'/aiffel/Exploration/EX1/data/data_all_users/'\n",
    "\n",
    "for member in members:\n",
    "    for category in categories:\n",
    "        path = os.path.join(base_dir, member, category)\n",
    "        for image in os.listdir(path):\n",
    "            if \".jpg\" in image:\n",
    "                image_rename = member + '_' + image\n",
    "                image_path_src = os.path.join(base_dir, member, category, image)\n",
    "                image_path_dst = os.path.join(base_dst, category, image_rename)\n",
    "                shutil.copyfile(image_path_src, image_path_dst)\n",
    "\n",
    "\n",
    "\n",
    "#본인 데이터 트레인 셋에 추가\n",
    "base_dir = os.getenv(\"HOME\")+'/aiffel/Exploration/EX1/data/rock_scissor_paper'\n",
    "for category in categories:\n",
    "    path = os.path.join(base_dir, category)\n",
    "    for image in os.listdir(path):\n",
    "        if '.jpg' in image:\n",
    "            image_rename = '현빈_' + image\n",
    "            image_path_src = os.path.join(base_dir, category, image)\n",
    "            image_path_dst = os.path.join(base_dst, category, image_rename)\n",
    "            shutil.copyfile(image_path_src, image_path_dst)\n",
    "            \n",
    "            \n",
    "print(f\"총 {len(members)+1}명의 데이터가 모였습니다!!\")\n",
    "\n",
    "for category in categories:\n",
    "    print(f\"{category}에 {len(os.listdir(base_dst+category))}개 \")"
   ]
  },
  {
   "cell_type": "code",
   "execution_count": 64,
   "id": "79af95ca",
   "metadata": {},
   "outputs": [
    {
     "name": "stdout",
     "output_type": "stream",
     "text": [
      "500  images to be resized.\n",
      "500  images resized.\n",
      "500  images to be resized.\n",
      "500  images resized.\n",
      "500  images to be resized.\n",
      "500  images resized.\n"
     ]
    }
   ],
   "source": [
    "#학습 데이터 크기 28x28로 조정\n",
    "for class_ in [\"rock\", \"scissor\", \"paper\"]:\n",
    "    image_dir_path = os.getenv(\"HOME\") + \"/aiffel/Exploration/EX1/data/data_all_users/\" + class_\n",
    "    resize_images(image_dir_path)"
   ]
  },
  {
   "cell_type": "markdown",
   "id": "0a1ae2c9",
   "metadata": {},
   "source": [
    "## 데이터 읽어오기"
   ]
  },
  {
   "cell_type": "code",
   "execution_count": 65,
   "id": "fc74a355",
   "metadata": {},
   "outputs": [],
   "source": [
    "def load_data(img_path, number_of_data=300):  # 가위바위보 이미지 개수 총합에 주의하세요.\n",
    "    # 가위 : 0, 바위 : 1, 보 : 2\n",
    "    img_size=28\n",
    "    color=3\n",
    "    #이미지 데이터와 라벨(가위 : 0, 바위 : 1, 보 : 2) 데이터를 담을 행렬(matrix) 영역을 생성합니다.\n",
    "    imgs=np.zeros(number_of_data*img_size*img_size*color,dtype=np.int32).reshape(number_of_data,img_size,img_size,color)\n",
    "    labels=np.zeros(number_of_data,dtype=np.int32)\n",
    "\n",
    "    idx=0\n",
    "    for file in glob.iglob(img_path+'/scissor/*.jpg'):\n",
    "        img = np.array(Image.open(file),dtype=np.int32)\n",
    "        imgs[idx,:,:,:]=img    # 데이터 영역에 이미지 행렬을 복사\n",
    "        labels[idx]=0   # 가위 : 0\n",
    "        idx=idx+1\n",
    "\n",
    "    for file in glob.iglob(img_path+'/rock/*.jpg'):\n",
    "        img = np.array(Image.open(file),dtype=np.int32)\n",
    "        imgs[idx,:,:,:]=img    # 데이터 영역에 이미지 행렬을 복사\n",
    "        labels[idx]=1   # 바위 : 1\n",
    "        idx=idx+1  \n",
    "    \n",
    "    for file in glob.iglob(img_path+'/paper/*.jpg'):\n",
    "        img = np.array(Image.open(file),dtype=np.int32)\n",
    "        imgs[idx,:,:,:]=img    # 데이터 영역에 이미지 행렬을 복사\n",
    "        labels[idx]=2   # 보 : 2\n",
    "        idx=idx+1\n",
    "        \n",
    "    print(\"학습데이터(x_train)의 이미지 개수는\", idx,\"입니다.\")\n",
    "    return imgs, labels\n",
    "\n"
   ]
  },
  {
   "cell_type": "code",
   "execution_count": 66,
   "id": "2bfd28be",
   "metadata": {},
   "outputs": [
    {
     "name": "stdout",
     "output_type": "stream",
     "text": [
      "학습데이터(x_train)의 이미지 개수는 1500 입니다.\n",
      "x_train shape: (1500, 28, 28, 3)\n",
      "y_train shape: (1500,)\n"
     ]
    }
   ],
   "source": [
    "image_dir_path = os.getenv(\"HOME\") + \"/aiffel/Exploration/EX1/data/data_all_users\"\n",
    "(x_train, y_train)=load_data(image_dir_path, (len(members)+1)*300) #추가한 사진들의 수에 맞게\n",
    "x_train_norm = x_train/255.0   # 입력은 0~1 사이의 값으로 정규화\n",
    "\n",
    "print(\"x_train shape: {}\".format(x_train.shape))\n",
    "print(\"y_train shape: {}\".format(y_train.shape))"
   ]
  },
  {
   "cell_type": "markdown",
   "id": "151eeb67",
   "metadata": {},
   "source": [
    "### 이미지 확인하기"
   ]
  },
  {
   "cell_type": "code",
   "execution_count": 74,
   "id": "8123591f",
   "metadata": {},
   "outputs": [
    {
     "name": "stdout",
     "output_type": "stream",
     "text": [
      "라벨:  0\n"
     ]
    },
    {
     "data": {
      "image/png": "[encoded data removed]",
      "text/plain": [
       "<Figure size 432x288 with 1 Axes>"
      ]
     },
     "metadata": {
      "needs_background": "light"
     },
     "output_type": "display_data"
    }
   ],
   "source": [
    "plt.imshow(x_train[0])\n",
    "print('라벨: ', y_train[0])"
   ]
  },
  {
   "cell_type": "markdown",
   "id": "baaffd17",
   "metadata": {},
   "source": [
    "## 모델 설계"
   ]
  },
  {
   "cell_type": "code",
   "execution_count": 117,
   "id": "c7ad3337",
   "metadata": {},
   "outputs": [
    {
     "name": "stdout",
     "output_type": "stream",
     "text": [
      "Model: \"sequential_17\"\n",
      "_________________________________________________________________\n",
      "Layer (type)                 Output Shape              Param #   \n",
      "=================================================================\n",
      "conv2d_44 (Conv2D)           (None, 26, 26, 128)       3584      \n",
      "_________________________________________________________________\n",
      "batch_normalization_28 (Batc (None, 26, 26, 128)       512       \n",
      "_________________________________________________________________\n",
      "activation_22 (Activation)   (None, 26, 26, 128)       0         \n",
      "_________________________________________________________________\n",
      "conv2d_45 (Conv2D)           (None, 24, 24, 64)        73792     \n",
      "_________________________________________________________________\n",
      "max_pooling2d_22 (MaxPooling (None, 12, 12, 64)        0         \n",
      "_________________________________________________________________\n",
      "conv2d_46 (Conv2D)           (None, 10, 10, 32)        18464     \n",
      "_________________________________________________________________\n",
      "batch_normalization_29 (Batc (None, 10, 10, 32)        128       \n",
      "_________________________________________________________________\n",
      "activation_23 (Activation)   (None, 10, 10, 32)        0         \n",
      "_________________________________________________________________\n",
      "conv2d_47 (Conv2D)           (None, 8, 8, 32)          9248      \n",
      "_________________________________________________________________\n",
      "max_pooling2d_23 (MaxPooling (None, 4, 4, 32)          0         \n",
      "_________________________________________________________________\n",
      "flatten_17 (Flatten)         (None, 512)               0         \n",
      "_________________________________________________________________\n",
      "dense_51 (Dense)             (None, 64)                32832     \n",
      "_________________________________________________________________\n",
      "dropout_34 (Dropout)         (None, 64)                0         \n",
      "_________________________________________________________________\n",
      "dense_52 (Dense)             (None, 64)                4160      \n",
      "_________________________________________________________________\n",
      "dropout_35 (Dropout)         (None, 64)                0         \n",
      "_________________________________________________________________\n",
      "dense_53 (Dense)             (None, 3)                 195       \n",
      "=================================================================\n",
      "Total params: 142,915\n",
      "Trainable params: 142,595\n",
      "Non-trainable params: 320\n",
      "_________________________________________________________________\n"
     ]
    }
   ],
   "source": [
    "model=keras.models.Sequential()\n",
    "model.add(keras.layers.Conv2D(128, (3,3), input_shape=(28,28,3)))\n",
    "model.add(keras.layers.BatchNormalization())\n",
    "model.add(keras.layers.Activation('swish'))\n",
    "model.add(keras.layers.Conv2D(64, (3,3), activation='swish'))\n",
    "model.add(keras.layers.MaxPooling2D((2,2)))\n",
    "\n",
    "model.add(keras.layers.Conv2D(32, (3,3) ))\n",
    "model.add(keras.layers.BatchNormalization())\n",
    "model.add(keras.layers.Activation('swish'))\n",
    "model.add(keras.layers.Conv2D(32, (3,3), activation='swish'))\n",
    "model.add(keras.layers.MaxPooling2D((2,2)))\n",
    "\n",
    "model.add(keras.layers.Flatten())\n",
    "#model.add(keras.layers.Dense(n_dense, activation='relu'))\n",
    "\n",
    "model.add(keras.layers.Dense(64, activation='swish'))\n",
    "#model.add(keras.layers.BatchNormalization())\n",
    "model.add(keras.layers.Dropout(0.5))\n",
    "model.add(keras.layers.Dense(64, activation='swish'))\n",
    "#model.add(keras.layers.BatchNormalization())\n",
    "model.add(keras.layers.Dropout(0.2))\n",
    "model.add(keras.layers.Dense(3, activation='softmax'))\n",
    "\n",
    "model.summary()"
   ]
  },
  {
   "cell_type": "markdown",
   "id": "5dd22b68",
   "metadata": {},
   "source": [
    "## 모델 학습"
   ]
  },
  {
   "cell_type": "code",
   "execution_count": 118,
   "id": "1130c7d0",
   "metadata": {},
   "outputs": [
    {
     "name": "stdout",
     "output_type": "stream",
     "text": [
      "Epoch 1/13\n",
      "47/47 [==============================] - 1s 8ms/step - loss: 1.0282 - accuracy: 0.4573\n",
      "Epoch 2/13\n",
      "47/47 [==============================] - 0s 7ms/step - loss: 0.7557 - accuracy: 0.6587\n",
      "Epoch 3/13\n",
      "47/47 [==============================] - 0s 7ms/step - loss: 0.6004 - accuracy: 0.7393\n",
      "Epoch 4/13\n",
      "47/47 [==============================] - 0s 7ms/step - loss: 0.4653 - accuracy: 0.8087\n",
      "Epoch 5/13\n",
      "47/47 [==============================] - 0s 7ms/step - loss: 0.3426 - accuracy: 0.8660\n",
      "Epoch 6/13\n",
      "47/47 [==============================] - 0s 7ms/step - loss: 0.2608 - accuracy: 0.9013\n",
      "Epoch 7/13\n",
      "47/47 [==============================] - 0s 7ms/step - loss: 0.2596 - accuracy: 0.9033\n",
      "Epoch 8/13\n",
      "47/47 [==============================] - 0s 7ms/step - loss: 0.1814 - accuracy: 0.9313\n",
      "Epoch 9/13\n",
      "47/47 [==============================] - 0s 7ms/step - loss: 0.1415 - accuracy: 0.9460\n",
      "Epoch 10/13\n",
      "47/47 [==============================] - 0s 7ms/step - loss: 0.0868 - accuracy: 0.9687\n",
      "Epoch 11/13\n",
      "47/47 [==============================] - 0s 7ms/step - loss: 0.1314 - accuracy: 0.9507\n",
      "Epoch 12/13\n",
      "47/47 [==============================] - 0s 7ms/step - loss: 0.0708 - accuracy: 0.9833\n",
      "Epoch 13/13\n",
      "47/47 [==============================] - 0s 7ms/step - loss: 0.1005 - accuracy: 0.9680\n"
     ]
    },
    {
     "data": {
      "text/plain": [
       "<tensorflow.python.training.tracking.util.CheckpointLoadStatus at 0x7ff71473cfa0>"
      ]
     },
     "execution_count": 118,
     "metadata": {},
     "output_type": "execute_result"
    }
   ],
   "source": [
    "model.compile(optimizer='adam',\n",
    "             loss='sparse_categorical_crossentropy',\n",
    "             metrics=['accuracy'])\n",
    "#콜백 함수\n",
    "checkpoint_filepath = '/tmp/checkpoint'\n",
    "model_checkpoint_callback = tf.keras.callbacks.ModelCheckpoint(\n",
    "    filepath=checkpoint_filepath,\n",
    "    save_weights_only=True,\n",
    "    monitor='loss',\n",
    "    mode='min',\n",
    "    save_best_only=True)\n",
    "\n",
    "# 모델 훈련\n",
    "model.fit(x_train_norm, y_train, callbacks = [model_checkpoint_callback], epochs=13)\n",
    "model.load_weights(checkpoint_filepath)\n"
   ]
  },
  {
   "cell_type": "markdown",
   "id": "ca24aac7",
   "metadata": {},
   "source": [
    "## Test Data 준비"
   ]
  },
  {
   "cell_type": "code",
   "execution_count": 106,
   "id": "97aa7ab0",
   "metadata": {},
   "outputs": [
    {
     "name": "stdout",
     "output_type": "stream",
     "text": [
      "100  images to be resized.\n",
      "100  images resized.\n",
      "100  images to be resized.\n",
      "100  images resized.\n",
      "100  images to be resized.\n",
      "100  images resized.\n",
      "학습데이터(x_train)의 이미지 개수는 300 입니다.\n",
      "x_test shape: (300, 28, 28, 3)\n",
      "y_test shape: (300,)\n"
     ]
    }
   ],
   "source": [
    "#Resizing\n",
    "for class_ in [\"rock\", \"scissor\", \"paper\"]:\n",
    "    image_dir_path = os.getenv(\"HOME\") + \"/aiffel/Exploration/EX1/data/rock_scissor_paper_given/test/\" + class_\n",
    "    resize_images(image_dir_path)\n",
    "    \n",
    "\n",
    "#Loading                  \n",
    "image_dir_path = os.getenv(\"HOME\") + \"/aiffel/Exploration/EX1/data/rock_scissor_paper_given/test\"\n",
    "                  \n",
    "(x_test, y_test)=load_data(image_dir_path, 300)\n",
    "x_test_norm = x_test/255.0   # 입력은 0~1 사이의 값으로 정규화\n",
    "\n",
    "print(\"x_test shape: {}\".format(x_test.shape))\n",
    "print(\"y_test shape: {}\".format(y_test.shape))"
   ]
  },
  {
   "cell_type": "markdown",
   "id": "56e8d936",
   "metadata": {},
   "source": [
    "## 모델 평가"
   ]
  },
  {
   "cell_type": "code",
   "execution_count": 119,
   "id": "3c8e6d21",
   "metadata": {},
   "outputs": [
    {
     "name": "stdout",
     "output_type": "stream",
     "text": [
      "10/10 - 0s - loss: 1.3894 - accuracy: 0.7167\n",
      "test_loss: 1.3893829584121704 \n",
      "test_accuracy: 0.7166666388511658\n"
     ]
    }
   ],
   "source": [
    "test_loss, test_accuracy = model.evaluate(x_test_norm, y_test, verbose=2)\n",
    "print(\"test_loss: {} \".format(test_loss))\n",
    "print(\"test_accuracy: {}\".format(test_accuracy))"
   ]
  },
  {
   "cell_type": "code",
   "execution_count": null,
   "id": "38d82d2e",
   "metadata": {},
   "outputs": [],
   "source": []
  }
 ],
 "metadata": {
  "kernelspec": {
   "display_name": "Python 3 (ipykernel)",
   "language": "python",
   "name": "python3"
  },
  "language_info": {
   "codemirror_mode": {
    "name": "ipython",
    "version": 3
   },
   "file_extension": ".py",
   "mimetype": "text/x-python",
   "name": "python",
   "nbconvert_exporter": "python",
   "pygments_lexer": "ipython3",
   "version": "3.9.7"
  }
 },
 "nbformat": 4,
 "nbformat_minor": 5
}
